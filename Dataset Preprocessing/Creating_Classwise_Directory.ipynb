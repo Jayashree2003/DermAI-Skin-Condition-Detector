{
  "nbformat": 4,
  "nbformat_minor": 0,
  "metadata": {
    "colab": {
      "provenance": []
    },
    "kernelspec": {
      "name": "python3",
      "display_name": "Python 3"
    },
    "language_info": {
      "name": "python"
    }
  },
  "cells": [
    {
      "cell_type": "code",
      "source": [
        "import os\n",
        "import shutil"
      ],
      "metadata": {
        "id": "f1fMV8bQMj3d"
      },
      "execution_count": 1,
      "outputs": []
    },
    {
      "cell_type": "markdown",
      "source": [
        "**Saving the names of images in a list**"
      ],
      "metadata": {
        "id": "A9CQVMW7qNTV"
      }
    },
    {
      "cell_type": "code",
      "source": [
        "folder_path=\"/content/drive/MyDrive/HAM10000_images_part_1\"\n",
        "image_name=[]\n",
        "for image_file in os.listdir(folder_path):\n",
        "    image_path = os.path.join(folder_path, image_file)\n",
        "    j=str(image_path).split(\"/\")\n",
        "    image_name.append(j[-1])"
      ],
      "metadata": {
        "id": "jIkKLluhkbXD"
      },
      "execution_count": null,
      "outputs": []
    },
    {
      "cell_type": "code",
      "source": [
        "\n",
        "folder_path=\"/content/drive/MyDrive/HAM10000_images_part_2\"\n",
        "for image_file in os.listdir(folder_path):\n",
        "    image_path = os.path.join(folder_path, image_file)\n",
        "    j=str(image_path).split(\"/\")\n",
        "    image_name.append(j[-1])"
      ],
      "metadata": {
        "id": "eSopmwkJ1d-O"
      },
      "execution_count": null,
      "outputs": []
    },
    {
      "cell_type": "markdown",
      "source": [
        "**Saving the class names of the image_id in a list**"
      ],
      "metadata": {
        "id": "M6w2rDgOqnhs"
      }
    },
    {
      "cell_type": "code",
      "source": [
        "import pandas as pd\n",
        "\n",
        "# Read the CSV file into a DataFrame\n",
        "data = pd.read_csv('/content/drive/MyDrive/HAM10000_metadata.csv')\n",
        "result=[]\n",
        "for i in image_name:\n",
        "  target_value = data.loc[data['image_id'] == i[:-4], 'dx'].values[0]\n",
        "  result.append(target_value)\n",
        "  print(target_value)"
      ],
      "metadata": {
        "id": "gn0SoHl-1P9w"
      },
      "execution_count": null,
      "outputs": []
    },
    {
      "cell_type": "markdown",
      "source": [
        "**Saving the images in classwise directory**"
      ],
      "metadata": {
        "id": "3rrrvcmgqzZO"
      }
    },
    {
      "cell_type": "code",
      "source": [
        "folder_path=\"/content/drive/MyDrive/HAM10000_images_part_2\"\n",
        "destination_folder = \"/content/drive/MyDrive/Classwisefolder/akiec\"\n",
        "\n",
        "for i,j in zip(image_name,result):\n",
        "  if j=='akiec':\n",
        "    image_path = os.path.join(folder_path, i)\n",
        "    shutil.copy(image_path, os.path.join(destination_folder, os.path.basename(image_path)))"
      ],
      "metadata": {
        "id": "iy8kXjY49X3h"
      },
      "execution_count": null,
      "outputs": []
    },
    {
      "cell_type": "code",
      "source": [
        "folder_path=\"/content/drive/MyDrive/HAM10000_images_part_1\"\n",
        "destination_folder = \"/content/drive/MyDrive/Classwisefolder/akiec\"\n",
        "\n",
        "for i,j in zip(image_name,result):\n",
        "  if j=='akiec':\n",
        "    image_path = os.path.join(folder_path, i)\n",
        "    shutil.copy(image_path, os.path.join(destination_folder, os.path.basename(image_path)))"
      ],
      "metadata": {
        "id": "yZWVjuotnCBP"
      },
      "execution_count": null,
      "outputs": []
    },
    {
      "cell_type": "code",
      "source": [
        "folder_path=\"/content/drive/MyDrive/HAM10000_images_part_2\"\n",
        "destination_folder = \"/content/drive/MyDrive/Classwisefolder/bcc\"\n",
        "\n",
        "for i,j in zip(image_name,result):\n",
        "  if j=='bcc':\n",
        "    image_path = os.path.join(folder_path, i)\n",
        "    shutil.copy(image_path, os.path.join(destination_folder, os.path.basename(image_path)))"
      ],
      "metadata": {
        "id": "yeXxCqDo-RkG"
      },
      "execution_count": null,
      "outputs": []
    },
    {
      "cell_type": "code",
      "source": [
        "folder_path=\"/content/drive/MyDrive/HAM10000_images_part_1\"\n",
        "destination_folder = \"/content/drive/MyDrive/Classwisefolder/bcc\"\n",
        "\n",
        "for i,j in zip(image_name,result):\n",
        "  if j=='bcc':\n",
        "    image_path = os.path.join(folder_path, i)\n",
        "    shutil.copy(image_path, os.path.join(destination_folder, os.path.basename(image_path)))"
      ],
      "metadata": {
        "id": "ICLoE5CHnF_k"
      },
      "execution_count": null,
      "outputs": []
    },
    {
      "cell_type": "code",
      "source": [
        "folder_path=\"/content/drive/MyDrive/HAM10000_images_part_2\"\n",
        "destination_folder = \"/content/drive/MyDrive/Classwisefolder/bkl\"\n",
        "\n",
        "for i,j in zip(image_name,result):\n",
        "  if j=='bkl':\n",
        "    image_path = os.path.join(folder_path, i)\n",
        "    shutil.copy(image_path, os.path.join(destination_folder, os.path.basename(image_path)))"
      ],
      "metadata": {
        "id": "mEd-Py1g-W3e"
      },
      "execution_count": null,
      "outputs": []
    },
    {
      "cell_type": "code",
      "source": [
        "folder_path=\"/content/drive/MyDrive/HAM10000_images_part_1\"\n",
        "destination_folder = \"/content/drive/MyDrive/Classwisefolder/bkl\"\n",
        "\n",
        "for i,j in zip(image_name,result):\n",
        "  if j=='bkl':\n",
        "    image_path = os.path.join(folder_path, i)\n",
        "    shutil.copy(image_path, os.path.join(destination_folder, os.path.basename(image_path)))"
      ],
      "metadata": {
        "id": "R3XISZGanJNE"
      },
      "execution_count": null,
      "outputs": []
    },
    {
      "cell_type": "code",
      "source": [
        "folder_path=\"/content/drive/MyDrive/HAM10000_images_part_2\"\n",
        "destination_folder = \"/content/drive/MyDrive/Classwisefolder/df\"\n",
        "\n",
        "for i,j in zip(image_name,result):\n",
        "  if j=='df':\n",
        "    image_path = os.path.join(folder_path, i)\n",
        "    shutil.copy(image_path, os.path.join(destination_folder, os.path.basename(image_path)))"
      ],
      "metadata": {
        "id": "p3coROHr-cul"
      },
      "execution_count": null,
      "outputs": []
    },
    {
      "cell_type": "code",
      "source": [
        "folder_path=\"/content/drive/MyDrive/HAM10000_images_part_1\"\n",
        "destination_folder = \"/content/drive/MyDrive/Classwisefolder/df\"\n",
        "\n",
        "for i,j in zip(image_name,result):\n",
        "  if j=='df':\n",
        "    image_path = os.path.join(folder_path, i)\n",
        "    shutil.copy(image_path, os.path.join(destination_folder, os.path.basename(image_path)))"
      ],
      "metadata": {
        "id": "TNuN4OBtnN3L"
      },
      "execution_count": null,
      "outputs": []
    },
    {
      "cell_type": "code",
      "source": [
        "folder_path=\"/content/drive/MyDrive/HAM10000_images_part_2\"\n",
        "destination_folder = \"/content/drive/MyDrive/Classwisefolder/mel\"\n",
        "\n",
        "for i,j in zip(image_name,result):\n",
        "  if j=='mel':\n",
        "    image_path = os.path.join(folder_path, i)\n",
        "    shutil.copy(image_path, os.path.join(destination_folder, os.path.basename(image_path)))"
      ],
      "metadata": {
        "id": "axlacQHu-ire"
      },
      "execution_count": null,
      "outputs": []
    },
    {
      "cell_type": "code",
      "source": [
        "folder_path=\"/content/drive/MyDrive/HAM10000_images_part_1\"\n",
        "destination_folder = \"/content/drive/MyDrive/Classwisefolder/mel\"\n",
        "\n",
        "for i,j in zip(image_name,result):\n",
        "  if j=='mel':\n",
        "    image_path = os.path.join(folder_path, i)\n",
        "    shutil.copy(image_path, os.path.join(destination_folder, os.path.basename(image_path)))"
      ],
      "metadata": {
        "id": "cNPewqxknRIr"
      },
      "execution_count": null,
      "outputs": []
    },
    {
      "cell_type": "code",
      "source": [
        "folder_path=\"/content/drive/MyDrive/HAM10000_images_part_2\"\n",
        "destination_folder = \"/content/drive/MyDrive/Classwisefolder/nv\"\n",
        "\n",
        "for i,j in zip(image_name,result):\n",
        "  if j=='nv':\n",
        "    image_path = os.path.join(folder_path, i)\n",
        "    shutil.copy(image_path, os.path.join(destination_folder, os.path.basename(image_path)))"
      ],
      "metadata": {
        "id": "_e9KzlWI-n8s"
      },
      "execution_count": null,
      "outputs": []
    },
    {
      "cell_type": "code",
      "source": [
        "folder_path=\"/content/drive/MyDrive/HAM10000_images_part_1\"\n",
        "destination_folder = \"/content/drive/MyDrive/Classwisefolder/nv\"\n",
        "\n",
        "for i,j in zip(image_name,result):\n",
        "  if j=='nv':\n",
        "    image_path = os.path.join(folder_path, i)\n",
        "    shutil.copy(image_path, os.path.join(destination_folder, os.path.basename(image_path)))"
      ],
      "metadata": {
        "id": "NAENQQasnT9d"
      },
      "execution_count": null,
      "outputs": []
    },
    {
      "cell_type": "code",
      "source": [
        "folder_path=\"/content/drive/MyDrive/HAM10000_images_part_2\"\n",
        "destination_folder = \"/content/drive/MyDrive/Classwisefolder/vasc\"\n",
        "\n",
        "for i,j in zip(image_name,result):\n",
        "  if j=='vasc':\n",
        "    image_path = os.path.join(folder_path, i)\n",
        "    shutil.copy(image_path, os.path.join(destination_folder, os.path.basename(image_path)))"
      ],
      "metadata": {
        "id": "uIiF1Obs-tzt"
      },
      "execution_count": null,
      "outputs": []
    },
    {
      "cell_type": "code",
      "source": [
        "folder_path=\"/content/drive/MyDrive/HAM10000_images_part_1\"\n",
        "destination_folder = \"/content/drive/MyDrive/Classwisefolder/vasc\"\n",
        "\n",
        "for i,j in zip(image_name,result):\n",
        "  if j=='vasc':\n",
        "    image_path = os.path.join(folder_path, i)\n",
        "    shutil.copy(image_path, os.path.join(destination_folder, os.path.basename(image_path)))"
      ],
      "metadata": {
        "id": "-jDCPyh9nWcL"
      },
      "execution_count": null,
      "outputs": []
    },
    {
      "cell_type": "markdown",
      "source": [
        "**Collecting the extra dataset from ISIC 2019 and adding it to classwise directory**"
      ],
      "metadata": {
        "id": "LmxahryKrAoC"
      }
    },
    {
      "cell_type": "code",
      "source": [
        "folder_path=\"/content/drive/MyDrive/ISICEXTRA/VASC\"\n",
        "image_name=[]\n",
        "for image_file in os.listdir(folder_path):\n",
        "    image_path = os.path.join(folder_path, image_file)\n",
        "    j=str(image_path).split(\"/\")\n",
        "    image_name.append(j[-1])"
      ],
      "metadata": {
        "id": "DpHkIcfsM2uT"
      },
      "execution_count": null,
      "outputs": []
    },
    {
      "cell_type": "code",
      "source": [
        "folder_path=\"/content/drive/MyDrive/ISICEXTRA/VASC\"\n",
        "image_name=[]\n",
        "for image_file in os.listdir(folder_path):\n",
        "    image_path = os.path.join(folder_path, image_file)\n",
        "    j=str(image_path).split(\"/\")\n",
        "    image_name.append(j[-1])"
      ],
      "metadata": {
        "id": "owt3wnJypuBl"
      },
      "execution_count": null,
      "outputs": []
    },
    {
      "cell_type": "code",
      "source": [
        "folder_path=\"/content/drive/MyDrive/Classwisefolder/vasc\"\n",
        "image_name1=[]\n",
        "for image_file in os.listdir(folder_path):\n",
        "    image_path = os.path.join(folder_path, image_file)\n",
        "    j=str(image_path).split(\"/\")\n",
        "    image_name1.append(j[-1])"
      ],
      "metadata": {
        "id": "X6dEyPj3V81I"
      },
      "execution_count": null,
      "outputs": []
    },
    {
      "cell_type": "code",
      "source": [
        "extra_vasc=[]\n",
        "for i in image_name:\n",
        "  if i not in image_name1:\n",
        "    extra_vasc.append(i)"
      ],
      "metadata": {
        "id": "HhXkJpZEpcfm"
      },
      "execution_count": null,
      "outputs": []
    },
    {
      "cell_type": "code",
      "source": [
        "folder_path=\"/content/drive/MyDrive/ISICEXTRA/DF\"\n",
        "image_name=[]\n",
        "for image_file in os.listdir(folder_path):\n",
        "    image_path = os.path.join(folder_path, image_file)\n",
        "    j=str(image_path).split(\"/\")\n",
        "    image_name.append(j[-1])"
      ],
      "metadata": {
        "id": "zWer2ugRp1zN"
      },
      "execution_count": null,
      "outputs": []
    },
    {
      "cell_type": "code",
      "source": [
        "folder_path=\"/content/drive/MyDrive/Classwisefolder/df\"\n",
        "image_name1=[]\n",
        "for image_file in os.listdir(folder_path):\n",
        "    image_path = os.path.join(folder_path, image_file)\n",
        "    j=str(image_path).split(\"/\")\n",
        "    image_name1.append(j[-1])"
      ],
      "metadata": {
        "id": "ajUV8hA3p1_1"
      },
      "execution_count": null,
      "outputs": []
    },
    {
      "cell_type": "code",
      "source": [
        "extra_df=[]\n",
        "for i in image_name:\n",
        "  if i not in image_name1:\n",
        "    extra_df.append(i)"
      ],
      "metadata": {
        "id": "BaxeUCOHT8jj"
      },
      "execution_count": null,
      "outputs": []
    },
    {
      "cell_type": "code",
      "source": [
        "folder_path=\"/content/drive/MyDrive/ISICEXTRA/DF\"\n",
        "destination_folder = \"/content/drive/MyDrive/Classwisefolder/df\"\n",
        "\n",
        "for i in extra_df:\n",
        "    image_path = os.path.join(folder_path, i)\n",
        "    shutil.copy(image_path, os.path.join(destination_folder, os.path.basename(image_path)))"
      ],
      "metadata": {
        "id": "xTA36ZPco8EA"
      },
      "execution_count": null,
      "outputs": []
    },
    {
      "cell_type": "code",
      "source": [
        "folder_path=\"/content/drive/MyDrive/ISICEXTRA/VASC\"\n",
        "destination_folder = \"/content/drive/MyDrive/Classwisefolder/vasc\"\n",
        "\n",
        "for i in extra_vasc:\n",
        "    image_path = os.path.join(folder_path, i)\n",
        "    shutil.copy(image_path, os.path.join(destination_folder, os.path.basename(image_path)))"
      ],
      "metadata": {
        "id": "bIoIcBHwXOiE"
      },
      "execution_count": null,
      "outputs": []
    }
  ]
}