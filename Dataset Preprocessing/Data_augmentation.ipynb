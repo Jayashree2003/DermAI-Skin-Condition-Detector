{
  "cells": [
    {
      "cell_type": "code",
      "source": [
        "import os\r\n",
        "import cv2\r\n",
        "import shutil\r\n",
        "import random\r\n",
        "from tensorflow.keras.preprocessing.image import ImageDataGenerator"
      ],
      "outputs": [],
      "execution_count": null,
      "metadata": {}
    },
    {
      "cell_type": "code",
      "source": [
        "dataset_dir = '/content/drive/MyDrive/Classwisefolder'\r\n",
        "\r\n",
        "output_dir = '/content/drive/MyDrive/augmented_dataset'\r\n",
        "\r\n",
        "#output directory\r\n",
        "os.makedirs(output_dir, exist_ok=True)\r\n",
        "\r\n",
        "#desired number of images per class\r\n",
        "target_images_per_class = 1000"
      ],
      "outputs": [],
      "execution_count": null,
      "metadata": {
        "jupyter": {
          "source_hidden": false,
          "outputs_hidden": false
        },
        "nteract": {
          "transient": {
            "deleting": false
          }
        }
      }
    },
    {
      "cell_type": "code",
      "source": [
        "#data generator\r\n",
        "data_generator = ImageDataGenerator(\r\n",
        "    rotation_range=30,\r\n",
        "    width_shift_range=0.1,\r\n",
        "    height_shift_range=0.1,\r\n",
        "    shear_range=0.2,\r\n",
        "    zoom_range=0.2,\r\n",
        "    horizontal_flip=True,\r\n",
        "    vertical_flip=True\r\n",
        ")"
      ],
      "outputs": [],
      "execution_count": null,
      "metadata": {
        "jupyter": {
          "source_hidden": false,
          "outputs_hidden": false
        },
        "nteract": {
          "transient": {
            "deleting": false
          }
        }
      }
    },
    {
      "cell_type": "code",
      "source": [
        "# Iterate through the class folders\r\n",
        "for class_name in os.listdir(dataset_dir):\r\n",
        "    class_dir = os.path.join(dataset_dir, class_name)\r\n",
        "    output_class_dir = os.path.join(output_dir, class_name)\r\n",
        "    os.makedirs(output_class_dir, exist_ok=True)\r\n",
        "\r\n",
        "    #list of image files in the class folder\r\n",
        "    image_files = [f for f in os.listdir(class_dir) if f.endswith('.jpg')]\r\n",
        "\r\n",
        "    #the number of images to augment or reduce for this class\r\n",
        "    num_images = len(image_files)\r\n",
        "    num_images_diff = target_images_per_class - num_images\r\n",
        "\r\n",
        "    #Check if the number of images to be sampled exceeds the available population\r\n",
        "    if num_images_diff > num_images:\r\n",
        "        num_images_diff = num_images\r\n",
        "\r\n",
        "    #Randomly sample images to augment or reduce\r\n",
        "    if num_images_diff > 0:\r\n",
        "        images_to_augment = random.sample(image_files, num_images_diff)\r\n",
        "        images_to_keep = image_files\r\n",
        "    else:\r\n",
        "        images_to_augment = []\r\n",
        "        images_to_keep = random.sample(image_files, target_images_per_class)\r\n",
        "\r\n",
        "    #copy the images to the output directory\r\n",
        "    for image_file in images_to_augment:\r\n",
        "        image_path = os.path.join(class_dir, image_file)\r\n",
        "        output_image_path = os.path.join(output_class_dir, image_file)\r\n",
        "        img = cv2.imread(image_path)\r\n",
        "        img = cv2.cvtColor(img, cv2.COLOR_BGR2RGB)  \r\n",
        "        img = img.reshape((1,) + img.shape) \r\n",
        "        i = 0\r\n",
        "        for batch in data_generator.flow(img, batch_size=1, save_to_dir=output_class_dir, save_prefix='augmented', save_format='jpg'):\r\n",
        "            i += 1\r\n",
        "            if i >= 5:\r\n",
        "                break\r\n",
        "\r\n",
        "    for image_file in images_to_keep:\r\n",
        "        image_path = os.path.join(class_dir, image_file)\r\n",
        "        output_image_path = os.path.join(output_class_dir, image_file)\r\n",
        "        shutil.copyfile(image_path, output_image_path)\r\n"
      ],
      "outputs": [],
      "execution_count": null,
      "metadata": {
        "jupyter": {
          "source_hidden": false,
          "outputs_hidden": false
        },
        "nteract": {
          "transient": {
            "deleting": false
          }
        }
      }
    }
  ],
  "metadata": {
    "kernelspec": {
      "display_name": "Python 3.10 - SDK v2",
      "language": "python",
      "name": "python310-sdkv2"
    },
    "language_info": {
      "codemirror_mode": {
        "name": "ipython",
        "version": 3
      },
      "file_extension": ".py",
      "mimetype": "text/x-python",
      "name": "python",
      "nbconvert_exporter": "python",
      "pygments_lexer": "ipython3",
      "version": "3.10.6"
    },
    "microsoft": {
      "ms_spell_check": {
        "ms_spell_check_language": "en"
      }
    },
    "nteract": {
      "version": "nteract-front-end@1.0.0"
    }
  },
  "nbformat": 4,
  "nbformat_minor": 2
}