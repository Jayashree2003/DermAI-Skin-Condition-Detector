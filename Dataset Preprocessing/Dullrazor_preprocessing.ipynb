{
  "cells": [
    {
      "cell_type": "code",
      "source": [
        "import cv2\r\n",
        "import os"
      ],
      "outputs": [],
      "execution_count": 1,
      "metadata": {
        "jupyter": {
          "source_hidden": false,
          "outputs_hidden": false
        },
        "nteract": {
          "transient": {
            "deleting": false
          }
        },
        "gather": {
          "logged": 1690872651587
        }
      }
    },
    {
      "cell_type": "code",
      "source": [
        "def dullrazor(folder_path,result_path):\r\n",
        "\r\n",
        "    image_name=[]\r\n",
        "    os.makedirs(result_path)\r\n",
        "    for image_file in os.listdir(folder_path):\r\n",
        "        if \"amlignore\" not in image_file:\r\n",
        "            image_path = os.path.join(folder_path, image_file)\r\n",
        "            image=cv2.imread(image_path,cv2.IMREAD_COLOR)\r\n",
        "            img=image\r\n",
        "\r\n",
        "            #DULL RAZOR (REMOVE HAIR)\r\n",
        "\r\n",
        "            #Gray scale\r\n",
        "            grayScale = cv2.cvtColor(img, cv2.COLOR_RGB2GRAY )\r\n",
        "            #Black hat filter\r\n",
        "            kernel = cv2.getStructuringElement(1,(9,9))\r\n",
        "            blackhat = cv2.morphologyEx(grayScale, cv2.MORPH_BLACKHAT, kernel)\r\n",
        "            #Gaussian filter\r\n",
        "            bhg= cv2.GaussianBlur(blackhat,(3,3),cv2.BORDER_DEFAULT)\r\n",
        "            #Binary thresholding (MASK)\r\n",
        "            ret,mask = cv2.threshold(bhg,10,255,cv2.THRESH_BINARY)\r\n",
        "            #Replace pixels of the mask\r\n",
        "            dst = cv2.inpaint(img,mask,6,cv2.INPAINT_TELEA)\r\n",
        "\r\n",
        "            #Display images\r\n",
        "            output_path = os.path.join(result_path, image_file)\r\n",
        "            cv2.imwrite(output_path, dst)"
      ],
      "outputs": [],
      "execution_count": 20,
      "metadata": {
        "jupyter": {
          "source_hidden": false,
          "outputs_hidden": false
        },
        "nteract": {
          "transient": {
            "deleting": false
          }
        },
        "gather": {
          "logged": 1690821691978
        }
      }
    },
    {
      "cell_type": "code",
      "source": [
        "dullrazor('augmented_dataset/akiec','dullrazor_augmented/akiec')\r\n",
        "dullrazor('augmented_dataset/bcc','dullrazor_augmented/bcc')\r\n",
        "dullrazor('augmented_dataset/bkl','dullrazor_augmented/bkl')\r\n",
        "dullrazor('augmented_dataset/df','dullrazor_augmented/df')\r\n",
        "dullrazor('augmented_dataset/mel','dullrazor_augmented/mel')\r\n",
        "dullrazor('augmented_dataset/nv','dullrazor_augmented/nv')\r\n",
        "dullrazor('augmented_dataset/vasc','dullrazor_augmented/vasc')"
      ],
      "outputs": [],
      "execution_count": 15,
      "metadata": {
        "jupyter": {
          "source_hidden": false,
          "outputs_hidden": false
        },
        "nteract": {
          "transient": {
            "deleting": false
          }
        },
        "gather": {
          "logged": 1690821336028
        }
      }
    }
  ],
  "metadata": {
    "kernelspec": {
      "name": "python310-sdkv2",
      "language": "python",
      "display_name": "Python 3.10 - SDK v2"
    },
    "language_info": {
      "name": "python",
      "version": "3.10.11",
      "mimetype": "text/x-python",
      "codemirror_mode": {
        "name": "ipython",
        "version": 3
      },
      "pygments_lexer": "ipython3",
      "nbconvert_exporter": "python",
      "file_extension": ".py"
    },
    "microsoft": {
      "ms_spell_check": {
        "ms_spell_check_language": "en"
      },
      "host": {
        "AzureML": {
          "notebookHasBeenCompleted": true
        }
      }
    },
    "kernel_info": {
      "name": "python310-sdkv2"
    },
    "nteract": {
      "version": "nteract-front-end@1.0.0"
    }
  },
  "nbformat": 4,
  "nbformat_minor": 2
}