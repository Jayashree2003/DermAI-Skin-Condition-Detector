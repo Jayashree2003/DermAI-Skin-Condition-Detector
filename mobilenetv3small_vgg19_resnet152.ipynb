{
  "cells": [
    {
      "cell_type": "code",
      "source": [
        "import os\n",
        "# os.environ[\"CUDA_VISIBLE_DEVICES\"] = \"\"\n",
        "import random\n",
        "import shutil\n",
        "import cv2\n",
        "import pandas as pd\n",
        "from PIL import Image\n",
        "from glob import glob\n",
        "import numpy as np\n",
        "from matplotlib import pyplot as plt\n",
        "\n",
        "\n",
        "from sklearn.model_selection import train_test_split\n",
        "from sklearn.metrics import f1_score, roc_auc_score,roc_curve, auc\n",
        "from sklearn.preprocessing import normalize\n",
        "from sklearn.metrics import classification_report\n",
        "\n",
        "from tensorflow.keras.preprocessing.image import ImageDataGenerator, load_img, img_to_array\n",
        "from tensorflow.keras.applications import VGG19, MobileNetV3Small, ResNet152\n",
        "from tensorflow.keras.models import Sequential, Model\n",
        "from tensorflow.keras.layers import Dense, Dropout, concatenate, GlobalAveragePooling2D, Input, BatchNormalization, LeakyReLU\n",
        "from tensorflow.keras.utils import to_categorical\n",
        "from tensorflow.keras.optimizers import Adam\n"
      ],
      "outputs": [],
      "execution_count": 34,
      "metadata": {
        "jupyter": {
          "source_hidden": false,
          "outputs_hidden": false
        },
        "nteract": {
          "transient": {
            "deleting": false
          }
        },
        "gather": {
          "logged": 1690971452050
        },
        "id": "fxYY2QeBFVmq"
      }
    },
    {
      "cell_type": "code",
      "source": [
        "augmented_dataset_path = 'dullrazor_augmented'\n",
        "\n",
        "\n",
        "#class_directories = [d for d in os.listdir(augmented_dataset_path) if os.path.isdir(os.path.join(augmented_dataset_path, d))]\n",
        "class_directories = ['akiec', 'bcc', 'bkl', 'df', 'mel', 'nv', 'vasc']\n",
        "#a dictionary to store the class names and their corresponding image counts\n",
        "class_image_counts = {}\n",
        "\n",
        "# Count the number of images in each class\n",
        "for class_name in class_directories:\n",
        "    class_path = os.path.join(augmented_dataset_path, class_name)\n",
        "    num_images = len(os.listdir(class_path))\n",
        "    class_image_counts[class_name] = num_images\n",
        "\n",
        "# Print the class distribution\n",
        "print(\"Class distribution in the augmented dataset:\")\n",
        "print(class_image_counts)\n"
      ],
      "outputs": [
        {
          "output_type": "stream",
          "name": "stdout",
          "text": "Class distribution in the augmented dataset:\n{'akiec': 3151, 'bcc': 2727, 'bkl': 1000, 'df': 1362, 'mel': 1000, 'nv': 1000, 'vasc': 1437}\n"
        }
      ],
      "execution_count": 2,
      "metadata": {
        "gather": {
          "logged": 1690969543124
        },
        "colab": {
          "base_uri": "https://localhost:8080/",
          "height": 235
        },
        "id": "w2T4M3PUFVm5",
        "outputId": "5f2b1a81-b60b-4d47-d4e8-629b19e43a4d"
      }
    },
    {
      "cell_type": "code",
      "source": [
        "class_directories"
      ],
      "outputs": [
        {
          "output_type": "execute_result",
          "execution_count": 3,
          "data": {
            "text/plain": "['akiec', 'bcc', 'bkl', 'df', 'mel', 'nv', 'vasc']"
          },
          "metadata": {}
        }
      ],
      "execution_count": 3,
      "metadata": {
        "jupyter": {
          "source_hidden": false,
          "outputs_hidden": false
        },
        "nteract": {
          "transient": {
            "deleting": false
          }
        },
        "gather": {
          "logged": 1690969556267
        },
        "id": "lPwVdPhDFVnV",
        "outputId": "1722d6be-ece5-4368-b452-cb6fbaaaa2c6"
      }
    },
    {
      "cell_type": "code",
      "source": [
        "#lists to store image names, paths, and classes\n",
        "image_names = []\n",
        "image_paths = []\n",
        "image_classes = []\n",
        "\n",
        "# Iterate through each class and collect image information\n",
        "for class_name in class_directories:\n",
        "    class_path = os.path.join(augmented_dataset_path, class_name)\n",
        "    for image_name in os.listdir(class_path):\n",
        "        if image_name!=\".amlignore\" and image_name!=\".amlignore.amltmp\":\n",
        "            image_names.append(image_name)\n",
        "            image_paths.append(os.path.join(class_path, image_name))\n",
        "            image_classes.append(class_name)\n",
        "\n",
        "#DataFrame from the collected information\n",
        "data = {\n",
        "    'Image_Name': image_names,\n",
        "    'Image_Path': image_paths,\n",
        "    'Class': image_classes\n",
        "}\n",
        "\n",
        "df = pd.DataFrame(data)\n",
        "\n",
        "#the DataFrame to verify the results\n",
        "print(df)\n"
      ],
      "outputs": [
        {
          "output_type": "stream",
          "name": "stdout",
          "text": "                 Image_Name                                      Image_Path  \\\n0         augmented_0_0.jpg     dullrazor_augmented/akiec/augmented_0_0.jpg   \n1         augmented_0_1.jpg     dullrazor_augmented/akiec/augmented_0_1.jpg   \n2       augmented_0_100.jpg   dullrazor_augmented/akiec/augmented_0_100.jpg   \n3      augmented_0_1004.jpg  dullrazor_augmented/akiec/augmented_0_1004.jpg   \n4      augmented_0_1013.jpg  dullrazor_augmented/akiec/augmented_0_1013.jpg   \n...                     ...                                             ...   \n11670      ISIC_0072937.jpg       dullrazor_augmented/vasc/ISIC_0072937.jpg   \n11671      ISIC_0072964.jpg       dullrazor_augmented/vasc/ISIC_0072964.jpg   \n11672      ISIC_0073012.jpg       dullrazor_augmented/vasc/ISIC_0073012.jpg   \n11673      ISIC_0073031.jpg       dullrazor_augmented/vasc/ISIC_0073031.jpg   \n11674      ISIC_0073110.jpg       dullrazor_augmented/vasc/ISIC_0073110.jpg   \n\n       Class  \n0      akiec  \n1      akiec  \n2      akiec  \n3      akiec  \n4      akiec  \n...      ...  \n11670   vasc  \n11671   vasc  \n11672   vasc  \n11673   vasc  \n11674   vasc  \n\n[11675 rows x 3 columns]\n"
        }
      ],
      "execution_count": 4,
      "metadata": {
        "jupyter": {
          "source_hidden": false,
          "outputs_hidden": false
        },
        "nteract": {
          "transient": {
            "deleting": false
          }
        },
        "gather": {
          "logged": 1690969558535
        },
        "id": "XgpJ-EkRFVnW",
        "outputId": "4b3f9b4a-ea57-4596-ca67-5ea1d4aad533"
      }
    },
    {
      "cell_type": "code",
      "source": [
        "df['image'] = df.Image_Path.map(lambda x: np.asarray(Image.open(x).resize((150, 112))))\n",
        "df['cell_type_idx'] = pd.Categorical(df.Class).codes"
      ],
      "outputs": [],
      "execution_count": 5,
      "metadata": {
        "jupyter": {
          "source_hidden": false,
          "outputs_hidden": false
        },
        "nteract": {
          "transient": {
            "deleting": false
          }
        },
        "gather": {
          "logged": 1690970187578
        },
        "id": "UJMt7BPdFVnX"
      }
    },
    {
      "cell_type": "code",
      "source": [
        "#To save the dataframe to csv\n",
        "df.to_csv('dataset_metadata.csv', index=False)"
      ],
      "outputs": [],
      "execution_count": 6,
      "metadata": {
        "jupyter": {
          "source_hidden": false,
          "outputs_hidden": false
        },
        "nteract": {
          "transient": {
            "deleting": false
          }
        },
        "gather": {
          "logged": 1690970202904
        },
        "id": "a5-tZQU6FVnX"
      }
    },
    {
      "cell_type": "code",
      "source": [
        "# Get a list of unique classes in the DataFrame\n",
        "unique_classes = df['Class'].unique()\n",
        "\n",
        "#lists to store train and test samples\n",
        "train_samples = []\n",
        "test_samples = []\n",
        "\n",
        "\n",
        "train_proportion = 0.8\n",
        "\n",
        "# Iterate through each class and split samples into train and test sets\n",
        "for class_name in unique_classes:\n",
        "    # Get the DataFrame subset for the current class\n",
        "    class_subset = df[df['Class'] == class_name]\n",
        "\n",
        "    # Split the subset into train and test sets\n",
        "    train_subset, test_subset = train_test_split(class_subset, train_size=train_proportion, stratify=class_subset['Class'])\n",
        "\n",
        "    # Append the train and test subsets to the corresponding lists\n",
        "    train_samples.append(train_subset)\n",
        "    test_samples.append(test_subset)\n",
        "\n",
        "# Concatenate the train and test samples for each class back into DataFrames\n",
        "train_df = pd.concat(train_samples)\n",
        "test_df = pd.concat(test_samples)\n",
        "\n",
        "#shuffle the train and test DataFrames\n",
        "train_df = train_df.sample(frac=1).reset_index(drop=True)\n",
        "test_df = test_df.sample(frac=1).reset_index(drop=True)\n",
        "\n",
        "# Print the sizes of the train and test sets for each class\n",
        "print(\"Training set sizes for each class:\")\n",
        "print(train_df['Class'].value_counts())\n",
        "\n",
        "print(\"\\nTesting set sizes for each class:\")\n",
        "print(test_df['Class'].value_counts())\n"
      ],
      "outputs": [
        {
          "output_type": "stream",
          "name": "stdout",
          "text": "Training set sizes for each class:\nClass\nakiec    2519\nbcc      2181\nvasc     1149\ndf       1089\nnv        800\nbkl       800\nmel       800\nName: count, dtype: int64\n\nTesting set sizes for each class:\nClass\nakiec    630\nbcc      546\nvasc     288\ndf       273\nnv       200\nmel      200\nbkl      200\nName: count, dtype: int64\n"
        }
      ],
      "execution_count": 7,
      "metadata": {
        "jupyter": {
          "source_hidden": false,
          "outputs_hidden": false
        },
        "nteract": {
          "transient": {
            "deleting": false
          }
        },
        "gather": {
          "logged": 1690970204594
        },
        "id": "Vr3Twhh4FVne",
        "outputId": "b0b62d3d-2373-4b83-bc43-cdc90df5e40f"
      }
    },
    {
      "cell_type": "code",
      "source": [
        "def prepareimages(images):\n",
        "    # images is a list of images\n",
        "    images = np.asarray(images).astype(np.float64)\n",
        "    images = images[:, :, :, ::-1]\n",
        "    m0 = np.mean(images[:, :, :, 0])\n",
        "    m1 = np.mean(images[:, :, :, 1])\n",
        "    m2 = np.mean(images[:, :, :, 2])\n",
        "    images[:, :, :, 0] -= m0\n",
        "    images[:, :, :, 1] -= m1\n",
        "    images[:, :, :, 2] -= m2\n",
        "    return images\n",
        "\n",
        "trainimages = prepareimages(list(train_df.image))\n",
        "testimages = prepareimages(list(test_df.image))\n",
        "\n",
        "trainlabels = np.asarray(train_df.cell_type_idx)\n",
        "testlabels = np.asarray(test_df.cell_type_idx)\n"
      ],
      "outputs": [],
      "execution_count": 8,
      "metadata": {
        "jupyter": {
          "source_hidden": false,
          "outputs_hidden": false
        },
        "nteract": {
          "transient": {
            "deleting": false
          }
        },
        "gather": {
          "logged": 1690970211799
        },
        "id": "Z7ZRmXfBFVnj"
      }
    },
    {
      "cell_type": "code",
      "source": [
        "train_one_hot_labels = to_categorical(trainlabels, num_classes=7)\n",
        "test_one_hot_labels = to_categorical(testlabels, num_classes=7)"
      ],
      "outputs": [],
      "execution_count": 9,
      "metadata": {
        "jupyter": {
          "source_hidden": false,
          "outputs_hidden": false
        },
        "nteract": {
          "transient": {
            "deleting": false
          }
        },
        "gather": {
          "logged": 1690970213897
        },
        "id": "jRefWi5TFVnl"
      }
    },
    {
      "cell_type": "code",
      "source": [
        "# VGG19\n",
        "vgg19_base = VGG19(include_top=False, weights='imagenet', input_shape=(112, 150, 3))\n",
        "vgg19_gap = GlobalAveragePooling2D()(vgg19_base.output)\n",
        "vgg19_model = Model(inputs=vgg19_base.input, outputs=vgg19_gap)\n",
        "vgg19_features_train = vgg19_model.predict(trainimages)\n",
        "vgg19_features_test = vgg19_model.predict(testimages)\n",
        "\n",
        "# MobileNetV3Small\n",
        "MobileNetV3Small_base = MobileNetV3Small(include_top=False, weights='imagenet', input_shape=(112, 150, 3))\n",
        "MobileNetV3Small_gap = GlobalAveragePooling2D()(MobileNetV3Small_base.output)\n",
        "MobileNetV3Small_model = Model(inputs=MobileNetV3Small_base.input, outputs=MobileNetV3Small_gap)\n",
        "MobileNetV3Small_features_train = MobileNetV3Small_model.predict(trainimages)\n",
        "MobileNetV3Small_features_test = MobileNetV3Small_model.predict(testimages)\n",
        "\n",
        "# ResNet152\n",
        "resnet152_base = ResNet152(include_top=False, weights='imagenet', input_shape=(112, 150, 3))\n",
        "resnet152_gap = GlobalAveragePooling2D()(resnet152_base.output)\n",
        "resnet152_model = Model(inputs=resnet152_base.input, outputs=resnet152_gap)\n",
        "resnet152_features_train = resnet152_model.predict(trainimages)\n",
        "resnet152_features_test = resnet152_model.predict(testimages)"
      ],
      "outputs": [
        {
          "output_type": "stream",
          "name": "stderr",
          "text": "2023-08-02 09:57:06.012281: E tensorflow/compiler/xla/stream_executor/cuda/cuda_driver.cc:268] failed call to cuInit: CUDA_ERROR_NO_DEVICE: no CUDA-capable device is detected\n2023-08-02 09:57:10.455627: W tensorflow/tsl/framework/cpu_allocator_impl.cc:83] Allocation of 1882540800 exceeds 10% of free system memory.\n2023-08-02 10:02:29.820137: W tensorflow/tsl/framework/cpu_allocator_impl.cc:83] Allocation of 1882540800 exceeds 10% of free system memory.\n2023-08-02 10:02:54.726880: W tensorflow/tsl/framework/cpu_allocator_impl.cc:83] Allocation of 1882540800 exceeds 10% of free system memory.\n"
        },
        {
          "output_type": "stream",
          "name": "stdout",
          "text": "292/292 [==============================] - 231s 790ms/step\b\b\b\b\b\b\b\b\b\b\b\b\b\b\b\b\b\b\b\b\b\b\b\b\b\b\b\b\b\b\b\b\b\b\b\b\b\b\b\b\b\b\b\b\b\b\n74/74 [==============================] - 58s 780ms/step\b\b\b\b\b\b\b\b\b\b\b\b\b\b\b\b\b\b\b\b\b\b\b\b\b\b\b\b\b\b\b\b\b\b\b\b\b\b\b\b\b\b\b\nWARNING:tensorflow:`input_shape` is undefined or non-square, or `rows` is not 224. Weights for input shape (224, 224) will be loaded as the default.\n292/292 [==============================] - 10s 33ms/step\b\b\b\b\b\b\b\b\b\b\b\b\b\b\b\b\b\b\b\b\b\b\b\b\b\b\b\b\b\b\b\b\b\b\b\b\b\b\b\b\b\b\b\b\b\b\b\b\n74/74 [==============================] - 3s 34ms/step\b\b\b\b\b\b\b\b\b\b\b\b\b\b\b\b\b\b\b\b\b\b\b\b\b\b\b\b\b\b\b\b\b\b\b\b\b\b\b\b\b\b\b\n292/292 [==============================] - 211s 716ms/step\b\b\b\b\b\b\b\b\b\b\b\b\b\b\b\b\b\b\b\b\b\b\b\b\b\b\b\b\b\b\b\b\b\b\b\b\b\b\b\b\b\b\b\b\b\b\b\b\n74/74 [==============================] - 54s 722ms/step\b\b\b\b\b\b\b\b\b\b\b\b\b\b\b\b\b\b\b\b\b\b\b\b\b\b\b\b\b\b\b\b\b\b\b\b\b\b\b\b\b\b\b\n"
        }
      ],
      "execution_count": 10,
      "metadata": {
        "jupyter": {
          "source_hidden": false,
          "outputs_hidden": false
        },
        "nteract": {
          "transient": {
            "deleting": false
          }
        },
        "gather": {
          "logged": 1690970842390
        },
        "id": "vnuxXcikFVnm",
        "outputId": "259e51cb-9175-461b-9ecd-994f06322cc7"
      }
    },
    {
      "cell_type": "code",
      "source": [
        "# saving the models\n",
        "vgg19_model.save(\"vgg19.h5\")\n",
        "MobileNetV3Small_model.save(\"mobilenetv3small.h5\")\n",
        "resnet152_model.save(\"resnet152.h5\")"
      ],
      "outputs": [
        {
          "output_type": "stream",
          "name": "stdout",
          "text": "WARNING:tensorflow:Compiled the loaded model, but the compiled metrics have yet to be built. `model.compile_metrics` will be empty until you train or evaluate the model.\nWARNING:tensorflow:Compiled the loaded model, but the compiled metrics have yet to be built. `model.compile_metrics` will be empty until you train or evaluate the model.\nWARNING:tensorflow:Compiled the loaded model, but the compiled metrics have yet to be built. `model.compile_metrics` will be empty until you train or evaluate the model.\n"
        },
        {
          "output_type": "stream",
          "name": "stderr",
          "text": "/anaconda/envs/azureml_py310_sdkv2/lib/python3.10/site-packages/keras/src/engine/training.py:3000: UserWarning: You are saving your model as an HDF5 file via `model.save()`. This file format is considered legacy. We recommend using instead the native Keras format, e.g. `model.save('my_model.keras')`.\n  saving_api.save_model(\n"
        }
      ],
      "execution_count": 22,
      "metadata": {
        "jupyter": {
          "source_hidden": false,
          "outputs_hidden": false
        },
        "nteract": {
          "transient": {
            "deleting": false
          }
        },
        "gather": {
          "logged": 1690970917303
        },
        "id": "wJz5YDTXFVnn",
        "outputId": "e4db06c3-0727-4836-cd40-5c53bb387396"
      }
    },
    {
      "cell_type": "code",
      "source": [
        "#normalize the features\n",
        "F_vgg_normalized = normalize(vgg19_features_train, norm='l2', axis=1)\n",
        "MobileNetV3Small_normalized = normalize(MobileNetV3Small_features_train, norm='l2', axis=1)\n",
        "F_resnet_normalized = normalize(resnet152_features_train, norm='l2', axis=1)"
      ],
      "outputs": [],
      "execution_count": 24,
      "metadata": {
        "jupyter": {
          "source_hidden": false,
          "outputs_hidden": false
        },
        "nteract": {
          "transient": {
            "deleting": false
          }
        },
        "gather": {
          "logged": 1690970920380
        },
        "id": "1r7UMrUDFVnn"
      }
    },
    {
      "cell_type": "code",
      "source": [
        "# dimensions of each feature vector\n",
        "dim_vgg = F_vgg_normalized.shape[1]\n",
        "dim_mobilenet = MobileNetV3Small_normalized.shape[1]\n",
        "dim_resnet = F_resnet_normalized.shape[1]\n",
        "\n",
        "# input layers for each feature vector\n",
        "input_vgg = Input(shape=(dim_vgg,))\n",
        "input_mobilenet = Input(shape=(dim_mobilenet,))\n",
        "input_resnet = Input(shape=(dim_resnet,))\n",
        "\n",
        "# Fully connected layers for each input with Batch Normalization and Dropout\n",
        "fc_vgg = Dense(256)(input_vgg)\n",
        "fc_vgg = BatchNormalization()(fc_vgg)\n",
        "fc_vgg = LeakyReLU()(fc_vgg)\n",
        "fc_vgg = Dropout(0.3)(fc_vgg)\n",
        "\n",
        "fc_mobilenet = Dense(256)(input_mobilenet)\n",
        "fc_mobilenet = BatchNormalization()(fc_mobilenet)\n",
        "fc_mobilenet = LeakyReLU()(fc_mobilenet)\n",
        "fc_mobilenet = Dropout(0.3)(fc_mobilenet)\n",
        "\n",
        "fc_resnet = Dense(256)(input_resnet)\n",
        "fc_resnet = BatchNormalization()(fc_resnet)\n",
        "fc_resnet = LeakyReLU()(fc_resnet)\n",
        "fc_resnet = Dropout(0.3)(fc_resnet)\n",
        "\n",
        "# Concatenate the output of fully connected layers\n",
        "merged = concatenate([fc_vgg, fc_mobilenet, fc_resnet])\n",
        "\n",
        "# Additional fully connected layers for feature fusion with Batch Normalization and Dropout\n",
        "fusion_fc = Dense(256)(merged)\n",
        "fusion_fc = BatchNormalization()(fusion_fc)\n",
        "fusion_fc = LeakyReLU()(fusion_fc)\n",
        "fusion_fc = Dropout(0.3)(fusion_fc)\n",
        "\n",
        "fusion_fc = Dense(128)(fusion_fc)\n",
        "fusion_fc = BatchNormalization()(fusion_fc)\n",
        "fusion_fc = LeakyReLU()(fusion_fc)\n",
        "fusion_fc = Dropout(0.3)(fusion_fc)\n",
        "\n",
        "# Classification layer\n",
        "output_layer = Dense(7, activation='softmax')(fusion_fc)\n",
        "\n",
        "# Create the fusion model\n",
        "fusion_model = Model(inputs=[input_vgg, input_mobilenet, input_resnet], outputs=output_layer)\n",
        "\n",
        "# Compile the model with a reduced learning rate\n",
        "optimizer = Adam(learning_rate=0.0001)\n",
        "fusion_model.compile(loss='categorical_crossentropy', optimizer=optimizer, metrics=['accuracy'])\n"
      ],
      "outputs": [],
      "execution_count": 25,
      "metadata": {
        "id": "AHiqgNyQFvtT",
        "gather": {
          "logged": 1690970947370
        }
      }
    },
    {
      "cell_type": "code",
      "source": [
        "'''\n",
        "# dimensions of each feature vector\n",
        "dim_vgg = F_vgg_normalized.shape[1]\n",
        "dim_mobilenet = MobileNetV3Small_normalized.shape[1]\n",
        "dim_resnet = F_resnet_normalized.shape[1]\n",
        "\n",
        "# input layers for each feature vector\n",
        "input_vgg = Input(shape=(dim_vgg,))\n",
        "input_mobilenet = Input(shape=(dim_mobilenet,))\n",
        "input_resnet = Input(shape=(dim_resnet,))\n",
        "\n",
        "# Fully connected layers for each input\n",
        "fc_vgg = Dense(256, activation='relu')(input_vgg)\n",
        "fc_mobilenet = Dense(256, activation='relu')(input_mobilenet)\n",
        "fc_resnet = Dense(256, activation='relu')(input_resnet)\n",
        "\n",
        "# Concatenate the output of fully connected layers\n",
        "merged = concatenate([fc_vgg, fc_mobilenet, fc_resnet])\n",
        "\n",
        "# Additional fully connected layers for feature fusion\n",
        "fusion_fc = Dense(256, activation='relu')(merged)\n",
        "fusion_fc = Dense(128, activation='relu')(fusion_fc)\n",
        "\n",
        "# Classification layer\n",
        "output_layer = Dense(7, activation='softmax')(fusion_fc)\n",
        "\n",
        "# Create the fusion model\n",
        "fusion_model = Model(inputs=[input_vgg, input_mobilenet, input_resnet], outputs=output_layer)\n",
        "\n",
        "# Compile the model\n",
        "fusion_model.compile(loss='categorical_crossentropy', optimizer='adam', metrics=['accuracy'])'''\n"
      ],
      "outputs": [
        {
          "output_type": "execute_result",
          "execution_count": 26,
          "data": {
            "text/plain": "\"\\n# dimensions of each feature vector\\ndim_vgg = F_vgg_normalized.shape[1]\\ndim_mobilenet = MobileNetV3Small_normalized.shape[1]\\ndim_resnet = F_resnet_normalized.shape[1]\\n\\n# input layers for each feature vector\\ninput_vgg = Input(shape=(dim_vgg,))\\ninput_mobilenet = Input(shape=(dim_mobilenet,))\\ninput_resnet = Input(shape=(dim_resnet,))\\n\\n# Fully connected layers for each input\\nfc_vgg = Dense(256, activation='relu')(input_vgg)\\nfc_mobilenet = Dense(256, activation='relu')(input_mobilenet)\\nfc_resnet = Dense(256, activation='relu')(input_resnet)\\n\\n# Concatenate the output of fully connected layers\\nmerged = concatenate([fc_vgg, fc_mobilenet, fc_resnet])\\n\\n# Additional fully connected layers for feature fusion\\nfusion_fc = Dense(256, activation='relu')(merged)\\nfusion_fc = Dense(128, activation='relu')(fusion_fc)\\n\\n# Classification layer\\noutput_layer = Dense(7, activation='softmax')(fusion_fc)\\n\\n# Create the fusion model\\nfusion_model = Model(inputs=[input_vgg, input_mobilenet, input_resnet], outputs=output_layer)\\n\\n# Compile the model\\nfusion_model.compile(loss='categorical_crossentropy', optimizer='adam', metrics=['accuracy'])\""
          },
          "metadata": {}
        }
      ],
      "execution_count": 26,
      "metadata": {
        "jupyter": {
          "source_hidden": false,
          "outputs_hidden": false
        },
        "nteract": {
          "transient": {
            "deleting": false
          }
        },
        "gather": {
          "logged": 1690970956118
        },
        "id": "_DiiIpxMFVnn"
      }
    },
    {
      "cell_type": "code",
      "source": [
        "history1 = fusion_model.fit(\n",
        "    [F_vgg_normalized, MobileNetV3Small_normalized, F_resnet_normalized],\n",
        "    train_one_hot_labels,\n",
        "    batch_size=64,\n",
        "    epochs=70,\n",
        "    shuffle=True,\n",
        "    validation_split=0.2\n",
        ")"
      ],
      "outputs": [
        {
          "output_type": "stream",
          "name": "stdout",
          "text": "Epoch 1/70\n117/117 [==============================] - 3s 10ms/step - loss: 1.4997 - accuracy: 0.4510 - val_loss: 1.7781 - val_accuracy: 0.4347\b\b\b\b\b\b\b\b\b\b\b\b\b\b\b\b\b\b\b\b\b\b\b\b\b\b\b\b\b\b\b\b\b\b\b\b\b\b\b\b\b\nEpoch 2/70\n117/117 [==============================] - 1s 8ms/step - loss: 1.0695 - accuracy: 0.6149 - val_loss: 1.5565 - val_accuracy: 0.5980\b\b\b\b\b\b\b\b\b\b\b\b\b\b\b\b\b\b\b\b\b\b\b\b\b\b\b\b\b\b\b\b\b\b\b\b\b\b\nEpoch 3/70\n117/117 [==============================] - 1s 8ms/step - loss: 0.9297 - accuracy: 0.6633 - val_loss: 1.2544 - val_accuracy: 0.6884\b\b\b\b\b\b\b\b\b\b\b\b\b\b\b\b\b\b\b\b\b\b\b\b\b\b\b\b\b\b\b\b\b\b\b\b\b\b\nEpoch 4/70\n117/117 [==============================] - 1s 8ms/step - loss: 0.8264 - accuracy: 0.6950 - val_loss: 0.9576 - val_accuracy: 0.7297\b\b\b\b\b\b\b\b\b\b\b\b\b\b\b\b\b\b\b\b\b\b\b\b\b\b\b\b\b\b\b\b\b\b\b\b\b\b\nEpoch 5/70\n117/117 [==============================] - 1s 8ms/step - loss: 0.7587 - accuracy: 0.7216 - val_loss: 0.7485 - val_accuracy: 0.7543\b\b\b\b\b\b\b\b\b\b\b\b\b\b\b\b\b\b\b\b\b\b\b\b\b\b\b\b\b\b\b\b\b\b\b\b\b\b\nEpoch 6/70\n117/117 [==============================] - 1s 7ms/step - loss: 0.7144 - accuracy: 0.7395 - val_loss: 0.6461 - val_accuracy: 0.7677\b\b\b\b\b\b\b\b\b\b\b\b\b\b\b\b\b\b\b\b\b\b\b\b\b\b\b\b\b\b\b\b\b\b\b\b\b\b\nEpoch 7/70\n117/117 [==============================] - 1s 8ms/step - loss: 0.6642 - accuracy: 0.7546 - val_loss: 0.5991 - val_accuracy: 0.7789\b\b\b\b\b\b\b\b\b\b\b\b\b\b\b\b\b\b\b\b\b\b\b\b\b\b\b\b\b\b\b\b\b\b\b\b\b\b\nEpoch 8/70\n117/117 [==============================] - 1s 7ms/step - loss: 0.6211 - accuracy: 0.7695 - val_loss: 0.5754 - val_accuracy: 0.7901\b\b\b\b\b\b\b\b\b\b\b\b\b\b\b\b\b\b\b\b\b\b\b\b\b\b\b\b\b\b\b\b\b\b\b\b\b\b\nEpoch 9/70\n117/117 [==============================] - 1s 7ms/step - loss: 0.5810 - accuracy: 0.7831 - val_loss: 0.5564 - val_accuracy: 0.7934\b\b\b\b\b\b\b\b\b\b\b\b\b\b\b\b\b\b\b\b\b\b\b\b\b\b\b\b\b\b\b\b\b\b\b\b\b\b\nEpoch 10/70\n117/117 [==============================] - 1s 8ms/step - loss: 0.5491 - accuracy: 0.7989 - val_loss: 0.5423 - val_accuracy: 0.8009\b\b\b\b\b\b\b\b\b\b\b\b\b\b\b\b\b\b\b\b\b\b\b\b\b\b\b\b\b\b\b\b\b\b\b\b\b\b\nEpoch 11/70\n117/117 [==============================] - 1s 8ms/step - loss: 0.5240 - accuracy: 0.8106 - val_loss: 0.5247 - val_accuracy: 0.8019\b\b\b\b\b\b\b\b\b\b\b\b\b\b\b\b\b\b\b\b\b\b\b\b\b\b\b\b\b\b\b\b\b\b\b\b\b\b\nEpoch 12/70\n117/117 [==============================] - 1s 7ms/step - loss: 0.4960 - accuracy: 0.8138 - val_loss: 0.5216 - val_accuracy: 0.8089\b\b\b\b\b\b\b\b\b\b\b\b\b\b\b\b\b\b\b\b\b\b\b\b\b\b\b\b\b\b\b\b\b\b\b\b\b\b\nEpoch 13/70\n117/117 [==============================] - 1s 8ms/step - loss: 0.4832 - accuracy: 0.8186 - val_loss: 0.5113 - val_accuracy: 0.8089\b\b\b\b\b\b\b\b\b\b\b\b\b\b\b\b\b\b\b\b\b\b\b\b\b\b\b\b\b\b\b\b\b\b\b\b\b\b\nEpoch 14/70\n117/117 [==============================] - 1s 8ms/step - loss: 0.4445 - accuracy: 0.8363 - val_loss: 0.4940 - val_accuracy: 0.8191\b\b\b\b\b\b\b\b\b\b\b\b\b\b\b\b\b\b\b\b\b\b\b\b\b\b\b\b\b\b\b\b\b\b\b\b\b\b\nEpoch 15/70\n117/117 [==============================] - 1s 8ms/step - loss: 0.4208 - accuracy: 0.8483 - val_loss: 0.4928 - val_accuracy: 0.8233\b\b\b\b\b\b\b\b\b\b\b\b\b\b\b\b\b\b\b\b\b\b\b\b\b\b\b\b\b\b\b\b\b\b\b\b\b\b\nEpoch 16/70\n117/117 [==============================] - 1s 8ms/step - loss: 0.3926 - accuracy: 0.8515 - val_loss: 0.4842 - val_accuracy: 0.8249\b\b\b\b\b\b\b\b\b\b\b\b\b\b\b\b\b\b\b\b\b\b\b\b\b\b\b\b\b\b\b\b\b\b\b\b\b\b\nEpoch 17/70\n117/117 [==============================] - 1s 7ms/step - loss: 0.3687 - accuracy: 0.8669 - val_loss: 0.4859 - val_accuracy: 0.8292\b\b\b\b\b\b\b\b\b\b\b\b\b\b\b\b\b\b\b\b\b\b\b\b\b\b\b\b\b\b\b\b\b\b\b\b\b\b\nEpoch 18/70\n117/117 [==============================] - 1s 8ms/step - loss: 0.3504 - accuracy: 0.8716 - val_loss: 0.4761 - val_accuracy: 0.8282\b\b\b\b\b\b\b\b\b\b\b\b\b\b\b\b\b\b\b\b\b\b\b\b\b\b\b\b\b\b\b\b\b\b\b\b\b\b\nEpoch 19/70\n117/117 [==============================] - 1s 7ms/step - loss: 0.3386 - accuracy: 0.8735 - val_loss: 0.4768 - val_accuracy: 0.8223\b\b\b\b\b\b\b\b\b\b\b\b\b\b\b\b\b\b\b\b\b\b\b\b\b\b\b\b\b\b\b\b\b\b\b\b\b\b\nEpoch 20/70\n117/117 [==============================] - 1s 7ms/step - loss: 0.3228 - accuracy: 0.8880 - val_loss: 0.4724 - val_accuracy: 0.8282\b\b\b\b\b\b\b\b\b\b\b\b\b\b\b\b\b\b\b\b\b\b\b\b\b\b\b\b\b\b\b\b\b\b\b\b\b\b\nEpoch 21/70\n117/117 [==============================] - 1s 8ms/step - loss: 0.3083 - accuracy: 0.8916 - val_loss: 0.4706 - val_accuracy: 0.8308\b\b\b\b\b\b\b\b\b\b\b\b\b\b\b\b\b\b\b\b\b\b\b\b\b\b\b\b\b\b\b\b\b\b\b\b\b\b\nEpoch 22/70\n117/117 [==============================] - 1s 7ms/step - loss: 0.2869 - accuracy: 0.8963 - val_loss: 0.4717 - val_accuracy: 0.8319\b\b\b\b\b\b\b\b\b\b\b\b\b\b\b\b\b\b\b\b\b\b\b\b\b\b\b\b\b\b\b\b\b\b\b\b\b\b\nEpoch 23/70\n117/117 [==============================] - 1s 7ms/step - loss: 0.2866 - accuracy: 0.8965 - val_loss: 0.4688 - val_accuracy: 0.8346\b\b\b\b\b\b\b\b\b\b\b\b\b\b\b\b\b\b\b\b\b\b\b\b\b\b\b\b\b\b\b\b\b\b\b\b\b\b\nEpoch 24/70\n117/117 [==============================] - 1s 7ms/step - loss: 0.2693 - accuracy: 0.9039 - val_loss: 0.4724 - val_accuracy: 0.8399\b\b\b\b\b\b\b\b\b\b\b\b\b\b\b\b\b\b\b\b\b\b\b\b\b\b\b\b\b\b\b\b\b\b\b\b\b\b\nEpoch 25/70\n117/117 [==============================] - 1s 8ms/step - loss: 0.2596 - accuracy: 0.9102 - val_loss: 0.4597 - val_accuracy: 0.8394\b\b\b\b\b\b\b\b\b\b\b\b\b\b\b\b\b\b\b\b\b\b\b\b\b\b\b\b\b\b\b\b\b\b\b\b\b\b\nEpoch 26/70\n117/117 [==============================] - 1s 7ms/step - loss: 0.2367 - accuracy: 0.9139 - val_loss: 0.4656 - val_accuracy: 0.8346\b\b\b\b\b\b\b\b\b\b\b\b\b\b\b\b\b\b\b\b\b\b\b\b\b\b\b\b\b\b\b\b\b\b\b\b\b\b\nEpoch 27/70\n117/117 [==============================] - 1s 7ms/step - loss: 0.2307 - accuracy: 0.9169 - val_loss: 0.4620 - val_accuracy: 0.8405\b\b\b\b\b\b\b\b\b\b\b\b\b\b\b\b\b\b\b\b\b\b\b\b\b\b\b\b\b\b\b\b\b\b\b\b\b\b\nEpoch 28/70\n117/117 [==============================] - 1s 7ms/step - loss: 0.2194 - accuracy: 0.9232 - val_loss: 0.4730 - val_accuracy: 0.8442\b\b\b\b\b\b\b\b\b\b\b\b\b\b\b\b\b\b\b\b\b\b\b\b\b\b\b\b\b\b\b\b\b\b\b\b\b\b\nEpoch 29/70\n117/117 [==============================] - 1s 8ms/step - loss: 0.1990 - accuracy: 0.9340 - val_loss: 0.4853 - val_accuracy: 0.8394\b\b\b\b\b\b\b\b\b\b\b\b\b\b\b\b\b\b\b\b\b\b\b\b\b\b\b\b\b\b\b\b\b\b\b\b\b\b\nEpoch 30/70\n117/117 [==============================] - 1s 8ms/step - loss: 0.1968 - accuracy: 0.9341 - val_loss: 0.4850 - val_accuracy: 0.8330\b\b\b\b\b\b\b\b\b\b\b\b\b\b\b\b\b\b\b\b\b\b\b\b\b\b\b\b\b\b\b\b\b\b\b\b\b\b\nEpoch 31/70\n117/117 [==============================] - 1s 7ms/step - loss: 0.1912 - accuracy: 0.9337 - val_loss: 0.4756 - val_accuracy: 0.8437\b\b\b\b\b\b\b\b\b\b\b\b\b\b\b\b\b\b\b\b\b\b\b\b\b\b\b\b\b\b\b\b\b\b\b\b\b\b\nEpoch 32/70\n117/117 [==============================] - 1s 7ms/step - loss: 0.1829 - accuracy: 0.9378 - val_loss: 0.4836 - val_accuracy: 0.8415\b\b\b\b\b\b\b\b\b\b\b\b\b\b\b\b\b\b\b\b\b\b\b\b\b\b\b\b\b\b\b\b\b\b\b\b\b\b\nEpoch 33/70\n117/117 [==============================] - 1s 7ms/step - loss: 0.1655 - accuracy: 0.9430 - val_loss: 0.4790 - val_accuracy: 0.8335\b\b\b\b\b\b\b\b\b\b\b\b\b\b\b\b\b\b\b\b\b\b\b\b\b\b\b\b\b\b\b\b\b\b\b\b\b\b\nEpoch 34/70\n117/117 [==============================] - 1s 7ms/step - loss: 0.1644 - accuracy: 0.9447 - val_loss: 0.4799 - val_accuracy: 0.8399\b\b\b\b\b\b\b\b\b\b\b\b\b\b\b\b\b\b\b\b\b\b\b\b\b\b\b\b\b\b\b\b\b\b\b\b\b\b\nEpoch 35/70\n117/117 [==============================] - 1s 8ms/step - loss: 0.1618 - accuracy: 0.9442 - val_loss: 0.4901 - val_accuracy: 0.8373\b\b\b\b\b\b\b\b\b\b\b\b\b\b\b\b\b\b\b\b\b\b\b\b\b\b\b\b\b\b\b\b\b\b\b\b\b\b\nEpoch 36/70\n117/117 [==============================] - 1s 8ms/step - loss: 0.1529 - accuracy: 0.9461 - val_loss: 0.5086 - val_accuracy: 0.8335\b\b\b\b\b\b\b\b\b\b\b\b\b\b\b\b\b\b\b\b\b\b\b\b\b\b\b\b\b\b\b\b\b\b\b\b\b\b\nEpoch 37/70\n117/117 [==============================] - 1s 8ms/step - loss: 0.1436 - accuracy: 0.9546 - val_loss: 0.5006 - val_accuracy: 0.8389\b\b\b\b\b\b\b\b\b\b\b\b\b\b\b\b\b\b\b\b\b\b\b\b\b\b\b\b\b\b\b\b\b\b\b\b\b\b\nEpoch 38/70\n117/117 [==============================] - 1s 8ms/step - loss: 0.1377 - accuracy: 0.9544 - val_loss: 0.5205 - val_accuracy: 0.8319\b\b\b\b\b\b\b\b\b\b\b\b\b\b\b\b\b\b\b\b\b\b\b\b\b\b\b\b\b\b\b\b\b\b\b\b\b\b\nEpoch 39/70\n117/117 [==============================] - 1s 8ms/step - loss: 0.1365 - accuracy: 0.9527 - val_loss: 0.5078 - val_accuracy: 0.8394\b\b\b\b\b\b\b\b\b\b\b\b\b\b\b\b\b\b\b\b\b\b\b\b\b\b\b\b\b\b\b\b\b\b\b\b\b\b\nEpoch 40/70\n117/117 [==============================] - 1s 8ms/step - loss: 0.1287 - accuracy: 0.9560 - val_loss: 0.5150 - val_accuracy: 0.8426\b\b\b\b\b\b\b\b\b\b\b\b\b\b\b\b\b\b\b\b\b\b\b\b\b\b\b\b\b\b\b\b\b\b\b\b\b\b\nEpoch 41/70\n117/117 [==============================] - 1s 7ms/step - loss: 0.1263 - accuracy: 0.9596 - val_loss: 0.5166 - val_accuracy: 0.8405\b\b\b\b\b\b\b\b\b\b\b\b\b\b\b\b\b\b\b\b\b\b\b\b\b\b\b\b\b\b\b\b\b\b\b\b\b\b\nEpoch 42/70\n117/117 [==============================] - 1s 7ms/step - loss: 0.1189 - accuracy: 0.9610 - val_loss: 0.5228 - val_accuracy: 0.8383\b\b\b\b\b\b\b\b\b\b\b\b\b\b\b\b\b\b\b\b\b\b\b\b\b\b\b\b\b\b\b\b\b\b\b\b\b\b\nEpoch 43/70\n117/117 [==============================] - 1s 7ms/step - loss: 0.1030 - accuracy: 0.9695 - val_loss: 0.5262 - val_accuracy: 0.8373\b\b\b\b\b\b\b\b\b\b\b\b\b\b\b\b\b\b\b\b\b\b\b\b\b\b\b\b\b\b\b\b\b\b\b\b\b\b\nEpoch 44/70\n117/117 [==============================] - 1s 7ms/step - loss: 0.1162 - accuracy: 0.9620 - val_loss: 0.5457 - val_accuracy: 0.8314\b\b\b\b\b\b\b\b\b\b\b\b\b\b\b\b\b\b\b\b\b\b\b\b\b\b\b\b\b\b\b\b\b\b\b\b\b\b\nEpoch 45/70\n117/117 [==============================] - 1s 7ms/step - loss: 0.1057 - accuracy: 0.9667 - val_loss: 0.5392 - val_accuracy: 0.8399\b\b\b\b\b\b\b\b\b\b\b\b\b\b\b\b\b\b\b\b\b\b\b\b\b\b\b\b\b\b\b\b\b\b\b\b\b\b\nEpoch 46/70\n117/117 [==============================] - 1s 8ms/step - loss: 0.1034 - accuracy: 0.9644 - val_loss: 0.5395 - val_accuracy: 0.8308\b\b\b\b\b\b\b\b\b\b\b\b\b\b\b\b\b\b\b\b\b\b\b\b\b\b\b\b\b\b\b\b\b\b\b\b\b\b\nEpoch 47/70\n117/117 [==============================] - 1s 7ms/step - loss: 0.0937 - accuracy: 0.9700 - val_loss: 0.5538 - val_accuracy: 0.8330\b\b\b\b\b\b\b\b\b\b\b\b\b\b\b\b\b\b\b\b\b\b\b\b\b\b\b\b\b\b\b\b\b\b\b\b\b\b\nEpoch 48/70\n117/117 [==============================] - 1s 8ms/step - loss: 0.0928 - accuracy: 0.9707 - val_loss: 0.5554 - val_accuracy: 0.8367\b\b\b\b\b\b\b\b\b\b\b\b\b\b\b\b\b\b\b\b\b\b\b\b\b\b\b\b\b\b\b\b\b\b\b\b\b\b\nEpoch 49/70\n117/117 [==============================] - 1s 7ms/step - loss: 0.0815 - accuracy: 0.9739 - val_loss: 0.5542 - val_accuracy: 0.8399\b\b\b\b\b\b\b\b\b\b\b\b\b\b\b\b\b\b\b\b\b\b\b\b\b\b\b\b\b\b\b\b\b\b\b\b\b\b\nEpoch 50/70\n117/117 [==============================] - 1s 8ms/step - loss: 0.0830 - accuracy: 0.9730 - val_loss: 0.5663 - val_accuracy: 0.8448\b\b\b\b\b\b\b\b\b\b\b\b\b\b\b\b\b\b\b\b\b\b\b\b\b\b\b\b\b\b\b\b\b\b\b\b\b\b\nEpoch 51/70\n117/117 [==============================] - 1s 7ms/step - loss: 0.0824 - accuracy: 0.9738 - val_loss: 0.5603 - val_accuracy: 0.8362\b\b\b\b\b\b\b\b\b\b\b\b\b\b\b\b\b\b\b\b\b\b\b\b\b\b\b\b\b\b\b\b\b\b\b\b\b\b\nEpoch 52/70\n117/117 [==============================] - 1s 7ms/step - loss: 0.0758 - accuracy: 0.9767 - val_loss: 0.5668 - val_accuracy: 0.8340\b\b\b\b\b\b\b\b\b\b\b\b\b\b\b\b\b\b\b\b\b\b\b\b\b\b\b\b\b\b\b\b\b\b\b\b\b\b\nEpoch 53/70\n117/117 [==============================] - 1s 8ms/step - loss: 0.0755 - accuracy: 0.9786 - val_loss: 0.5739 - val_accuracy: 0.8426\b\b\b\b\b\b\b\b\b\b\b\b\b\b\b\b\b\b\b\b\b\b\b\b\b\b\b\b\b\b\b\b\b\b\b\b\b\b\nEpoch 54/70\n117/117 [==============================] - 1s 8ms/step - loss: 0.0686 - accuracy: 0.9780 - val_loss: 0.5624 - val_accuracy: 0.8442\b\b\b\b\b\b\b\b\b\b\b\b\b\b\b\b\b\b\b\b\b\b\b\b\b\b\b\b\b\b\b\b\b\b\b\b\b\b\nEpoch 55/70\n117/117 [==============================] - 1s 8ms/step - loss: 0.0702 - accuracy: 0.9795 - val_loss: 0.5796 - val_accuracy: 0.8298\b\b\b\b\b\b\b\b\b\b\b\b\b\b\b\b\b\b\b\b\b\b\b\b\b\b\b\b\b\b\b\b\b\b\b\b\b\b\nEpoch 56/70\n117/117 [==============================] - 1s 8ms/step - loss: 0.0711 - accuracy: 0.9786 - val_loss: 0.5988 - val_accuracy: 0.8282\b\b\b\b\b\b\b\b\b\b\b\b\b\b\b\b\b\b\b\b\b\b\b\b\b\b\b\b\b\b\b\b\b\b\b\b\b\b\nEpoch 57/70\n117/117 [==============================] - 1s 7ms/step - loss: 0.0660 - accuracy: 0.9794 - val_loss: 0.6111 - val_accuracy: 0.8276\b\b\b\b\b\b\b\b\b\b\b\b\b\b\b\b\b\b\b\b\b\b\b\b\b\b\b\b\b\b\b\b\b\b\b\b\b\b\nEpoch 58/70\n117/117 [==============================] - 1s 7ms/step - loss: 0.0617 - accuracy: 0.9829 - val_loss: 0.5957 - val_accuracy: 0.8415\b\b\b\b\b\b\b\b\b\b\b\b\b\b\b\b\b\b\b\b\b\b\b\b\b\b\b\b\b\b\b\b\b\b\b\b\b\b\nEpoch 59/70\n117/117 [==============================] - 1s 7ms/step - loss: 0.0662 - accuracy: 0.9786 - val_loss: 0.6122 - val_accuracy: 0.8335\b\b\b\b\b\b\b\b\b\b\b\b\b\b\b\b\b\b\b\b\b\b\b\b\b\b\b\b\b\b\b\b\b\b\b\b\b\b\nEpoch 60/70\n117/117 [==============================] - 1s 8ms/step - loss: 0.0602 - accuracy: 0.9814 - val_loss: 0.6580 - val_accuracy: 0.8158\b\b\b\b\b\b\b\b\b\b\b\b\b\b\b\b\b\b\b\b\b\b\b\b\b\b\b\b\b\b\b\b\b\b\b\b\b\b\nEpoch 61/70\n117/117 [==============================] - 1s 7ms/step - loss: 0.0616 - accuracy: 0.9805 - val_loss: 0.6262 - val_accuracy: 0.8314\b\b\b\b\b\b\b\b\b\b\b\b\b\b\b\b\b\b\b\b\b\b\b\b\b\b\b\b\b\b\b\b\b\b\b\b\b\b\nEpoch 62/70\n117/117 [==============================] - 1s 7ms/step - loss: 0.0572 - accuracy: 0.9811 - val_loss: 0.6233 - val_accuracy: 0.8351\b\b\b\b\b\b\b\b\b\b\b\b\b\b\b\b\b\b\b\b\b\b\b\b\b\b\b\b\b\b\b\b\b\b\b\b\b\b\nEpoch 63/70\n117/117 [==============================] - 1s 7ms/step - loss: 0.0532 - accuracy: 0.9853 - val_loss: 0.6405 - val_accuracy: 0.8314\b\b\b\b\b\b\b\b\b\b\b\b\b\b\b\b\b\b\b\b\b\b\b\b\b\b\b\b\b\b\b\b\b\b\b\b\b\b\nEpoch 64/70\n117/117 [==============================] - 1s 8ms/step - loss: 0.0537 - accuracy: 0.9830 - val_loss: 0.6284 - val_accuracy: 0.8292\b\b\b\b\b\b\b\b\b\b\b\b\b\b\b\b\b\b\b\b\b\b\b\b\b\b\b\b\b\b\b\b\b\b\b\b\b\b\nEpoch 65/70\n117/117 [==============================] - 1s 9ms/step - loss: 0.0501 - accuracy: 0.9841 - val_loss: 0.6357 - val_accuracy: 0.8303\b\b\b\b\b\b\b\b\b\b\b\b\b\b\b\b\b\b\b\b\b\b\b\b\b\b\b\b\b\b\b\b\b\b\b\b\b\b\nEpoch 66/70\n117/117 [==============================] - 1s 8ms/step - loss: 0.0542 - accuracy: 0.9834 - val_loss: 0.6420 - val_accuracy: 0.8335\b\b\b\b\b\b\b\b\b\b\b\b\b\b\b\b\b\b\b\b\b\b\b\b\b\b\b\b\b\b\b\b\b\b\b\b\b\b\nEpoch 67/70\n117/117 [==============================] - 1s 8ms/step - loss: 0.0531 - accuracy: 0.9847 - val_loss: 0.6239 - val_accuracy: 0.8362\b\b\b\b\b\b\b\b\b\b\b\b\b\b\b\b\b\b\b\b\b\b\b\b\b\b\b\b\b\b\b\b\b\b\b\b\b\b\nEpoch 68/70\n117/117 [==============================] - 1s 7ms/step - loss: 0.0566 - accuracy: 0.9811 - val_loss: 0.6328 - val_accuracy: 0.8298\b\b\b\b\b\b\b\b\b\b\b\b\b\b\b\b\b\b\b\b\b\b\b\b\b\b\b\b\b\b\b\b\b\b\b\b\b\b\nEpoch 69/70\n117/117 [==============================] - 1s 7ms/step - loss: 0.0522 - accuracy: 0.9829 - val_loss: 0.6530 - val_accuracy: 0.8373\b\b\b\b\b\b\b\b\b\b\b\b\b\b\b\b\b\b\b\b\b\b\b\b\b\b\b\b\b\b\b\b\b\b\b\b\b\b\nEpoch 70/70\n117/117 [==============================] - 1s 7ms/step - loss: 0.0495 - accuracy: 0.9843 - val_loss: 0.6406 - val_accuracy: 0.8346\b\b\b\b\b\b\b\b\b\b\b\b\b\b\b\b\b\b\b\b\b\b\b\b\b\b\b\b\b\b\b\b\b\b\b\b\b\b\n"
        }
      ],
      "execution_count": 27,
      "metadata": {
        "jupyter": {
          "source_hidden": false,
          "outputs_hidden": false
        },
        "nteract": {
          "transient": {
            "deleting": false
          }
        },
        "gather": {
          "logged": 1690971023628
        },
        "id": "oMxsXWjzFVnn",
        "outputId": "10742356-3c83-4e0a-c209-e3da9eee3a8f"
      }
    },
    {
      "cell_type": "code",
      "source": [
        "# Saving the classification model\n",
        "fusion_model.save(\"prediction_model.h5\")"
      ],
      "outputs": [
        {
          "output_type": "stream",
          "name": "stderr",
          "text": "/anaconda/envs/azureml_py310_sdkv2/lib/python3.10/site-packages/keras/src/engine/training.py:3000: UserWarning: You are saving your model as an HDF5 file via `model.save()`. This file format is considered legacy. We recommend using instead the native Keras format, e.g. `model.save('my_model.keras')`.\n  saving_api.save_model(\n"
        }
      ],
      "execution_count": 28,
      "metadata": {
        "jupyter": {
          "source_hidden": false,
          "outputs_hidden": false
        },
        "nteract": {
          "transient": {
            "deleting": false
          }
        },
        "gather": {
          "logged": 1690971053373
        },
        "id": "7K9M01URFVno",
        "outputId": "113a984f-d756-4e54-ab77-5b43894554bc"
      }
    },
    {
      "cell_type": "code",
      "source": [
        "#normalization for test features\n",
        "F_vgg_normalized_test = normalize(vgg19_features_test, norm='l2', axis=1)\n",
        "MobileNetV3Small_normalized_test = normalize(MobileNetV3Small_features_test, norm='l2', axis=1)\n",
        "F_resnet_normalized_test = normalize(resnet152_features_test, norm='l2', axis=1)\n"
      ],
      "outputs": [],
      "execution_count": 29,
      "metadata": {
        "jupyter": {
          "source_hidden": false,
          "outputs_hidden": false
        },
        "nteract": {
          "transient": {
            "deleting": false
          }
        },
        "gather": {
          "logged": 1690971061259
        },
        "id": "AwuDtgjmFVno"
      }
    },
    {
      "cell_type": "code",
      "source": [
        "# Accuracy\n",
        "test_loss, test_accuracy = fusion_model.evaluate([F_vgg_normalized_test,MobileNetV3Small_normalized_test,F_resnet_normalized_test], test_one_hot_labels)\n",
        "print(\"Test Accuracy:\", test_accuracy)\n",
        "\n",
        "# F1 Score\n",
        "test_predictions = fusion_model.predict([F_vgg_normalized_test,MobileNetV3Small_normalized_test,F_resnet_normalized_test])\n",
        "test_predictions_classes = np.argmax(test_predictions, axis=1)\n",
        "test_true_classes = np.argmax(test_one_hot_labels, axis=1)\n",
        "f1 = f1_score(test_true_classes, test_predictions_classes, average='weighted')\n",
        "print(\"F1 Score:\", f1)\n",
        "\n",
        "# AUC-ROC Score\n",
        "roc_auc = roc_auc_score(test_one_hot_labels, test_predictions, multi_class='ovr', average='weighted')\n",
        "print(\"AUC-ROC Score:\", roc_auc)"
      ],
      "outputs": [
        {
          "output_type": "stream",
          "name": "stdout",
          "text": "74/74 [==============================] - 0s 2ms/step - loss: 0.6176 - accuracy: 0.8297\b\b\b\b\b\b\b\b\b\b\b\b\b\b\b\b\b\b\b\b\b\b\b\b\b\b\b\b\b\b\b\b\b\b\b\b\b\b\b\b\b\b\b\b\b\b\b\b\b\b\b\b\b\b\b\b\b\b\b\b\b\b\b\b\b\b\b\b\b\b\b\b\b\b\b\b\b\b\nTest Accuracy: 0.8296961784362793\n74/74 [==============================] - 0s 2ms/step\b\b\b\b\b\b\b\b\b\b\b\b\b\b\b\b\b\b\b\b\b\b\b\b\b\b\b\b\b\b\b\b\b\b\b\b\b\b\b\b\b\b\b\b\nF1 Score: 0.8300111644601622\nAUC-ROC Score: 0.9769104850800208\n"
        }
      ],
      "execution_count": 30,
      "metadata": {
        "jupyter": {
          "source_hidden": false,
          "outputs_hidden": false
        },
        "nteract": {
          "transient": {
            "deleting": false
          }
        },
        "gather": {
          "logged": 1690971063816
        },
        "id": "cZcgDmFyFVnp",
        "outputId": "03747c2e-535e-4d2e-9f8c-c208b4763309"
      }
    },
    {
      "cell_type": "code",
      "source": [
        "report = classification_report(test_true_classes, test_predictions_classes)\n",
        "print(report)"
      ],
      "outputs": [
        {
          "output_type": "stream",
          "name": "stdout",
          "text": "              precision    recall  f1-score   support\n\n           0       0.86      0.90      0.88       630\n           1       0.86      0.83      0.84       546\n           2       0.67      0.61      0.64       200\n           3       0.92      0.88      0.90       273\n           4       0.61      0.67      0.63       200\n           5       0.75      0.77      0.76       200\n           6       0.96      0.94      0.95       288\n\n    accuracy                           0.83      2337\n   macro avg       0.80      0.80      0.80      2337\nweighted avg       0.83      0.83      0.83      2337\n\n"
        }
      ],
      "execution_count": 31,
      "metadata": {
        "jupyter": {
          "source_hidden": false,
          "outputs_hidden": false
        },
        "nteract": {
          "transient": {
            "deleting": false
          }
        },
        "gather": {
          "logged": 1690971093034
        },
        "id": "8aEHr0WwFVnp",
        "outputId": "9d77eadd-e8ac-4289-c9a1-967a6da45a07"
      }
    },
    {
      "cell_type": "code",
      "source": [
        "image=cv2.imread('dullrazor_augmented/akiec/augmented_0_0.jpg',cv2.IMREAD_COLOR)\n",
        "#Image cropping\n",
        "img=image\n",
        "grayScale = cv2.cvtColor(img, cv2.COLOR_RGB2GRAY )\n",
        "kernel = cv2.getStructuringElement(1,(9,9))\n",
        "blackhat = cv2.morphologyEx(grayScale, cv2.MORPH_BLACKHAT, kernel)\n",
        "bhg= cv2.GaussianBlur(blackhat,(3,3),cv2.BORDER_DEFAULT)\n",
        "ret,mask = cv2.threshold(bhg,10,255,cv2.THRESH_BINARY)\n",
        "#ret=np.array(ret)\n",
        "mask = mask.astype(np.uint8)\n",
        "dst = cv2.inpaint(img,mask,6,cv2.INPAINT_TELEA)"
      ],
      "outputs": [],
      "execution_count": 32,
      "metadata": {
        "jupyter": {
          "source_hidden": false,
          "outputs_hidden": false
        },
        "nteract": {
          "transient": {
            "deleting": false
          }
        },
        "gather": {
          "logged": 1690971122976
        },
        "id": "vz_2YAyFFVnp"
      }
    },
    {
      "cell_type": "code",
      "source": [
        "from tensorflow.keras.preprocessing.image import load_img, img_to_array\n",
        "\n",
        "\n",
        "# Load and preprocess the single image\n",
        "image_path = 'dullrazor_augmented/akiec/augmented_0_0.jpg'\n",
        "img = load_img(image_path, target_size=(112, 150))\n",
        "print(img)\n",
        "\n",
        "img_array = img_to_array(img)\n",
        "print(img_array.dtype)\n",
        "img_array = np.expand_dims(img_array, axis=0)\n",
        "images = img_array[:, :, :, ::-1]\n",
        "m0 = np.mean(images[:, :, :, 0])\n",
        "m1 = np.mean(images[:, :, :, 1])\n",
        "m2 = np.mean(images[:, :, :, 2])\n",
        "images[:, :, :, 0] -= m0\n",
        "images[:, :, :, 1] -= m1\n",
        "images[:, :, :, 2] -= m2\n",
        "print(img_array.shape)\n",
        "\n",
        "# Extract features using the pre-trained models\n",
        "vgg19_features = vgg19_model.predict(images)\n",
        "MobileNetV3Small_features = MobileNetV3Small_model.predict(images)\n",
        "resnet_features = resnet152_model.predict(images)\n",
        "\n",
        "F_vgg_normalized = normalize(vgg19_features, norm='l2', axis=1)\n",
        "MobileNetV3Small_normalized = normalize(MobileNetV3Small_features, norm='l2', axis=1)\n",
        "F_resnet_normalized = normalize(resnet_features, norm='l2', axis=1)\n",
        "\n",
        "# Make prediction on the single image\n",
        "prediction = fusion_model.predict([F_vgg_normalized,MobileNetV3Small_normalized,F_resnet_normalized])\n",
        "predicted_class = np.argmax(prediction)\n",
        "\n",
        "#class labels\n",
        "class_labels = ['akiec','bcc','bkl','df','mel','nv','vasc']\n",
        "\n",
        "# Print the predicted class\n",
        "print(\"Predicted class:\", class_labels[predicted_class])\n"
      ],
      "outputs": [
        {
          "output_type": "stream",
          "name": "stdout",
          "text": "<PIL.Image.Image image mode=RGB size=150x112 at 0x7EFD2F6CE860>\nfloat32\n(1, 112, 150, 3)\n\r1/1 [==============================] - ETA: 0s\b\b\b\b\b\b\b\b\b\b\b\b\b\b\b\b\b\b\b\b\b\b\b\b\b\b\b\b\b\b\b\b\b\b\b\b\b\b\b\b\b\b\b\b\b\b\r1/1 [==============================] - 0s 52ms/step\n\r1/1 [==============================] - ETA: 0s\b\b\b\b\b\b\b\b\b\b\b\b\b\b\b\b\b\b\b\b\b\b\b\b\b\b\b\b\b\b\b\b\b\b\b\b\b\b\b\b\b\b\b\b\b\b\r1/1 [==============================] - 0s 20ms/step\n\r1/1 [==============================] - ETA: 0s\b\b\b\b\b\b\b\b\b\b\b\b\b\b\b\b\b\b\b\b\b\b\b\b\b\b\b\b\b\b\b\b\b\b\b\b\b\b\b\b\b\b\b\b\b\b\r1/1 [==============================] - 0s 80ms/step\n\r1/1 [==============================] - ETA: 0s\b\b\b\b\b\b\b\b\b\b\b\b\b\b\b\b\b\b\b\b\b\b\b\b\b\b\b\b\b\b\b\b\b\b\b\b\b\b\b\b\b\b\b\b\b\b\r1/1 [==============================] - 0s 18ms/step\nPredicted class: akiec\n"
        }
      ],
      "execution_count": 33,
      "metadata": {
        "jupyter": {
          "source_hidden": false,
          "outputs_hidden": false
        },
        "nteract": {
          "transient": {
            "deleting": false
          }
        },
        "gather": {
          "logged": 1690971125425
        },
        "id": "wZKHgO6iFVnp",
        "outputId": "b254882d-c9f7-46f1-c2b9-3880c45d0209"
      }
    },
    {
      "cell_type": "code",
      "source": [],
      "outputs": [],
      "execution_count": null,
      "metadata": {
        "jupyter": {
          "source_hidden": false,
          "outputs_hidden": false
        },
        "nteract": {
          "transient": {
            "deleting": false
          }
        }
      }
    },
    {
      "cell_type": "code",
      "source": [
        "# Compute the false positive rate (FPR), true positive rate (TPR), and thresholds\r\n",
        "fpr, tpr, thresholds = roc_curve(test_one_hot_labels[:, 1], test_predictions[:, 1])\r\n",
        "\r\n",
        "# Compute the AUC (Area Under the Curve) score\r\n",
        "roc_auc = auc(fpr, tpr)\r\n",
        "\r\n",
        "# Plot the ROC curve\r\n",
        "plt.figure(figsize=(8, 6))\r\n",
        "plt.plot(fpr, tpr, color='b', lw=2, label=f'AUC = {roc_auc:.2f}')\r\n",
        "plt.plot([0, 1], [0, 1], color='gray', lw=2, linestyle='--')\r\n",
        "plt.xlim([0.0, 1.0])\r\n",
        "plt.ylim([0.0, 1.0])\r\n",
        "plt.xlabel('False Positive Rate (FPR)')\r\n",
        "plt.ylabel('True Positive Rate (TPR)')\r\n",
        "plt.title('Receiver Operating Characteristic (ROC) Curve')\r\n",
        "plt.legend(loc='lower right')\r\n",
        "plt.grid(True)\r\n",
        "plt.show()"
      ],
      "outputs": [
        {
          "output_type": "display_data",
          "data": {
            "text/plain": "<Figure size 800x600 with 1 Axes>",
            "image/png": "[encoded data removed]"
          },
          "metadata": {}
        }
      ],
      "execution_count": 35,
      "metadata": {
        "jupyter": {
          "source_hidden": false,
          "outputs_hidden": false
        },
        "nteract": {
          "transient": {
            "deleting": false
          }
        },
        "id": "fS6t0RztFVnq",
        "gather": {
          "logged": 1690971522596
        }
      }
    }
  ],
  "metadata": {
    "kernelspec": {
      "name": "python310-sdkv2",
      "language": "python",
      "display_name": "Python 3.10 - SDK v2"
    },
    "language_info": {
      "name": "python",
      "version": "3.10.11",
      "mimetype": "text/x-python",
      "codemirror_mode": {
        "name": "ipython",
        "version": 3
      },
      "pygments_lexer": "ipython3",
      "nbconvert_exporter": "python",
      "file_extension": ".py"
    },
    "microsoft": {
      "ms_spell_check": {
        "ms_spell_check_language": "en"
      },
      "host": {
        "AzureML": {
          "notebookHasBeenCompleted": true
        }
      }
    },
    "kernel_info": {
      "name": "python310-sdkv2"
    },
    "nteract": {
      "version": "nteract-front-end@1.0.0"
    },
    "colab": {
      "provenance": [],
      "gpuType": "T4"
    },
    "accelerator": "GPU"
  },
  "nbformat": 4,
  "nbformat_minor": 0
}