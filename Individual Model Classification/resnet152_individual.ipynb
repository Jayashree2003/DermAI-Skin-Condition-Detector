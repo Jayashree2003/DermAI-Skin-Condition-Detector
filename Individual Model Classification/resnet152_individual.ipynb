{
  "cells": [
    {
      "cell_type": "code",
      "source": [
        "import os\r\n",
        "os.environ[\"CUDA_VISIBLE_DEVICES\"] = \"\"\r\n",
        "import random\r\n",
        "import shutil\r\n",
        "import cv2\r\n",
        "import pandas as pd\r\n",
        "from PIL import Image\r\n",
        "from glob import glob\r\n",
        "import matplotlib.pyplot as plt\r\n",
        "\r\n",
        "import numpy as np\r\n",
        "from sklearn.model_selection import train_test_split\r\n",
        "from sklearn.metrics import f1_score, roc_auc_score, classification_report, roc_curve, auc\r\n",
        "from sklearn.preprocessing import normalize\r\n",
        "\r\n",
        "from tensorflow.keras.preprocessing.image import ImageDataGenerator\r\n",
        "from tensorflow.keras.applications import ResNet152\r\n",
        "from tensorflow.keras.models import Sequential, Model\r\n",
        "from tensorflow.keras.layers import Dense, Dropout, concatenate, GlobalAveragePooling2D, Input, BatchNormalization, Dropout, LeakyReLU\r\n",
        "from tensorflow.keras.utils import to_categorical\r\n",
        "from tensorflow.keras.optimizers import Adam\r\n"
      ],
      "outputs": [],
      "execution_count": 17,
      "metadata": {
        "jupyter": {
          "source_hidden": false,
          "outputs_hidden": false
        },
        "nteract": {
          "transient": {
            "deleting": false
          }
        },
        "gather": {
          "logged": 1690974043306
        }
      }
    },
    {
      "cell_type": "code",
      "source": [
        "augmented_dataset_path = 'dullrazor_augmented'\r\n",
        "\r\n",
        "class_directories = ['akiec', 'bcc', 'bkl', 'df', 'mel', 'nv', 'vasc']\r\n",
        "\r\n",
        "class_image_counts = {}\r\n",
        "\r\n",
        "# Count the number of images in each class\r\n",
        "for class_name in class_directories:\r\n",
        "    class_path = os.path.join(augmented_dataset_path, class_name)\r\n",
        "    num_images = len(os.listdir(class_path))\r\n",
        "    class_image_counts[class_name] = num_images\r\n",
        "\r\n",
        "# Print the class distribution\r\n",
        "print(\"Class distribution in the augmented dataset:\")\r\n",
        "print(class_image_counts)\r\n"
      ],
      "outputs": [
        {
          "output_type": "stream",
          "name": "stdout",
          "text": "Class distribution in the augmented dataset:\n{'akiec': 3151, 'bcc': 2727, 'bkl': 1000, 'df': 1362, 'mel': 1000, 'nv': 1000, 'vasc': 1437}\n"
        }
      ],
      "execution_count": 2,
      "metadata": {
        "jupyter": {
          "source_hidden": false,
          "outputs_hidden": false
        },
        "nteract": {
          "transient": {
            "deleting": false
          }
        },
        "gather": {
          "logged": 1690972441417
        }
      }
    },
    {
      "cell_type": "code",
      "source": [
        "class_directories"
      ],
      "outputs": [
        {
          "output_type": "execute_result",
          "execution_count": 3,
          "data": {
            "text/plain": "['akiec', 'bcc', 'bkl', 'df', 'mel', 'nv', 'vasc']"
          },
          "metadata": {}
        }
      ],
      "execution_count": 3,
      "metadata": {
        "jupyter": {
          "source_hidden": false,
          "outputs_hidden": false
        },
        "nteract": {
          "transient": {
            "deleting": false
          }
        },
        "gather": {
          "logged": 1690972443943
        }
      }
    },
    {
      "cell_type": "code",
      "source": [
        "#lists to store image names, paths, and classes\r\n",
        "image_names = []\r\n",
        "image_paths = []\r\n",
        "image_classes = []\r\n",
        "\r\n",
        "# Iterate through each class and collect image information\r\n",
        "for class_name in class_directories:\r\n",
        "    class_path = os.path.join(augmented_dataset_path, class_name)\r\n",
        "    for image_name in os.listdir(class_path):\r\n",
        "        if image_name!=\".amlignore\" and image_name!=\".amlignore.amltmp\":\r\n",
        "            image_names.append(image_name)\r\n",
        "            image_paths.append(os.path.join(class_path, image_name))\r\n",
        "            image_classes.append(class_name)\r\n",
        "\r\n",
        "#DataFrame from the collected information\r\n",
        "data = {\r\n",
        "    'Image_Name': image_names,\r\n",
        "    'Image_Path': image_paths,\r\n",
        "    'Class': image_classes\r\n",
        "}\r\n",
        "\r\n",
        "df = pd.DataFrame(data)\r\n",
        "\r\n",
        "#the DataFrame to verify the results\r\n",
        "print(df)\r\n"
      ],
      "outputs": [
        {
          "output_type": "stream",
          "name": "stdout",
          "text": "                 Image_Name                                      Image_Path  \\\n0         augmented_0_0.jpg     dullrazor_augmented/akiec/augmented_0_0.jpg   \n1         augmented_0_1.jpg     dullrazor_augmented/akiec/augmented_0_1.jpg   \n2       augmented_0_100.jpg   dullrazor_augmented/akiec/augmented_0_100.jpg   \n3      augmented_0_1004.jpg  dullrazor_augmented/akiec/augmented_0_1004.jpg   \n4      augmented_0_1013.jpg  dullrazor_augmented/akiec/augmented_0_1013.jpg   \n...                     ...                                             ...   \n11670      ISIC_0072937.jpg       dullrazor_augmented/vasc/ISIC_0072937.jpg   \n11671      ISIC_0072964.jpg       dullrazor_augmented/vasc/ISIC_0072964.jpg   \n11672      ISIC_0073012.jpg       dullrazor_augmented/vasc/ISIC_0073012.jpg   \n11673      ISIC_0073031.jpg       dullrazor_augmented/vasc/ISIC_0073031.jpg   \n11674      ISIC_0073110.jpg       dullrazor_augmented/vasc/ISIC_0073110.jpg   \n\n       Class  \n0      akiec  \n1      akiec  \n2      akiec  \n3      akiec  \n4      akiec  \n...      ...  \n11670   vasc  \n11671   vasc  \n11672   vasc  \n11673   vasc  \n11674   vasc  \n\n[11675 rows x 3 columns]\n"
        }
      ],
      "execution_count": 4,
      "metadata": {
        "jupyter": {
          "source_hidden": false,
          "outputs_hidden": false
        },
        "nteract": {
          "transient": {
            "deleting": false
          }
        },
        "gather": {
          "logged": 1690972449562
        }
      }
    },
    {
      "cell_type": "code",
      "source": [
        "df['image'] = df.Image_Path.map(lambda x: np.asarray(Image.open(x).resize((150, 112))))\r\n",
        "df['cell_type_idx'] = pd.Categorical(df.Class).codes"
      ],
      "outputs": [],
      "execution_count": 5,
      "metadata": {
        "jupyter": {
          "source_hidden": false,
          "outputs_hidden": false
        },
        "nteract": {
          "transient": {
            "deleting": false
          }
        },
        "gather": {
          "logged": 1690973098510
        }
      }
    },
    {
      "cell_type": "code",
      "source": [
        "# Get a list of unique classes in the DataFrame\r\n",
        "unique_classes = df['Class'].unique()\r\n",
        "\r\n",
        "#lists to store train and test samples\r\n",
        "train_samples = []\r\n",
        "test_samples = []\r\n",
        "\r\n",
        "\r\n",
        "train_proportion = 0.8  \r\n",
        "\r\n",
        "# Iterate through each class and split samples into train and test sets\r\n",
        "for class_name in unique_classes:\r\n",
        "    # Get the DataFrame subset for the current class\r\n",
        "    class_subset = df[df['Class'] == class_name]\r\n",
        "\r\n",
        "    # Split the subset into train and test sets\r\n",
        "    train_subset, test_subset = train_test_split(class_subset, train_size=train_proportion, stratify=class_subset['Class'])\r\n",
        "\r\n",
        "    # Append the train and test subsets to the corresponding lists\r\n",
        "    train_samples.append(train_subset)\r\n",
        "    test_samples.append(test_subset)\r\n",
        "\r\n",
        "# Concatenate the train and test samples for each class back into DataFrames\r\n",
        "train_df = pd.concat(train_samples)\r\n",
        "test_df = pd.concat(test_samples)\r\n",
        "\r\n",
        "#shuffle the train and test DataFrames\r\n",
        "train_df = train_df.sample(frac=1).reset_index(drop=True)\r\n",
        "test_df = test_df.sample(frac=1).reset_index(drop=True)\r\n",
        "\r\n",
        "# Print the sizes of the train and test sets for each class\r\n",
        "print(\"Training set sizes for each class:\")\r\n",
        "print(train_df['Class'].value_counts())\r\n",
        "\r\n",
        "print(\"\\nTesting set sizes for each class:\")\r\n",
        "print(test_df['Class'].value_counts())\r\n"
      ],
      "outputs": [
        {
          "output_type": "stream",
          "name": "stdout",
          "text": "Training set sizes for each class:\nClass\nakiec    2519\nbcc      2181\nvasc     1149\ndf       1089\nbkl       800\nnv        800\nmel       800\nName: count, dtype: int64\n\nTesting set sizes for each class:\nClass\nakiec    630\nbcc      546\nvasc     288\ndf       273\nbkl      200\nnv       200\nmel      200\nName: count, dtype: int64\n"
        }
      ],
      "execution_count": 6,
      "metadata": {
        "jupyter": {
          "source_hidden": false,
          "outputs_hidden": false
        },
        "nteract": {
          "transient": {
            "deleting": false
          }
        },
        "gather": {
          "logged": 1690973194679
        }
      }
    },
    {
      "cell_type": "code",
      "source": [
        "def prepareimages(images):\r\n",
        "    # images is a list of images\r\n",
        "    images = np.asarray(images).astype(np.float64)\r\n",
        "    images = images[:, :, :, ::-1]\r\n",
        "    m0 = np.mean(images[:, :, :, 0])\r\n",
        "    m1 = np.mean(images[:, :, :, 1])\r\n",
        "    m2 = np.mean(images[:, :, :, 2])\r\n",
        "    images[:, :, :, 0] -= m0\r\n",
        "    images[:, :, :, 1] -= m1\r\n",
        "    images[:, :, :, 2] -= m2\r\n",
        "    return images\r\n",
        "\r\n",
        "trainimages = prepareimages(list(train_df.image))\r\n",
        "testimages = prepareimages(list(test_df.image))\r\n",
        "\r\n",
        "trainlabels = np.asarray(train_df.cell_type_idx)\r\n",
        "testlabels = np.asarray(test_df.cell_type_idx)\r\n"
      ],
      "outputs": [],
      "execution_count": 7,
      "metadata": {
        "jupyter": {
          "source_hidden": false,
          "outputs_hidden": false
        },
        "nteract": {
          "transient": {
            "deleting": false
          }
        },
        "gather": {
          "logged": 1690973204756
        }
      }
    },
    {
      "cell_type": "code",
      "source": [
        "train_one_hot_labels = to_categorical(trainlabels, num_classes=7)\r\n",
        "test_one_hot_labels = to_categorical(testlabels, num_classes=7)"
      ],
      "outputs": [],
      "execution_count": 8,
      "metadata": {
        "jupyter": {
          "source_hidden": false,
          "outputs_hidden": false
        },
        "nteract": {
          "transient": {
            "deleting": false
          }
        },
        "gather": {
          "logged": 1690973211277
        }
      }
    },
    {
      "cell_type": "code",
      "source": [
        "# ResNet152\r\n",
        "ResNet152_base = ResNet152(include_top=False, weights='imagenet', input_shape=(112, 150, 3))\r\n",
        "ResNet152_gap = GlobalAveragePooling2D()(ResNet152_base.output)\r\n",
        "ResNet152_model = Model(inputs = ResNet152_base.input, outputs=ResNet152_gap)\r\n",
        "ResNet152_features_train = ResNet152_model.predict(trainimages)\r\n",
        "ResNet152_features_test = ResNet152_model.predict(testimages)"
      ],
      "outputs": [
        {
          "output_type": "stream",
          "name": "stderr",
          "text": "2023-08-02 11:00:58.787703: W tensorflow/tsl/framework/cpu_allocator_impl.cc:83] Allocation of 1882540800 exceeds 10% of free system memory.\n"
        },
        {
          "output_type": "stream",
          "name": "stdout",
          "text": "292/292 [==============================] - 211s 715ms/step\b\b\b\b\b\b\b\b\b\b\b\b\b\b\b\b\b\b\b\b\b\b\b\b\b\b\b\b\b\b\b\b\b\b\b\b\b\b\b\b\b\b\b\b\b\b\b\b\n74/74 [==============================] - 52s 701ms/step\b\b\b\b\b\b\b\b\b\b\b\b\b\b\b\b\b\b\b\b\b\b\b\b\b\b\b\b\b\b\b\b\b\b\b\b\b\b\b\b\b\b\b\n"
        }
      ],
      "execution_count": 18,
      "metadata": {
        "jupyter": {
          "source_hidden": false,
          "outputs_hidden": false
        },
        "nteract": {
          "transient": {
            "deleting": false
          }
        },
        "gather": {
          "logged": 1690974324483
        }
      }
    },
    {
      "cell_type": "code",
      "source": [
        "fc_resnet_normalized = normalize(ResNet152_features_train, norm='l2', axis=1)"
      ],
      "outputs": [],
      "execution_count": 19,
      "metadata": {
        "jupyter": {
          "source_hidden": false,
          "outputs_hidden": false
        },
        "nteract": {
          "transient": {
            "deleting": false
          }
        },
        "gather": {
          "logged": 1690974544226
        }
      }
    },
    {
      "cell_type": "code",
      "source": [
        "# dimensions of each feature vector\r\n",
        "dim_resnet = fc_resnet_normalized.shape[1]\r\n",
        "\r\n",
        "# input layers for each feature vector\r\n",
        "input_resnet = Input(shape=(dim_resnet,))\r\n",
        "\r\n",
        "\r\n",
        "# Fully connected layers for each input with Batch Normalization and Dropout\r\n",
        "fc_resnet = Dense(256)(input_resnet)\r\n",
        "fc_resnet = BatchNormalization()(fc_resnet)\r\n",
        "fc_resnet = LeakyReLU()(fc_resnet)\r\n",
        "fc_resnet = Dropout(0.3)(fc_resnet)\r\n",
        "\r\n",
        "merged = fc_resnet\r\n",
        "\r\n",
        "# Additional fully connected layers for feature fusion with Batch Normalization and Dropout\r\n",
        "fusion_fc = Dense(256)(merged)\r\n",
        "fusion_fc = BatchNormalization()(fusion_fc)\r\n",
        "fusion_fc = LeakyReLU()(fusion_fc)\r\n",
        "fusion_fc = Dropout(0.3)(fusion_fc)\r\n",
        "\r\n",
        "fusion_fc = Dense(128)(fusion_fc)\r\n",
        "fusion_fc = BatchNormalization()(fusion_fc)\r\n",
        "fusion_fc = LeakyReLU()(fusion_fc)\r\n",
        "fusion_fc = Dropout(0.3)(fusion_fc)\r\n",
        "\r\n",
        "# Classification layer\r\n",
        "output_layer = Dense(7, activation='softmax')(fusion_fc)\r\n",
        "\r\n",
        "# Create the fusion model\r\n",
        "fusion_model = Model(inputs=input_resnet, outputs=output_layer)\r\n",
        "\r\n",
        "# Compile the model with a reduced learning rate\r\n",
        "optimizer = Adam(learning_rate=0.0001)\r\n",
        "fusion_model.compile(loss='categorical_crossentropy', optimizer=optimizer, metrics=['accuracy'])"
      ],
      "outputs": [],
      "execution_count": 20,
      "metadata": {
        "jupyter": {
          "source_hidden": false,
          "outputs_hidden": false
        },
        "nteract": {
          "transient": {
            "deleting": false
          }
        },
        "gather": {
          "logged": 1690974557319
        }
      }
    },
    {
      "cell_type": "code",
      "source": [
        "history1 = fusion_model.fit(\r\n",
        "    fc_resnet_normalized,\r\n",
        "    train_one_hot_labels,\r\n",
        "    batch_size=64,\r\n",
        "    epochs=70,\r\n",
        "    shuffle=True,\r\n",
        "    validation_split=0.2\r\n",
        ")"
      ],
      "outputs": [
        {
          "output_type": "stream",
          "name": "stdout",
          "text": "Epoch 1/70\n117/117 [==============================] - 2s 7ms/step - loss: 1.6325 - accuracy: 0.4016 - val_loss: 1.8313 - val_accuracy: 0.2414\b\b\b\b\b\b\b\b\b\b\b\b\b\b\b\b\b\b\b\b\b\b\b\b\b\b\b\b\b\b\b\b\b\b\b\b\b\b\b\b\b\b\nEpoch 2/70\n117/117 [==============================] - 1s 5ms/step - loss: 1.2197 - accuracy: 0.5519 - val_loss: 1.6600 - val_accuracy: 0.4893\b\b\b\b\b\b\b\b\b\b\b\b\b\b\b\b\b\b\b\b\b\b\b\b\b\b\b\b\b\b\b\b\b\b\b\b\b\b\nEpoch 3/70\n117/117 [==============================] - 1s 5ms/step - loss: 1.0603 - accuracy: 0.6066 - val_loss: 1.4173 - val_accuracy: 0.5642\b\b\b\b\b\b\b\b\b\b\b\b\b\b\b\b\b\b\b\b\b\b\b\b\b\b\b\b\b\b\b\b\b\b\b\b\b\b\nEpoch 4/70\n117/117 [==============================] - 1s 5ms/step - loss: 0.9664 - accuracy: 0.6328 - val_loss: 1.1245 - val_accuracy: 0.6660\b\b\b\b\b\b\b\b\b\b\b\b\b\b\b\b\b\b\b\b\b\b\b\b\b\b\b\b\b\b\b\b\b\b\b\b\b\b\nEpoch 5/70\n117/117 [==============================] - 1s 5ms/step - loss: 0.8946 - accuracy: 0.6614 - val_loss: 0.8893 - val_accuracy: 0.7099\b\b\b\b\b\b\b\b\b\b\b\b\b\b\b\b\b\b\b\b\b\b\b\b\b\b\b\b\b\b\b\b\b\b\b\b\b\b\nEpoch 6/70\n117/117 [==============================] - 1s 5ms/step - loss: 0.8396 - accuracy: 0.6798 - val_loss: 0.7556 - val_accuracy: 0.7329\b\b\b\b\b\b\b\b\b\b\b\b\b\b\b\b\b\b\b\b\b\b\b\b\b\b\b\b\b\b\b\b\b\b\b\b\b\b\nEpoch 7/70\n117/117 [==============================] - 1s 5ms/step - loss: 0.7856 - accuracy: 0.6996 - val_loss: 0.7127 - val_accuracy: 0.7318\b\b\b\b\b\b\b\b\b\b\b\b\b\b\b\b\b\b\b\b\b\b\b\b\b\b\b\b\b\b\b\b\b\b\b\b\b\b\nEpoch 8/70\n117/117 [==============================] - 1s 5ms/step - loss: 0.7436 - accuracy: 0.7150 - val_loss: 0.6820 - val_accuracy: 0.7425\b\b\b\b\b\b\b\b\b\b\b\b\b\b\b\b\b\b\b\b\b\b\b\b\b\b\b\b\b\b\b\b\b\b\b\b\b\b\nEpoch 9/70\n117/117 [==============================] - 1s 5ms/step - loss: 0.7242 - accuracy: 0.7257 - val_loss: 0.6647 - val_accuracy: 0.7361\b\b\b\b\b\b\b\b\b\b\b\b\b\b\b\b\b\b\b\b\b\b\b\b\b\b\b\b\b\b\b\b\b\b\b\b\b\b\nEpoch 10/70\n117/117 [==============================] - 1s 5ms/step - loss: 0.6818 - accuracy: 0.7403 - val_loss: 0.6500 - val_accuracy: 0.7484\b\b\b\b\b\b\b\b\b\b\b\b\b\b\b\b\b\b\b\b\b\b\b\b\b\b\b\b\b\b\b\b\b\b\b\b\b\b\nEpoch 11/70\n117/117 [==============================] - 1s 5ms/step - loss: 0.6536 - accuracy: 0.7561 - val_loss: 0.6373 - val_accuracy: 0.7521\b\b\b\b\b\b\b\b\b\b\b\b\b\b\b\b\b\b\b\b\b\b\b\b\b\b\b\b\b\b\b\b\b\b\b\b\b\b\nEpoch 12/70\n117/117 [==============================] - 1s 5ms/step - loss: 0.6147 - accuracy: 0.7722 - val_loss: 0.6217 - val_accuracy: 0.7505\b\b\b\b\b\b\b\b\b\b\b\b\b\b\b\b\b\b\b\b\b\b\b\b\b\b\b\b\b\b\b\b\b\b\b\b\b\b\nEpoch 13/70\n117/117 [==============================] - 1s 5ms/step - loss: 0.5867 - accuracy: 0.7813 - val_loss: 0.6230 - val_accuracy: 0.7570\b\b\b\b\b\b\b\b\b\b\b\b\b\b\b\b\b\b\b\b\b\b\b\b\b\b\b\b\b\b\b\b\b\b\b\b\b\b\nEpoch 14/70\n117/117 [==============================] - 1s 5ms/step - loss: 0.5673 - accuracy: 0.7865 - val_loss: 0.6002 - val_accuracy: 0.7639\b\b\b\b\b\b\b\b\b\b\b\b\b\b\b\b\b\b\b\b\b\b\b\b\b\b\b\b\b\b\b\b\b\b\b\b\b\b\nEpoch 15/70\n117/117 [==============================] - 1s 5ms/step - loss: 0.5414 - accuracy: 0.7912 - val_loss: 0.5932 - val_accuracy: 0.7671\b\b\b\b\b\b\b\b\b\b\b\b\b\b\b\b\b\b\b\b\b\b\b\b\b\b\b\b\b\b\b\b\b\b\b\b\b\b\nEpoch 16/70\n117/117 [==============================] - 1s 5ms/step - loss: 0.5103 - accuracy: 0.8116 - val_loss: 0.5929 - val_accuracy: 0.7639\b\b\b\b\b\b\b\b\b\b\b\b\b\b\b\b\b\b\b\b\b\b\b\b\b\b\b\b\b\b\b\b\b\b\b\b\b\b\nEpoch 17/70\n117/117 [==============================] - 1s 5ms/step - loss: 0.5028 - accuracy: 0.8120 - val_loss: 0.5861 - val_accuracy: 0.7725\b\b\b\b\b\b\b\b\b\b\b\b\b\b\b\b\b\b\b\b\b\b\b\b\b\b\b\b\b\b\b\b\b\b\b\b\b\b\nEpoch 18/70\n117/117 [==============================] - 1s 5ms/step - loss: 0.4810 - accuracy: 0.8167 - val_loss: 0.6171 - val_accuracy: 0.7570\b\b\b\b\b\b\b\b\b\b\b\b\b\b\b\b\b\b\b\b\b\b\b\b\b\b\b\b\b\b\b\b\b\b\b\b\b\b\nEpoch 19/70\n117/117 [==============================] - 1s 5ms/step - loss: 0.4679 - accuracy: 0.8273 - val_loss: 0.5886 - val_accuracy: 0.7698\b\b\b\b\b\b\b\b\b\b\b\b\b\b\b\b\b\b\b\b\b\b\b\b\b\b\b\b\b\b\b\b\b\b\b\b\b\b\nEpoch 20/70\n117/117 [==============================] - 1s 5ms/step - loss: 0.4406 - accuracy: 0.8400 - val_loss: 0.5717 - val_accuracy: 0.7810\b\b\b\b\b\b\b\b\b\b\b\b\b\b\b\b\b\b\b\b\b\b\b\b\b\b\b\b\b\b\b\b\b\b\b\b\b\b\nEpoch 21/70\n117/117 [==============================] - 1s 5ms/step - loss: 0.4297 - accuracy: 0.8392 - val_loss: 0.5770 - val_accuracy: 0.7789\b\b\b\b\b\b\b\b\b\b\b\b\b\b\b\b\b\b\b\b\b\b\b\b\b\b\b\b\b\b\b\b\b\b\b\b\b\b\nEpoch 22/70\n117/117 [==============================] - 1s 5ms/step - loss: 0.3947 - accuracy: 0.8554 - val_loss: 0.5823 - val_accuracy: 0.7741\b\b\b\b\b\b\b\b\b\b\b\b\b\b\b\b\b\b\b\b\b\b\b\b\b\b\b\b\b\b\b\b\b\b\b\b\b\b\nEpoch 23/70\n117/117 [==============================] - 1s 5ms/step - loss: 0.3832 - accuracy: 0.8621 - val_loss: 0.5715 - val_accuracy: 0.7875\b\b\b\b\b\b\b\b\b\b\b\b\b\b\b\b\b\b\b\b\b\b\b\b\b\b\b\b\b\b\b\b\b\b\b\b\b\b\nEpoch 24/70\n117/117 [==============================] - 1s 5ms/step - loss: 0.3805 - accuracy: 0.8600 - val_loss: 0.5601 - val_accuracy: 0.7960\b\b\b\b\b\b\b\b\b\b\b\b\b\b\b\b\b\b\b\b\b\b\b\b\b\b\b\b\b\b\b\b\b\b\b\b\b\b\nEpoch 25/70\n117/117 [==============================] - 1s 5ms/step - loss: 0.3652 - accuracy: 0.8668 - val_loss: 0.5670 - val_accuracy: 0.7928\b\b\b\b\b\b\b\b\b\b\b\b\b\b\b\b\b\b\b\b\b\b\b\b\b\b\b\b\b\b\b\b\b\b\b\b\b\b\nEpoch 26/70\n117/117 [==============================] - 1s 5ms/step - loss: 0.3530 - accuracy: 0.8726 - val_loss: 0.5673 - val_accuracy: 0.7907\b\b\b\b\b\b\b\b\b\b\b\b\b\b\b\b\b\b\b\b\b\b\b\b\b\b\b\b\b\b\b\b\b\b\b\b\b\b\nEpoch 27/70\n117/117 [==============================] - 1s 5ms/step - loss: 0.3442 - accuracy: 0.8722 - val_loss: 0.5880 - val_accuracy: 0.7746\b\b\b\b\b\b\b\b\b\b\b\b\b\b\b\b\b\b\b\b\b\b\b\b\b\b\b\b\b\b\b\b\b\b\b\b\b\b\nEpoch 28/70\n117/117 [==============================] - 1s 5ms/step - loss: 0.3316 - accuracy: 0.8799 - val_loss: 0.5778 - val_accuracy: 0.7853\b\b\b\b\b\b\b\b\b\b\b\b\b\b\b\b\b\b\b\b\b\b\b\b\b\b\b\b\b\b\b\b\b\b\b\b\b\b\nEpoch 29/70\n117/117 [==============================] - 1s 5ms/step - loss: 0.3113 - accuracy: 0.8869 - val_loss: 0.5649 - val_accuracy: 0.7934\b\b\b\b\b\b\b\b\b\b\b\b\b\b\b\b\b\b\b\b\b\b\b\b\b\b\b\b\b\b\b\b\b\b\b\b\b\b\nEpoch 30/70\n117/117 [==============================] - 1s 5ms/step - loss: 0.3064 - accuracy: 0.8885 - val_loss: 0.5723 - val_accuracy: 0.7928\b\b\b\b\b\b\b\b\b\b\b\b\b\b\b\b\b\b\b\b\b\b\b\b\b\b\b\b\b\b\b\b\b\b\b\b\b\b\nEpoch 31/70\n117/117 [==============================] - 1s 6ms/step - loss: 0.2933 - accuracy: 0.8934 - val_loss: 0.5810 - val_accuracy: 0.7923\b\b\b\b\b\b\b\b\b\b\b\b\b\b\b\b\b\b\b\b\b\b\b\b\b\b\b\b\b\b\b\b\b\b\b\b\b\b\nEpoch 32/70\n117/117 [==============================] - 1s 6ms/step - loss: 0.2819 - accuracy: 0.8999 - val_loss: 0.5785 - val_accuracy: 0.7821\b\b\b\b\b\b\b\b\b\b\b\b\b\b\b\b\b\b\b\b\b\b\b\b\b\b\b\b\b\b\b\b\b\b\b\b\b\b\nEpoch 33/70\n117/117 [==============================] - 1s 6ms/step - loss: 0.2634 - accuracy: 0.9055 - val_loss: 0.5960 - val_accuracy: 0.7896\b\b\b\b\b\b\b\b\b\b\b\b\b\b\b\b\b\b\b\b\b\b\b\b\b\b\b\b\b\b\b\b\b\b\b\b\b\b\nEpoch 34/70\n117/117 [==============================] - 1s 5ms/step - loss: 0.2629 - accuracy: 0.9080 - val_loss: 0.5933 - val_accuracy: 0.7912\b\b\b\b\b\b\b\b\b\b\b\b\b\b\b\b\b\b\b\b\b\b\b\b\b\b\b\b\b\b\b\b\b\b\b\b\b\b\nEpoch 35/70\n117/117 [==============================] - 1s 6ms/step - loss: 0.2606 - accuracy: 0.9066 - val_loss: 0.5938 - val_accuracy: 0.7950\b\b\b\b\b\b\b\b\b\b\b\b\b\b\b\b\b\b\b\b\b\b\b\b\b\b\b\b\b\b\b\b\b\b\b\b\b\b\nEpoch 36/70\n117/117 [==============================] - 1s 5ms/step - loss: 0.2503 - accuracy: 0.9098 - val_loss: 0.6053 - val_accuracy: 0.7944\b\b\b\b\b\b\b\b\b\b\b\b\b\b\b\b\b\b\b\b\b\b\b\b\b\b\b\b\b\b\b\b\b\b\b\b\b\b\nEpoch 37/70\n117/117 [==============================] - 1s 6ms/step - loss: 0.2410 - accuracy: 0.9149 - val_loss: 0.6284 - val_accuracy: 0.7885\b\b\b\b\b\b\b\b\b\b\b\b\b\b\b\b\b\b\b\b\b\b\b\b\b\b\b\b\b\b\b\b\b\b\b\b\b\b\nEpoch 38/70\n117/117 [==============================] - 1s 5ms/step - loss: 0.2407 - accuracy: 0.9146 - val_loss: 0.6004 - val_accuracy: 0.7982\b\b\b\b\b\b\b\b\b\b\b\b\b\b\b\b\b\b\b\b\b\b\b\b\b\b\b\b\b\b\b\b\b\b\b\b\b\b\nEpoch 39/70\n117/117 [==============================] - 1s 5ms/step - loss: 0.2188 - accuracy: 0.9221 - val_loss: 0.5967 - val_accuracy: 0.7993\b\b\b\b\b\b\b\b\b\b\b\b\b\b\b\b\b\b\b\b\b\b\b\b\b\b\b\b\b\b\b\b\b\b\b\b\b\b\nEpoch 40/70\n117/117 [==============================] - 1s 6ms/step - loss: 0.2170 - accuracy: 0.9229 - val_loss: 0.6059 - val_accuracy: 0.7987\b\b\b\b\b\b\b\b\b\b\b\b\b\b\b\b\b\b\b\b\b\b\b\b\b\b\b\b\b\b\b\b\b\b\b\b\b\b\nEpoch 41/70\n117/117 [==============================] - 1s 6ms/step - loss: 0.2193 - accuracy: 0.9226 - val_loss: 0.6096 - val_accuracy: 0.7976\b\b\b\b\b\b\b\b\b\b\b\b\b\b\b\b\b\b\b\b\b\b\b\b\b\b\b\b\b\b\b\b\b\b\b\b\b\b\nEpoch 42/70\n117/117 [==============================] - 1s 5ms/step - loss: 0.2133 - accuracy: 0.9221 - val_loss: 0.6192 - val_accuracy: 0.7971\b\b\b\b\b\b\b\b\b\b\b\b\b\b\b\b\b\b\b\b\b\b\b\b\b\b\b\b\b\b\b\b\b\b\b\b\b\b\nEpoch 43/70\n117/117 [==============================] - 1s 5ms/step - loss: 0.1915 - accuracy: 0.9371 - val_loss: 0.6238 - val_accuracy: 0.7987\b\b\b\b\b\b\b\b\b\b\b\b\b\b\b\b\b\b\b\b\b\b\b\b\b\b\b\b\b\b\b\b\b\b\b\b\b\b\nEpoch 44/70\n117/117 [==============================] - 1s 5ms/step - loss: 0.1984 - accuracy: 0.9315 - val_loss: 0.6373 - val_accuracy: 0.7907\b\b\b\b\b\b\b\b\b\b\b\b\b\b\b\b\b\b\b\b\b\b\b\b\b\b\b\b\b\b\b\b\b\b\b\b\b\b\nEpoch 45/70\n117/117 [==============================] - 1s 5ms/step - loss: 0.1847 - accuracy: 0.9355 - val_loss: 0.6392 - val_accuracy: 0.7982\b\b\b\b\b\b\b\b\b\b\b\b\b\b\b\b\b\b\b\b\b\b\b\b\b\b\b\b\b\b\b\b\b\b\b\b\b\b\nEpoch 46/70\n117/117 [==============================] - 1s 5ms/step - loss: 0.1859 - accuracy: 0.9379 - val_loss: 0.6567 - val_accuracy: 0.7987\b\b\b\b\b\b\b\b\b\b\b\b\b\b\b\b\b\b\b\b\b\b\b\b\b\b\b\b\b\b\b\b\b\b\b\b\b\b\nEpoch 47/70\n117/117 [==============================] - 1s 5ms/step - loss: 0.1747 - accuracy: 0.9404 - val_loss: 0.6472 - val_accuracy: 0.7987\b\b\b\b\b\b\b\b\b\b\b\b\b\b\b\b\b\b\b\b\b\b\b\b\b\b\b\b\b\b\b\b\b\b\b\b\b\b\nEpoch 48/70\n117/117 [==============================] - 1s 5ms/step - loss: 0.1763 - accuracy: 0.9372 - val_loss: 0.6428 - val_accuracy: 0.7923\b\b\b\b\b\b\b\b\b\b\b\b\b\b\b\b\b\b\b\b\b\b\b\b\b\b\b\b\b\b\b\b\b\b\b\b\b\b\nEpoch 49/70\n117/117 [==============================] - 1s 5ms/step - loss: 0.1692 - accuracy: 0.9408 - val_loss: 0.6989 - val_accuracy: 0.7784\b\b\b\b\b\b\b\b\b\b\b\b\b\b\b\b\b\b\b\b\b\b\b\b\b\b\b\b\b\b\b\b\b\b\b\b\b\b\nEpoch 50/70\n117/117 [==============================] - 1s 5ms/step - loss: 0.1526 - accuracy: 0.9491 - val_loss: 0.6674 - val_accuracy: 0.7966\b\b\b\b\b\b\b\b\b\b\b\b\b\b\b\b\b\b\b\b\b\b\b\b\b\b\b\b\b\b\b\b\b\b\b\b\b\b\nEpoch 51/70\n117/117 [==============================] - 1s 5ms/step - loss: 0.1524 - accuracy: 0.9473 - val_loss: 0.6629 - val_accuracy: 0.7896\b\b\b\b\b\b\b\b\b\b\b\b\b\b\b\b\b\b\b\b\b\b\b\b\b\b\b\b\b\b\b\b\b\b\b\b\b\b\nEpoch 52/70\n117/117 [==============================] - 1s 5ms/step - loss: 0.1503 - accuracy: 0.9478 - val_loss: 0.6955 - val_accuracy: 0.7832\b\b\b\b\b\b\b\b\b\b\b\b\b\b\b\b\b\b\b\b\b\b\b\b\b\b\b\b\b\b\b\b\b\b\b\b\b\b\nEpoch 53/70\n117/117 [==============================] - 1s 5ms/step - loss: 0.1461 - accuracy: 0.9514 - val_loss: 0.7030 - val_accuracy: 0.7907\b\b\b\b\b\b\b\b\b\b\b\b\b\b\b\b\b\b\b\b\b\b\b\b\b\b\b\b\b\b\b\b\b\b\b\b\b\b\nEpoch 54/70\n117/117 [==============================] - 1s 5ms/step - loss: 0.1357 - accuracy: 0.9534 - val_loss: 0.7078 - val_accuracy: 0.7896\b\b\b\b\b\b\b\b\b\b\b\b\b\b\b\b\b\b\b\b\b\b\b\b\b\b\b\b\b\b\b\b\b\b\b\b\b\b\nEpoch 55/70\n117/117 [==============================] - 1s 5ms/step - loss: 0.1372 - accuracy: 0.9542 - val_loss: 0.7091 - val_accuracy: 0.7907\b\b\b\b\b\b\b\b\b\b\b\b\b\b\b\b\b\b\b\b\b\b\b\b\b\b\b\b\b\b\b\b\b\b\b\b\b\b\nEpoch 56/70\n117/117 [==============================] - 1s 5ms/step - loss: 0.1357 - accuracy: 0.9545 - val_loss: 0.6846 - val_accuracy: 0.8003\b\b\b\b\b\b\b\b\b\b\b\b\b\b\b\b\b\b\b\b\b\b\b\b\b\b\b\b\b\b\b\b\b\b\b\b\b\b\nEpoch 57/70\n117/117 [==============================] - 1s 6ms/step - loss: 0.1278 - accuracy: 0.9554 - val_loss: 0.7131 - val_accuracy: 0.7918\b\b\b\b\b\b\b\b\b\b\b\b\b\b\b\b\b\b\b\b\b\b\b\b\b\b\b\b\b\b\b\b\b\b\b\b\b\b\nEpoch 58/70\n117/117 [==============================] - 1s 5ms/step - loss: 0.1298 - accuracy: 0.9546 - val_loss: 0.7118 - val_accuracy: 0.7982\b\b\b\b\b\b\b\b\b\b\b\b\b\b\b\b\b\b\b\b\b\b\b\b\b\b\b\b\b\b\b\b\b\b\b\b\b\b\nEpoch 59/70\n117/117 [==============================] - 1s 5ms/step - loss: 0.1323 - accuracy: 0.9527 - val_loss: 0.7235 - val_accuracy: 0.7944\b\b\b\b\b\b\b\b\b\b\b\b\b\b\b\b\b\b\b\b\b\b\b\b\b\b\b\b\b\b\b\b\b\b\b\b\b\b\nEpoch 60/70\n117/117 [==============================] - 1s 5ms/step - loss: 0.1283 - accuracy: 0.9578 - val_loss: 0.7482 - val_accuracy: 0.7864\b\b\b\b\b\b\b\b\b\b\b\b\b\b\b\b\b\b\b\b\b\b\b\b\b\b\b\b\b\b\b\b\b\b\b\b\b\b\nEpoch 61/70\n117/117 [==============================] - 1s 5ms/step - loss: 0.1133 - accuracy: 0.9627 - val_loss: 0.7573 - val_accuracy: 0.7896\b\b\b\b\b\b\b\b\b\b\b\b\b\b\b\b\b\b\b\b\b\b\b\b\b\b\b\b\b\b\b\b\b\b\b\b\b\b\nEpoch 62/70\n117/117 [==============================] - 1s 5ms/step - loss: 0.1144 - accuracy: 0.9597 - val_loss: 0.7257 - val_accuracy: 0.7982\b\b\b\b\b\b\b\b\b\b\b\b\b\b\b\b\b\b\b\b\b\b\b\b\b\b\b\b\b\b\b\b\b\b\b\b\b\b\nEpoch 63/70\n117/117 [==============================] - 1s 5ms/step - loss: 0.1064 - accuracy: 0.9629 - val_loss: 0.7499 - val_accuracy: 0.7976\b\b\b\b\b\b\b\b\b\b\b\b\b\b\b\b\b\b\b\b\b\b\b\b\b\b\b\b\b\b\b\b\b\b\b\b\b\b\nEpoch 64/70\n117/117 [==============================] - 1s 5ms/step - loss: 0.1109 - accuracy: 0.9633 - val_loss: 0.7541 - val_accuracy: 0.7944\b\b\b\b\b\b\b\b\b\b\b\b\b\b\b\b\b\b\b\b\b\b\b\b\b\b\b\b\b\b\b\b\b\b\b\b\b\b\nEpoch 65/70\n117/117 [==============================] - 1s 5ms/step - loss: 0.1042 - accuracy: 0.9652 - val_loss: 0.7669 - val_accuracy: 0.8009\b\b\b\b\b\b\b\b\b\b\b\b\b\b\b\b\b\b\b\b\b\b\b\b\b\b\b\b\b\b\b\b\b\b\b\b\b\b\nEpoch 66/70\n117/117 [==============================] - 1s 5ms/step - loss: 0.1005 - accuracy: 0.9665 - val_loss: 0.7328 - val_accuracy: 0.7960\b\b\b\b\b\b\b\b\b\b\b\b\b\b\b\b\b\b\b\b\b\b\b\b\b\b\b\b\b\b\b\b\b\b\b\b\b\b\nEpoch 67/70\n117/117 [==============================] - 1s 6ms/step - loss: 0.0975 - accuracy: 0.9692 - val_loss: 0.7448 - val_accuracy: 0.7993\b\b\b\b\b\b\b\b\b\b\b\b\b\b\b\b\b\b\b\b\b\b\b\b\b\b\b\b\b\b\b\b\b\b\b\b\b\b\nEpoch 68/70\n117/117 [==============================] - 1s 5ms/step - loss: 0.0973 - accuracy: 0.9691 - val_loss: 0.7605 - val_accuracy: 0.7950\b\b\b\b\b\b\b\b\b\b\b\b\b\b\b\b\b\b\b\b\b\b\b\b\b\b\b\b\b\b\b\b\b\b\b\b\b\b\nEpoch 69/70\n117/117 [==============================] - 1s 5ms/step - loss: 0.1005 - accuracy: 0.9672 - val_loss: 0.7812 - val_accuracy: 0.7939\b\b\b\b\b\b\b\b\b\b\b\b\b\b\b\b\b\b\b\b\b\b\b\b\b\b\b\b\b\b\b\b\b\b\b\b\b\b\nEpoch 70/70\n117/117 [==============================] - 1s 5ms/step - loss: 0.0925 - accuracy: 0.9697 - val_loss: 0.7605 - val_accuracy: 0.7934\b\b\b\b\b\b\b\b\b\b\b\b\b\b\b\b\b\b\b\b\b\b\b\b\b\b\b\b\b\b\b\b\b\b\b\b\b\b\n"
        }
      ],
      "execution_count": 21,
      "metadata": {
        "jupyter": {
          "source_hidden": false,
          "outputs_hidden": false
        },
        "nteract": {
          "transient": {
            "deleting": false
          }
        },
        "gather": {
          "logged": 1690974604905
        }
      }
    },
    {
      "cell_type": "code",
      "source": [
        "fc_resnet_normalized_test = normalize(ResNet152_features_test, norm='l2', axis=1)\r\n"
      ],
      "outputs": [],
      "execution_count": 22,
      "metadata": {
        "jupyter": {
          "source_hidden": false,
          "outputs_hidden": false
        },
        "nteract": {
          "transient": {
            "deleting": false
          }
        },
        "gather": {
          "logged": 1690974648294
        }
      }
    },
    {
      "cell_type": "code",
      "source": [
        "# Accuracy\r\n",
        "test_loss, test_accuracy = fusion_model.evaluate(fc_resnet_normalized_test, test_one_hot_labels)\r\n",
        "print(\"Test Accuracy:\", test_accuracy)\r\n",
        "\r\n",
        "# F1 Score\r\n",
        "test_predictions = fusion_model.predict(fc_resnet_normalized_test)\r\n",
        "test_predictions_classes = np.argmax(test_predictions, axis=1)\r\n",
        "test_true_classes = np.argmax(test_one_hot_labels, axis=1)\r\n",
        "f1 = f1_score(test_true_classes, test_predictions_classes, average='weighted')\r\n",
        "print(\"F1 Score:\", f1)\r\n",
        "\r\n",
        "# AUC-ROC Score\r\n",
        "roc_auc = roc_auc_score(test_one_hot_labels, test_predictions, multi_class='ovr', average='weighted')\r\n",
        "print(\"AUC-ROC Score:\", roc_auc)"
      ],
      "outputs": [
        {
          "output_type": "stream",
          "name": "stdout",
          "text": "74/74 [==============================] - 0s 1ms/step - loss: 0.7168 - accuracy: 0.8100\b\b\b\b\b\b\b\b\b\b\b\b\b\b\b\b\b\b\b\b\b\b\b\b\b\b\b\b\b\b\b\b\b\b\b\b\b\b\b\b\b\b\b\b\b\b\b\b\b\b\b\b\b\b\b\b\b\b\b\b\b\b\b\b\b\b\b\b\b\b\b\b\b\b\b\b\b\b\nTest Accuracy: 0.8100128173828125\n74/74 [==============================] - 0s 1ms/step\b\b\b\b\b\b\b\b\b\b\b\b\b\b\b\b\b\b\b\b\b\b\b\b\b\b\b\b\b\b\b\b\b\b\b\b\b\b\b\b\b\b\b\b\nF1 Score: 0.8096433666315713\nAUC-ROC Score: 0.9679775073991344\n"
        }
      ],
      "execution_count": 23,
      "metadata": {
        "jupyter": {
          "source_hidden": false,
          "outputs_hidden": false
        },
        "nteract": {
          "transient": {
            "deleting": false
          }
        },
        "gather": {
          "logged": 1690974669826
        }
      }
    },
    {
      "cell_type": "code",
      "source": [
        "report = classification_report(test_true_classes, test_predictions_classes)\r\n",
        "print(report)"
      ],
      "outputs": [
        {
          "output_type": "stream",
          "name": "stdout",
          "text": "              precision    recall  f1-score   support\n\n           0       0.86      0.83      0.85       630\n           1       0.81      0.83      0.82       546\n           2       0.69      0.60      0.64       200\n           3       0.85      0.90      0.88       273\n           4       0.64      0.66      0.65       200\n           5       0.70      0.77      0.74       200\n           6       0.94      0.92      0.93       288\n\n    accuracy                           0.81      2337\n   macro avg       0.78      0.79      0.78      2337\nweighted avg       0.81      0.81      0.81      2337\n\n"
        }
      ],
      "execution_count": 24,
      "metadata": {
        "jupyter": {
          "source_hidden": false,
          "outputs_hidden": false
        },
        "nteract": {
          "transient": {
            "deleting": false
          }
        },
        "gather": {
          "logged": 1690974683300
        }
      }
    }
  ],
  "metadata": {
    "kernelspec": {
      "name": "python310-sdkv2",
      "language": "python",
      "display_name": "Python 3.10 - SDK v2"
    },
    "language_info": {
      "name": "python",
      "version": "3.10.11",
      "mimetype": "text/x-python",
      "codemirror_mode": {
        "name": "ipython",
        "version": 3
      },
      "pygments_lexer": "ipython3",
      "nbconvert_exporter": "python",
      "file_extension": ".py"
    },
    "microsoft": {
      "ms_spell_check": {
        "ms_spell_check_language": "en"
      },
      "host": {
        "AzureML": {
          "notebookHasBeenCompleted": true
        }
      }
    },
    "kernel_info": {
      "name": "python310-sdkv2"
    },
    "nteract": {
      "version": "nteract-front-end@1.0.0"
    }
  },
  "nbformat": 4,
  "nbformat_minor": 2
}