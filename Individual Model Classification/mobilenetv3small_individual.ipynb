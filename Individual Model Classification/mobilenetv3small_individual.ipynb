{
  "cells": [
    {
      "cell_type": "code",
      "source": [
        "import os\r\n",
        "os.environ[\"CUDA_VISIBLE_DEVICES\"] = \"\"\r\n",
        "import random\r\n",
        "import shutil\r\n",
        "import cv2\r\n",
        "import pandas as pd\r\n",
        "from PIL import Image\r\n",
        "from glob import glob\r\n",
        "import matplotlib.pyplot as plt\r\n",
        "\r\n",
        "import numpy as np\r\n",
        "from sklearn.model_selection import train_test_split\r\n",
        "from sklearn.metrics import f1_score, roc_auc_score, classification_report, roc_curve, auc\r\n",
        "from sklearn.preprocessing import normalize\r\n",
        "\r\n",
        "from tensorflow.keras.preprocessing.image import ImageDataGenerator\r\n",
        "from tensorflow.keras.applications import MobileNetV3Small\r\n",
        "from tensorflow.keras.models import Sequential, Model\r\n",
        "from tensorflow.keras.layers import Dense, Dropout, concatenate, GlobalAveragePooling2D, Input, BatchNormalization, Dropout, LeakyReLU\r\n",
        "from tensorflow.keras.utils import to_categorical\r\n",
        "from tensorflow.keras.optimizers import Adam\r\n"
      ],
      "outputs": [],
      "execution_count": 25,
      "metadata": {
        "jupyter": {
          "source_hidden": false,
          "outputs_hidden": false
        },
        "nteract": {
          "transient": {
            "deleting": false
          }
        },
        "gather": {
          "logged": 1690974859723
        }
      }
    },
    {
      "cell_type": "code",
      "source": [
        "augmented_dataset_path = 'dullrazor_augmented'\r\n",
        "\r\n",
        "class_directories = ['akiec', 'bcc', 'bkl', 'df', 'mel', 'nv', 'vasc']\r\n",
        "\r\n",
        "class_image_counts = {}\r\n",
        "\r\n",
        "# Count the number of images in each class\r\n",
        "for class_name in class_directories:\r\n",
        "    class_path = os.path.join(augmented_dataset_path, class_name)\r\n",
        "    num_images = len(os.listdir(class_path))\r\n",
        "    class_image_counts[class_name] = num_images\r\n",
        "\r\n",
        "# Print the class distribution\r\n",
        "print(\"Class distribution in the augmented dataset:\")\r\n",
        "print(class_image_counts)\r\n"
      ],
      "outputs": [
        {
          "output_type": "stream",
          "name": "stdout",
          "text": "Class distribution in the augmented dataset:\n{'akiec': 3151, 'bcc': 2727, 'bkl': 1000, 'df': 1362, 'mel': 1000, 'nv': 1000, 'vasc': 1437}\n"
        }
      ],
      "execution_count": 2,
      "metadata": {
        "jupyter": {
          "source_hidden": false,
          "outputs_hidden": false
        },
        "nteract": {
          "transient": {
            "deleting": false
          }
        },
        "gather": {
          "logged": 1690972441417
        }
      }
    },
    {
      "cell_type": "code",
      "source": [
        "class_directories"
      ],
      "outputs": [
        {
          "output_type": "execute_result",
          "execution_count": 3,
          "data": {
            "text/plain": "['akiec', 'bcc', 'bkl', 'df', 'mel', 'nv', 'vasc']"
          },
          "metadata": {}
        }
      ],
      "execution_count": 3,
      "metadata": {
        "jupyter": {
          "source_hidden": false,
          "outputs_hidden": false
        },
        "nteract": {
          "transient": {
            "deleting": false
          }
        },
        "gather": {
          "logged": 1690972443943
        }
      }
    },
    {
      "cell_type": "code",
      "source": [
        "#lists to store image names, paths, and classes\r\n",
        "image_names = []\r\n",
        "image_paths = []\r\n",
        "image_classes = []\r\n",
        "\r\n",
        "# Iterate through each class and collect image information\r\n",
        "for class_name in class_directories:\r\n",
        "    class_path = os.path.join(augmented_dataset_path, class_name)\r\n",
        "    for image_name in os.listdir(class_path):\r\n",
        "        if image_name!=\".amlignore\" and image_name!=\".amlignore.amltmp\":\r\n",
        "            image_names.append(image_name)\r\n",
        "            image_paths.append(os.path.join(class_path, image_name))\r\n",
        "            image_classes.append(class_name)\r\n",
        "\r\n",
        "#DataFrame from the collected information\r\n",
        "data = {\r\n",
        "    'Image_Name': image_names,\r\n",
        "    'Image_Path': image_paths,\r\n",
        "    'Class': image_classes\r\n",
        "}\r\n",
        "\r\n",
        "df = pd.DataFrame(data)\r\n",
        "\r\n",
        "#the DataFrame to verify the results\r\n",
        "print(df)\r\n"
      ],
      "outputs": [
        {
          "output_type": "stream",
          "name": "stdout",
          "text": "                 Image_Name                                      Image_Path  \\\n0         augmented_0_0.jpg     dullrazor_augmented/akiec/augmented_0_0.jpg   \n1         augmented_0_1.jpg     dullrazor_augmented/akiec/augmented_0_1.jpg   \n2       augmented_0_100.jpg   dullrazor_augmented/akiec/augmented_0_100.jpg   \n3      augmented_0_1004.jpg  dullrazor_augmented/akiec/augmented_0_1004.jpg   \n4      augmented_0_1013.jpg  dullrazor_augmented/akiec/augmented_0_1013.jpg   \n...                     ...                                             ...   \n11670      ISIC_0072937.jpg       dullrazor_augmented/vasc/ISIC_0072937.jpg   \n11671      ISIC_0072964.jpg       dullrazor_augmented/vasc/ISIC_0072964.jpg   \n11672      ISIC_0073012.jpg       dullrazor_augmented/vasc/ISIC_0073012.jpg   \n11673      ISIC_0073031.jpg       dullrazor_augmented/vasc/ISIC_0073031.jpg   \n11674      ISIC_0073110.jpg       dullrazor_augmented/vasc/ISIC_0073110.jpg   \n\n       Class  \n0      akiec  \n1      akiec  \n2      akiec  \n3      akiec  \n4      akiec  \n...      ...  \n11670   vasc  \n11671   vasc  \n11672   vasc  \n11673   vasc  \n11674   vasc  \n\n[11675 rows x 3 columns]\n"
        }
      ],
      "execution_count": 4,
      "metadata": {
        "jupyter": {
          "source_hidden": false,
          "outputs_hidden": false
        },
        "nteract": {
          "transient": {
            "deleting": false
          }
        },
        "gather": {
          "logged": 1690972449562
        }
      }
    },
    {
      "cell_type": "code",
      "source": [
        "df['image'] = df.Image_Path.map(lambda x: np.asarray(Image.open(x).resize((150, 112))))\r\n",
        "df['cell_type_idx'] = pd.Categorical(df.Class).codes"
      ],
      "outputs": [],
      "execution_count": 5,
      "metadata": {
        "jupyter": {
          "source_hidden": false,
          "outputs_hidden": false
        },
        "nteract": {
          "transient": {
            "deleting": false
          }
        },
        "gather": {
          "logged": 1690973098510
        }
      }
    },
    {
      "cell_type": "code",
      "source": [
        "# Get a list of unique classes in the DataFrame\r\n",
        "unique_classes = df['Class'].unique()\r\n",
        "\r\n",
        "#lists to store train and test samples\r\n",
        "train_samples = []\r\n",
        "test_samples = []\r\n",
        "\r\n",
        "\r\n",
        "train_proportion = 0.8  \r\n",
        "\r\n",
        "# Iterate through each class and split samples into train and test sets\r\n",
        "for class_name in unique_classes:\r\n",
        "    # Get the DataFrame subset for the current class\r\n",
        "    class_subset = df[df['Class'] == class_name]\r\n",
        "\r\n",
        "    # Split the subset into train and test sets\r\n",
        "    train_subset, test_subset = train_test_split(class_subset, train_size=train_proportion, stratify=class_subset['Class'])\r\n",
        "\r\n",
        "    # Append the train and test subsets to the corresponding lists\r\n",
        "    train_samples.append(train_subset)\r\n",
        "    test_samples.append(test_subset)\r\n",
        "\r\n",
        "# Concatenate the train and test samples for each class back into DataFrames\r\n",
        "train_df = pd.concat(train_samples)\r\n",
        "test_df = pd.concat(test_samples)\r\n",
        "\r\n",
        "#shuffle the train and test DataFrames\r\n",
        "train_df = train_df.sample(frac=1).reset_index(drop=True)\r\n",
        "test_df = test_df.sample(frac=1).reset_index(drop=True)\r\n",
        "\r\n",
        "# Print the sizes of the train and test sets for each class\r\n",
        "print(\"Training set sizes for each class:\")\r\n",
        "print(train_df['Class'].value_counts())\r\n",
        "\r\n",
        "print(\"\\nTesting set sizes for each class:\")\r\n",
        "print(test_df['Class'].value_counts())\r\n"
      ],
      "outputs": [
        {
          "output_type": "stream",
          "name": "stdout",
          "text": "Training set sizes for each class:\nClass\nakiec    2519\nbcc      2181\nvasc     1149\ndf       1089\nbkl       800\nnv        800\nmel       800\nName: count, dtype: int64\n\nTesting set sizes for each class:\nClass\nakiec    630\nbcc      546\nvasc     288\ndf       273\nbkl      200\nnv       200\nmel      200\nName: count, dtype: int64\n"
        }
      ],
      "execution_count": 6,
      "metadata": {
        "jupyter": {
          "source_hidden": false,
          "outputs_hidden": false
        },
        "nteract": {
          "transient": {
            "deleting": false
          }
        },
        "gather": {
          "logged": 1690973194679
        }
      }
    },
    {
      "cell_type": "code",
      "source": [
        "def prepareimages(images):\r\n",
        "    # images is a list of images\r\n",
        "    images = np.asarray(images).astype(np.float64)\r\n",
        "    images = images[:, :, :, ::-1]\r\n",
        "    m0 = np.mean(images[:, :, :, 0])\r\n",
        "    m1 = np.mean(images[:, :, :, 1])\r\n",
        "    m2 = np.mean(images[:, :, :, 2])\r\n",
        "    images[:, :, :, 0] -= m0\r\n",
        "    images[:, :, :, 1] -= m1\r\n",
        "    images[:, :, :, 2] -= m2\r\n",
        "    return images\r\n",
        "\r\n",
        "trainimages = prepareimages(list(train_df.image))\r\n",
        "testimages = prepareimages(list(test_df.image))\r\n",
        "\r\n",
        "trainlabels = np.asarray(train_df.cell_type_idx)\r\n",
        "testlabels = np.asarray(test_df.cell_type_idx)\r\n"
      ],
      "outputs": [],
      "execution_count": 7,
      "metadata": {
        "jupyter": {
          "source_hidden": false,
          "outputs_hidden": false
        },
        "nteract": {
          "transient": {
            "deleting": false
          }
        },
        "gather": {
          "logged": 1690973204756
        }
      }
    },
    {
      "cell_type": "code",
      "source": [
        "train_one_hot_labels = to_categorical(trainlabels, num_classes=7)\r\n",
        "test_one_hot_labels = to_categorical(testlabels, num_classes=7)"
      ],
      "outputs": [],
      "execution_count": 8,
      "metadata": {
        "jupyter": {
          "source_hidden": false,
          "outputs_hidden": false
        },
        "nteract": {
          "transient": {
            "deleting": false
          }
        },
        "gather": {
          "logged": 1690973211277
        }
      }
    },
    {
      "cell_type": "code",
      "source": [
        "# MobileNetV3Small\r\n",
        "MobileNetV3Small_base = MobileNetV3Small(include_top=False, weights='imagenet', input_shape=(112, 150, 3))\r\n",
        "MobileNetV3Small_gap = GlobalAveragePooling2D()(MobileNetV3Small_base.output)\r\n",
        "MobileNetV3Small_model = Model(inputs = MobileNetV3Small_base.input, outputs=MobileNetV3Small_gap)\r\n",
        "MobileNetV3Small_features_train = MobileNetV3Small_model.predict(trainimages)\r\n",
        "MobileNetV3Small_features_test = MobileNetV3Small_model.predict(testimages)"
      ],
      "outputs": [
        {
          "output_type": "stream",
          "name": "stdout",
          "text": "WARNING:tensorflow:`input_shape` is undefined or non-square, or `rows` is not 224. Weights for input shape (224, 224) will be loaded as the default.\n292/292 [==============================] - 11s 34ms/step\b\b\b\b\b\b\b\b\b\b\b\b\b\b\b\b\b\b\b\b\b\b\b\b\b\b\b\b\b\b\b\b\b\b\b\b\b\b\b\b\b\b\b\b\b\b\b\b\n74/74 [==============================] - 3s 34ms/step\b\b\b\b\b\b\b\b\b\b\b\b\b\b\b\b\b\b\b\b\b\b\b\b\b\b\b\b\b\b\b\b\b\b\b\b\b\b\b\b\b\b\b\n"
        },
        {
          "output_type": "stream",
          "name": "stderr",
          "text": "2023-08-02 11:17:15.721549: W tensorflow/tsl/framework/cpu_allocator_impl.cc:83] Allocation of 1882540800 exceeds 10% of free system memory.\n"
        }
      ],
      "execution_count": 26,
      "metadata": {
        "jupyter": {
          "source_hidden": false,
          "outputs_hidden": false
        },
        "nteract": {
          "transient": {
            "deleting": false
          }
        },
        "gather": {
          "logged": 1690975051663
        }
      }
    },
    {
      "cell_type": "code",
      "source": [
        "fc_mobilenet_normalized = normalize(MobileNetV3Small_features_train, norm='l2', axis=1)"
      ],
      "outputs": [],
      "execution_count": 27,
      "metadata": {
        "jupyter": {
          "source_hidden": false,
          "outputs_hidden": false
        },
        "nteract": {
          "transient": {
            "deleting": false
          }
        },
        "gather": {
          "logged": 1690975117297
        }
      }
    },
    {
      "cell_type": "code",
      "source": [
        "# dimensions of each feature vector\r\n",
        "dim_mobilenet = fc_mobilenet_normalized.shape[1]\r\n",
        "\r\n",
        "# input layers for each feature vector\r\n",
        "input_mobilenet = Input(shape=(dim_mobilenet,))\r\n",
        "\r\n",
        "\r\n",
        "# Fully connected layers for each input with Batch Normalization and Dropout\r\n",
        "fc_mobilenet = Dense(256)(input_mobilenet)\r\n",
        "fc_mobilenet = BatchNormalization()(fc_mobilenet)\r\n",
        "fc_mobilenet = LeakyReLU()(fc_mobilenet)\r\n",
        "fc_mobilenet = Dropout(0.3)(fc_mobilenet)\r\n",
        "\r\n",
        "merged = fc_mobilenet\r\n",
        "\r\n",
        "# Additional fully connected layers for feature fusion with Batch Normalization and Dropout\r\n",
        "fusion_fc = Dense(256)(merged)\r\n",
        "fusion_fc = BatchNormalization()(fusion_fc)\r\n",
        "fusion_fc = LeakyReLU()(fusion_fc)\r\n",
        "fusion_fc = Dropout(0.3)(fusion_fc)\r\n",
        "\r\n",
        "fusion_fc = Dense(128)(fusion_fc)\r\n",
        "fusion_fc = BatchNormalization()(fusion_fc)\r\n",
        "fusion_fc = LeakyReLU()(fusion_fc)\r\n",
        "fusion_fc = Dropout(0.3)(fusion_fc)\r\n",
        "\r\n",
        "# Classification layer\r\n",
        "output_layer = Dense(7, activation='softmax')(fusion_fc)\r\n",
        "\r\n",
        "# Create the fusion model\r\n",
        "fusion_model = Model(inputs=input_mobilenet, outputs=output_layer)\r\n",
        "\r\n",
        "# Compile the model with a reduced learning rate\r\n",
        "optimizer = Adam(learning_rate=0.0001)\r\n",
        "fusion_model.compile(loss='categorical_crossentropy', optimizer=optimizer, metrics=['accuracy'])"
      ],
      "outputs": [],
      "execution_count": 28,
      "metadata": {
        "jupyter": {
          "source_hidden": false,
          "outputs_hidden": false
        },
        "nteract": {
          "transient": {
            "deleting": false
          }
        },
        "gather": {
          "logged": 1690975119356
        }
      }
    },
    {
      "cell_type": "code",
      "source": [
        "history1 = fusion_model.fit(\r\n",
        "    fc_mobilenet_normalized,\r\n",
        "    train_one_hot_labels,\r\n",
        "    batch_size=64,\r\n",
        "    epochs=70,\r\n",
        "    shuffle=True,\r\n",
        "    validation_split=0.2\r\n",
        ")"
      ],
      "outputs": [
        {
          "output_type": "stream",
          "name": "stdout",
          "text": "Epoch 1/70\n117/117 [==============================] - 2s 5ms/step - loss: 1.8673 - accuracy: 0.3285 - val_loss: 1.8116 - val_accuracy: 0.3945\b\b\b\b\b\b\b\b\b\b\b\b\b\b\b\b\b\b\b\b\b\b\b\b\b\b\b\b\b\b\b\b\b\b\b\b\b\b\b\b\b\b\nEpoch 2/70\n117/117 [==============================] - 0s 4ms/step - loss: 1.4076 - accuracy: 0.4880 - val_loss: 1.6331 - val_accuracy: 0.4968\b\b\b\b\b\b\b\b\b\b\b\b\b\b\b\b\b\b\b\b\b\b\b\b\b\b\b\b\b\b\b\b\b\b\b\b\b\b\nEpoch 3/70\n117/117 [==============================] - 0s 4ms/step - loss: 1.2734 - accuracy: 0.5344 - val_loss: 1.4226 - val_accuracy: 0.5525\b\b\b\b\b\b\b\b\b\b\b\b\b\b\b\b\b\b\b\b\b\b\b\b\b\b\b\b\b\b\b\b\b\b\b\b\b\b\nEpoch 4/70\n117/117 [==============================] - 0s 4ms/step - loss: 1.1910 - accuracy: 0.5609 - val_loss: 1.1941 - val_accuracy: 0.6049\b\b\b\b\b\b\b\b\b\b\b\b\b\b\b\b\b\b\b\b\b\b\b\b\b\b\b\b\b\b\b\b\b\b\b\b\b\b\nEpoch 5/70\n117/117 [==============================] - 0s 4ms/step - loss: 1.1416 - accuracy: 0.5647 - val_loss: 1.0258 - val_accuracy: 0.6306\b\b\b\b\b\b\b\b\b\b\b\b\b\b\b\b\b\b\b\b\b\b\b\b\b\b\b\b\b\b\b\b\b\b\b\b\b\b\nEpoch 6/70\n117/117 [==============================] - 0s 4ms/step - loss: 1.0776 - accuracy: 0.5940 - val_loss: 0.9514 - val_accuracy: 0.6392\b\b\b\b\b\b\b\b\b\b\b\b\b\b\b\b\b\b\b\b\b\b\b\b\b\b\b\b\b\b\b\b\b\b\b\b\b\b\nEpoch 7/70\n117/117 [==============================] - 0s 4ms/step - loss: 1.0447 - accuracy: 0.6028 - val_loss: 0.9154 - val_accuracy: 0.6440\b\b\b\b\b\b\b\b\b\b\b\b\b\b\b\b\b\b\b\b\b\b\b\b\b\b\b\b\b\b\b\b\b\b\b\b\b\b\nEpoch 8/70\n117/117 [==============================] - 0s 4ms/step - loss: 1.0007 - accuracy: 0.6224 - val_loss: 0.8916 - val_accuracy: 0.6520\b\b\b\b\b\b\b\b\b\b\b\b\b\b\b\b\b\b\b\b\b\b\b\b\b\b\b\b\b\b\b\b\b\b\b\b\b\b\nEpoch 9/70\n117/117 [==============================] - 0s 4ms/step - loss: 0.9743 - accuracy: 0.6286 - val_loss: 0.8762 - val_accuracy: 0.6643\b\b\b\b\b\b\b\b\b\b\b\b\b\b\b\b\b\b\b\b\b\b\b\b\b\b\b\b\b\b\b\b\b\b\b\b\b\b\nEpoch 10/70\n117/117 [==============================] - 0s 4ms/step - loss: 0.9478 - accuracy: 0.6410 - val_loss: 0.8663 - val_accuracy: 0.6708\b\b\b\b\b\b\b\b\b\b\b\b\b\b\b\b\b\b\b\b\b\b\b\b\b\b\b\b\b\b\b\b\b\b\b\b\b\b\nEpoch 11/70\n117/117 [==============================] - 0s 4ms/step - loss: 0.9225 - accuracy: 0.6513 - val_loss: 0.8496 - val_accuracy: 0.6729\b\b\b\b\b\b\b\b\b\b\b\b\b\b\b\b\b\b\b\b\b\b\b\b\b\b\b\b\b\b\b\b\b\b\b\b\b\b\nEpoch 12/70\n117/117 [==============================] - 0s 4ms/step - loss: 0.9061 - accuracy: 0.6548 - val_loss: 0.8392 - val_accuracy: 0.6740\b\b\b\b\b\b\b\b\b\b\b\b\b\b\b\b\b\b\b\b\b\b\b\b\b\b\b\b\b\b\b\b\b\b\b\b\b\b\nEpoch 13/70\n117/117 [==============================] - 0s 4ms/step - loss: 0.8953 - accuracy: 0.6561 - val_loss: 0.8288 - val_accuracy: 0.6724\b\b\b\b\b\b\b\b\b\b\b\b\b\b\b\b\b\b\b\b\b\b\b\b\b\b\b\b\b\b\b\b\b\b\b\b\b\b\nEpoch 14/70\n117/117 [==============================] - 0s 4ms/step - loss: 0.8686 - accuracy: 0.6723 - val_loss: 0.8200 - val_accuracy: 0.6825\b\b\b\b\b\b\b\b\b\b\b\b\b\b\b\b\b\b\b\b\b\b\b\b\b\b\b\b\b\b\b\b\b\b\b\b\b\b\nEpoch 15/70\n117/117 [==============================] - 0s 4ms/step - loss: 0.8371 - accuracy: 0.6811 - val_loss: 0.8091 - val_accuracy: 0.6879\b\b\b\b\b\b\b\b\b\b\b\b\b\b\b\b\b\b\b\b\b\b\b\b\b\b\b\b\b\b\b\b\b\b\b\b\b\b\nEpoch 16/70\n117/117 [==============================] - 0s 4ms/step - loss: 0.8351 - accuracy: 0.6835 - val_loss: 0.8004 - val_accuracy: 0.6965\b\b\b\b\b\b\b\b\b\b\b\b\b\b\b\b\b\b\b\b\b\b\b\b\b\b\b\b\b\b\b\b\b\b\b\b\b\b\nEpoch 17/70\n117/117 [==============================] - 0s 4ms/step - loss: 0.8114 - accuracy: 0.6885 - val_loss: 0.7915 - val_accuracy: 0.6981\b\b\b\b\b\b\b\b\b\b\b\b\b\b\b\b\b\b\b\b\b\b\b\b\b\b\b\b\b\b\b\b\b\b\b\b\b\b\nEpoch 18/70\n117/117 [==============================] - 0s 4ms/step - loss: 0.8042 - accuracy: 0.6877 - val_loss: 0.7879 - val_accuracy: 0.6997\b\b\b\b\b\b\b\b\b\b\b\b\b\b\b\b\b\b\b\b\b\b\b\b\b\b\b\b\b\b\b\b\b\b\b\b\b\b\nEpoch 19/70\n117/117 [==============================] - 0s 4ms/step - loss: 0.7863 - accuracy: 0.7037 - val_loss: 0.7838 - val_accuracy: 0.7007\b\b\b\b\b\b\b\b\b\b\b\b\b\b\b\b\b\b\b\b\b\b\b\b\b\b\b\b\b\b\b\b\b\b\b\b\b\b\nEpoch 20/70\n117/117 [==============================] - 0s 4ms/step - loss: 0.7727 - accuracy: 0.7021 - val_loss: 0.7782 - val_accuracy: 0.7040\b\b\b\b\b\b\b\b\b\b\b\b\b\b\b\b\b\b\b\b\b\b\b\b\b\b\b\b\b\b\b\b\b\b\b\b\b\b\nEpoch 21/70\n117/117 [==============================] - 0s 4ms/step - loss: 0.7652 - accuracy: 0.7068 - val_loss: 0.7724 - val_accuracy: 0.7056\b\b\b\b\b\b\b\b\b\b\b\b\b\b\b\b\b\b\b\b\b\b\b\b\b\b\b\b\b\b\b\b\b\b\b\b\b\b\nEpoch 22/70\n117/117 [==============================] - 0s 4ms/step - loss: 0.7484 - accuracy: 0.7060 - val_loss: 0.7689 - val_accuracy: 0.7077\b\b\b\b\b\b\b\b\b\b\b\b\b\b\b\b\b\b\b\b\b\b\b\b\b\b\b\b\b\b\b\b\b\b\b\b\b\b\nEpoch 23/70\n117/117 [==============================] - 0s 4ms/step - loss: 0.7512 - accuracy: 0.7058 - val_loss: 0.7620 - val_accuracy: 0.7125\b\b\b\b\b\b\b\b\b\b\b\b\b\b\b\b\b\b\b\b\b\b\b\b\b\b\b\b\b\b\b\b\b\b\b\b\b\b\nEpoch 24/70\n117/117 [==============================] - 0s 4ms/step - loss: 0.7240 - accuracy: 0.7155 - val_loss: 0.7693 - val_accuracy: 0.7066\b\b\b\b\b\b\b\b\b\b\b\b\b\b\b\b\b\b\b\b\b\b\b\b\b\b\b\b\b\b\b\b\b\b\b\b\b\b\nEpoch 25/70\n117/117 [==============================] - 0s 4ms/step - loss: 0.7163 - accuracy: 0.7222 - val_loss: 0.7635 - val_accuracy: 0.7104\b\b\b\b\b\b\b\b\b\b\b\b\b\b\b\b\b\b\b\b\b\b\b\b\b\b\b\b\b\b\b\b\b\b\b\b\b\b\nEpoch 26/70\n117/117 [==============================] - 0s 4ms/step - loss: 0.7086 - accuracy: 0.7289 - val_loss: 0.7536 - val_accuracy: 0.7131\b\b\b\b\b\b\b\b\b\b\b\b\b\b\b\b\b\b\b\b\b\b\b\b\b\b\b\b\b\b\b\b\b\b\b\b\b\b\nEpoch 27/70\n117/117 [==============================] - 0s 4ms/step - loss: 0.6928 - accuracy: 0.7386 - val_loss: 0.7518 - val_accuracy: 0.7168\b\b\b\b\b\b\b\b\b\b\b\b\b\b\b\b\b\b\b\b\b\b\b\b\b\b\b\b\b\b\b\b\b\b\b\b\b\b\nEpoch 28/70\n117/117 [==============================] - 0s 4ms/step - loss: 0.6751 - accuracy: 0.7391 - val_loss: 0.7451 - val_accuracy: 0.7232\b\b\b\b\b\b\b\b\b\b\b\b\b\b\b\b\b\b\b\b\b\b\b\b\b\b\b\b\b\b\b\b\b\b\b\b\b\b\nEpoch 29/70\n117/117 [==============================] - 0s 4ms/step - loss: 0.6954 - accuracy: 0.7286 - val_loss: 0.7462 - val_accuracy: 0.7200\b\b\b\b\b\b\b\b\b\b\b\b\b\b\b\b\b\b\b\b\b\b\b\b\b\b\b\b\b\b\b\b\b\b\b\b\b\b\nEpoch 30/70\n117/117 [==============================] - 0s 4ms/step - loss: 0.6799 - accuracy: 0.7383 - val_loss: 0.7464 - val_accuracy: 0.7211\b\b\b\b\b\b\b\b\b\b\b\b\b\b\b\b\b\b\b\b\b\b\b\b\b\b\b\b\b\b\b\b\b\b\b\b\b\b\nEpoch 31/70\n117/117 [==============================] - 0s 4ms/step - loss: 0.6761 - accuracy: 0.7447 - val_loss: 0.7428 - val_accuracy: 0.7190\b\b\b\b\b\b\b\b\b\b\b\b\b\b\b\b\b\b\b\b\b\b\b\b\b\b\b\b\b\b\b\b\b\b\b\b\b\b\nEpoch 32/70\n117/117 [==============================] - 0s 4ms/step - loss: 0.6490 - accuracy: 0.7498 - val_loss: 0.7469 - val_accuracy: 0.7211\b\b\b\b\b\b\b\b\b\b\b\b\b\b\b\b\b\b\b\b\b\b\b\b\b\b\b\b\b\b\b\b\b\b\b\b\b\b\nEpoch 33/70\n117/117 [==============================] - 0s 4ms/step - loss: 0.6490 - accuracy: 0.7471 - val_loss: 0.7458 - val_accuracy: 0.7195\b\b\b\b\b\b\b\b\b\b\b\b\b\b\b\b\b\b\b\b\b\b\b\b\b\b\b\b\b\b\b\b\b\b\b\b\b\b\nEpoch 34/70\n117/117 [==============================] - 0s 4ms/step - loss: 0.6349 - accuracy: 0.7586 - val_loss: 0.7400 - val_accuracy: 0.7238\b\b\b\b\b\b\b\b\b\b\b\b\b\b\b\b\b\b\b\b\b\b\b\b\b\b\b\b\b\b\b\b\b\b\b\b\b\b\nEpoch 35/70\n117/117 [==============================] - 0s 4ms/step - loss: 0.6231 - accuracy: 0.7644 - val_loss: 0.7339 - val_accuracy: 0.7259\b\b\b\b\b\b\b\b\b\b\b\b\b\b\b\b\b\b\b\b\b\b\b\b\b\b\b\b\b\b\b\b\b\b\b\b\b\b\nEpoch 36/70\n117/117 [==============================] - 0s 4ms/step - loss: 0.6290 - accuracy: 0.7519 - val_loss: 0.7383 - val_accuracy: 0.7264\b\b\b\b\b\b\b\b\b\b\b\b\b\b\b\b\b\b\b\b\b\b\b\b\b\b\b\b\b\b\b\b\b\b\b\b\b\b\nEpoch 37/70\n117/117 [==============================] - 0s 4ms/step - loss: 0.6117 - accuracy: 0.7692 - val_loss: 0.7339 - val_accuracy: 0.7313\b\b\b\b\b\b\b\b\b\b\b\b\b\b\b\b\b\b\b\b\b\b\b\b\b\b\b\b\b\b\b\b\b\b\b\b\b\b\nEpoch 38/70\n117/117 [==============================] - 0s 4ms/step - loss: 0.6090 - accuracy: 0.7621 - val_loss: 0.7348 - val_accuracy: 0.7318\b\b\b\b\b\b\b\b\b\b\b\b\b\b\b\b\b\b\b\b\b\b\b\b\b\b\b\b\b\b\b\b\b\b\b\b\b\b\nEpoch 39/70\n117/117 [==============================] - 0s 4ms/step - loss: 0.6080 - accuracy: 0.7617 - val_loss: 0.7351 - val_accuracy: 0.7302\b\b\b\b\b\b\b\b\b\b\b\b\b\b\b\b\b\b\b\b\b\b\b\b\b\b\b\b\b\b\b\b\b\b\b\b\b\b\nEpoch 40/70\n117/117 [==============================] - 0s 4ms/step - loss: 0.5889 - accuracy: 0.7723 - val_loss: 0.7280 - val_accuracy: 0.7297\b\b\b\b\b\b\b\b\b\b\b\b\b\b\b\b\b\b\b\b\b\b\b\b\b\b\b\b\b\b\b\b\b\b\b\b\b\b\nEpoch 41/70\n117/117 [==============================] - 0s 4ms/step - loss: 0.5863 - accuracy: 0.7743 - val_loss: 0.7297 - val_accuracy: 0.7339\b\b\b\b\b\b\b\b\b\b\b\b\b\b\b\b\b\b\b\b\b\b\b\b\b\b\b\b\b\b\b\b\b\b\b\b\b\b\nEpoch 42/70\n117/117 [==============================] - 0s 4ms/step - loss: 0.5768 - accuracy: 0.7784 - val_loss: 0.7270 - val_accuracy: 0.7313\b\b\b\b\b\b\b\b\b\b\b\b\b\b\b\b\b\b\b\b\b\b\b\b\b\b\b\b\b\b\b\b\b\b\b\b\b\b\nEpoch 43/70\n117/117 [==============================] - 0s 4ms/step - loss: 0.5655 - accuracy: 0.7835 - val_loss: 0.7274 - val_accuracy: 0.7281\b\b\b\b\b\b\b\b\b\b\b\b\b\b\b\b\b\b\b\b\b\b\b\b\b\b\b\b\b\b\b\b\b\b\b\b\b\b\nEpoch 44/70\n117/117 [==============================] - 0s 4ms/step - loss: 0.5672 - accuracy: 0.7802 - val_loss: 0.7255 - val_accuracy: 0.7259\b\b\b\b\b\b\b\b\b\b\b\b\b\b\b\b\b\b\b\b\b\b\b\b\b\b\b\b\b\b\b\b\b\b\b\b\b\b\nEpoch 45/70\n117/117 [==============================] - 0s 4ms/step - loss: 0.5561 - accuracy: 0.7897 - val_loss: 0.7362 - val_accuracy: 0.7307\b\b\b\b\b\b\b\b\b\b\b\b\b\b\b\b\b\b\b\b\b\b\b\b\b\b\b\b\b\b\b\b\b\b\b\b\b\b\nEpoch 46/70\n117/117 [==============================] - 0s 4ms/step - loss: 0.5588 - accuracy: 0.7869 - val_loss: 0.7231 - val_accuracy: 0.7302\b\b\b\b\b\b\b\b\b\b\b\b\b\b\b\b\b\b\b\b\b\b\b\b\b\b\b\b\b\b\b\b\b\b\b\b\b\b\nEpoch 47/70\n117/117 [==============================] - 0s 4ms/step - loss: 0.5448 - accuracy: 0.7900 - val_loss: 0.7211 - val_accuracy: 0.7339\b\b\b\b\b\b\b\b\b\b\b\b\b\b\b\b\b\b\b\b\b\b\b\b\b\b\b\b\b\b\b\b\b\b\b\b\b\b\nEpoch 48/70\n117/117 [==============================] - 0s 4ms/step - loss: 0.5405 - accuracy: 0.7897 - val_loss: 0.7258 - val_accuracy: 0.7361\b\b\b\b\b\b\b\b\b\b\b\b\b\b\b\b\b\b\b\b\b\b\b\b\b\b\b\b\b\b\b\b\b\b\b\b\b\b\nEpoch 49/70\n117/117 [==============================] - 0s 4ms/step - loss: 0.5414 - accuracy: 0.7893 - val_loss: 0.7243 - val_accuracy: 0.7345\b\b\b\b\b\b\b\b\b\b\b\b\b\b\b\b\b\b\b\b\b\b\b\b\b\b\b\b\b\b\b\b\b\b\b\b\b\b\nEpoch 50/70\n117/117 [==============================] - 0s 4ms/step - loss: 0.5336 - accuracy: 0.7984 - val_loss: 0.7367 - val_accuracy: 0.7463\b\b\b\b\b\b\b\b\b\b\b\b\b\b\b\b\b\b\b\b\b\b\b\b\b\b\b\b\b\b\b\b\b\b\b\b\b\b\nEpoch 51/70\n117/117 [==============================] - 0s 4ms/step - loss: 0.5241 - accuracy: 0.7985 - val_loss: 0.7274 - val_accuracy: 0.7414\b\b\b\b\b\b\b\b\b\b\b\b\b\b\b\b\b\b\b\b\b\b\b\b\b\b\b\b\b\b\b\b\b\b\b\b\b\b\nEpoch 52/70\n117/117 [==============================] - 0s 4ms/step - loss: 0.5241 - accuracy: 0.8068 - val_loss: 0.7239 - val_accuracy: 0.7398\b\b\b\b\b\b\b\b\b\b\b\b\b\b\b\b\b\b\b\b\b\b\b\b\b\b\b\b\b\b\b\b\b\b\b\b\b\b\nEpoch 53/70\n117/117 [==============================] - 0s 4ms/step - loss: 0.5163 - accuracy: 0.8036 - val_loss: 0.7224 - val_accuracy: 0.7425\b\b\b\b\b\b\b\b\b\b\b\b\b\b\b\b\b\b\b\b\b\b\b\b\b\b\b\b\b\b\b\b\b\b\b\b\b\b\nEpoch 54/70\n117/117 [==============================] - 0s 4ms/step - loss: 0.5126 - accuracy: 0.8008 - val_loss: 0.7283 - val_accuracy: 0.7436\b\b\b\b\b\b\b\b\b\b\b\b\b\b\b\b\b\b\b\b\b\b\b\b\b\b\b\b\b\b\b\b\b\b\b\b\b\b\nEpoch 55/70\n117/117 [==============================] - 0s 4ms/step - loss: 0.5089 - accuracy: 0.8067 - val_loss: 0.7215 - val_accuracy: 0.7393\b\b\b\b\b\b\b\b\b\b\b\b\b\b\b\b\b\b\b\b\b\b\b\b\b\b\b\b\b\b\b\b\b\b\b\b\b\b\nEpoch 56/70\n117/117 [==============================] - 0s 4ms/step - loss: 0.4913 - accuracy: 0.8165 - val_loss: 0.7304 - val_accuracy: 0.7404\b\b\b\b\b\b\b\b\b\b\b\b\b\b\b\b\b\b\b\b\b\b\b\b\b\b\b\b\b\b\b\b\b\b\b\b\b\b\nEpoch 57/70\n117/117 [==============================] - 0s 4ms/step - loss: 0.4906 - accuracy: 0.8094 - val_loss: 0.7270 - val_accuracy: 0.7500\b\b\b\b\b\b\b\b\b\b\b\b\b\b\b\b\b\b\b\b\b\b\b\b\b\b\b\b\b\b\b\b\b\b\b\b\b\b\nEpoch 58/70\n117/117 [==============================] - 0s 4ms/step - loss: 0.4948 - accuracy: 0.8096 - val_loss: 0.7339 - val_accuracy: 0.7393\b\b\b\b\b\b\b\b\b\b\b\b\b\b\b\b\b\b\b\b\b\b\b\b\b\b\b\b\b\b\b\b\b\b\b\b\b\b\nEpoch 59/70\n117/117 [==============================] - 0s 4ms/step - loss: 0.4804 - accuracy: 0.8175 - val_loss: 0.7336 - val_accuracy: 0.7436\b\b\b\b\b\b\b\b\b\b\b\b\b\b\b\b\b\b\b\b\b\b\b\b\b\b\b\b\b\b\b\b\b\b\b\b\b\b\nEpoch 60/70\n117/117 [==============================] - 0s 4ms/step - loss: 0.4650 - accuracy: 0.8206 - val_loss: 0.7263 - val_accuracy: 0.7479\b\b\b\b\b\b\b\b\b\b\b\b\b\b\b\b\b\b\b\b\b\b\b\b\b\b\b\b\b\b\b\b\b\b\b\b\b\b\nEpoch 61/70\n117/117 [==============================] - 0s 4ms/step - loss: 0.4761 - accuracy: 0.8206 - val_loss: 0.7273 - val_accuracy: 0.7388\b\b\b\b\b\b\b\b\b\b\b\b\b\b\b\b\b\b\b\b\b\b\b\b\b\b\b\b\b\b\b\b\b\b\b\b\b\b\nEpoch 62/70\n117/117 [==============================] - 0s 4ms/step - loss: 0.4674 - accuracy: 0.8194 - val_loss: 0.7268 - val_accuracy: 0.7452\b\b\b\b\b\b\b\b\b\b\b\b\b\b\b\b\b\b\b\b\b\b\b\b\b\b\b\b\b\b\b\b\b\b\b\b\b\b\nEpoch 63/70\n117/117 [==============================] - 0s 4ms/step - loss: 0.4621 - accuracy: 0.8244 - val_loss: 0.7291 - val_accuracy: 0.7398\b\b\b\b\b\b\b\b\b\b\b\b\b\b\b\b\b\b\b\b\b\b\b\b\b\b\b\b\b\b\b\b\b\b\b\b\b\b\nEpoch 64/70\n117/117 [==============================] - 0s 4ms/step - loss: 0.4681 - accuracy: 0.8213 - val_loss: 0.7329 - val_accuracy: 0.7382\b\b\b\b\b\b\b\b\b\b\b\b\b\b\b\b\b\b\b\b\b\b\b\b\b\b\b\b\b\b\b\b\b\b\b\b\b\b\nEpoch 65/70\n117/117 [==============================] - 0s 4ms/step - loss: 0.4585 - accuracy: 0.8229 - val_loss: 0.7395 - val_accuracy: 0.7393\b\b\b\b\b\b\b\b\b\b\b\b\b\b\b\b\b\b\b\b\b\b\b\b\b\b\b\b\b\b\b\b\b\b\b\b\b\b\nEpoch 66/70\n117/117 [==============================] - 0s 4ms/step - loss: 0.4538 - accuracy: 0.8282 - val_loss: 0.7274 - val_accuracy: 0.7457\b\b\b\b\b\b\b\b\b\b\b\b\b\b\b\b\b\b\b\b\b\b\b\b\b\b\b\b\b\b\b\b\b\b\b\b\b\b\nEpoch 67/70\n117/117 [==============================] - 0s 4ms/step - loss: 0.4572 - accuracy: 0.8257 - val_loss: 0.7398 - val_accuracy: 0.7393\b\b\b\b\b\b\b\b\b\b\b\b\b\b\b\b\b\b\b\b\b\b\b\b\b\b\b\b\b\b\b\b\b\b\b\b\b\b\nEpoch 68/70\n117/117 [==============================] - 0s 4ms/step - loss: 0.4499 - accuracy: 0.8256 - val_loss: 0.7333 - val_accuracy: 0.7436\b\b\b\b\b\b\b\b\b\b\b\b\b\b\b\b\b\b\b\b\b\b\b\b\b\b\b\b\b\b\b\b\b\b\b\b\b\b\nEpoch 69/70\n117/117 [==============================] - 0s 4ms/step - loss: 0.4374 - accuracy: 0.8347 - val_loss: 0.7356 - val_accuracy: 0.7414\b\b\b\b\b\b\b\b\b\b\b\b\b\b\b\b\b\b\b\b\b\b\b\b\b\b\b\b\b\b\b\b\b\b\b\b\b\b\nEpoch 70/70\n117/117 [==============================] - 0s 4ms/step - loss: 0.4416 - accuracy: 0.8270 - val_loss: 0.7440 - val_accuracy: 0.7372\b\b\b\b\b\b\b\b\b\b\b\b\b\b\b\b\b\b\b\b\b\b\b\b\b\b\b\b\b\b\b\b\b\b\b\b\b\b\n"
        }
      ],
      "execution_count": 29,
      "metadata": {
        "jupyter": {
          "source_hidden": false,
          "outputs_hidden": false
        },
        "nteract": {
          "transient": {
            "deleting": false
          }
        },
        "gather": {
          "logged": 1690975163812
        }
      }
    },
    {
      "cell_type": "code",
      "source": [
        "fc_mobilenet_normalized_test = normalize(MobileNetV3Small_features_test, norm='l2', axis=1)\r\n"
      ],
      "outputs": [],
      "execution_count": 30,
      "metadata": {
        "jupyter": {
          "source_hidden": false,
          "outputs_hidden": false
        },
        "nteract": {
          "transient": {
            "deleting": false
          }
        },
        "gather": {
          "logged": 1690975164013
        }
      }
    },
    {
      "cell_type": "code",
      "source": [
        "# Accuracy\r\n",
        "test_loss, test_accuracy = fusion_model.evaluate(fc_mobilenet_normalized_test, test_one_hot_labels)\r\n",
        "print(\"Test Accuracy:\", test_accuracy)\r\n",
        "\r\n",
        "# F1 Score\r\n",
        "test_predictions = fusion_model.predict(fc_mobilenet_normalized_test)\r\n",
        "test_predictions_classes = np.argmax(test_predictions, axis=1)\r\n",
        "test_true_classes = np.argmax(test_one_hot_labels, axis=1)\r\n",
        "f1 = f1_score(test_true_classes, test_predictions_classes, average='weighted')\r\n",
        "print(\"F1 Score:\", f1)\r\n",
        "\r\n",
        "# AUC-ROC Score\r\n",
        "roc_auc = roc_auc_score(test_one_hot_labels, test_predictions, multi_class='ovr', average='weighted')\r\n",
        "print(\"AUC-ROC Score:\", roc_auc)"
      ],
      "outputs": [
        {
          "output_type": "stream",
          "name": "stdout",
          "text": "74/74 [==============================] - 0s 1ms/step - loss: 0.6766 - accuracy: 0.7445\b\b\b\b\b\b\b\b\b\b\b\b\b\b\b\b\b\b\b\b\b\b\b\b\b\b\b\b\b\b\b\b\b\b\b\b\b\b\b\b\b\b\b\b\b\b\b\b\b\b\b\b\b\b\b\b\b\b\b\b\b\b\b\b\b\b\b\b\b\b\b\b\b\b\b\b\b\b\nTest Accuracy: 0.744544267654419\n74/74 [==============================] - 0s 1ms/step\b\b\b\b\b\b\b\b\b\b\b\b\b\b\b\b\b\b\b\b\b\b\b\b\b\b\b\b\b\b\b\b\b\b\b\b\b\b\b\b\b\b\b\b\nF1 Score: 0.7446121706657645\nAUC-ROC Score: 0.9554251690819998\n"
        }
      ],
      "execution_count": 31,
      "metadata": {
        "jupyter": {
          "source_hidden": false,
          "outputs_hidden": false
        },
        "nteract": {
          "transient": {
            "deleting": false
          }
        },
        "gather": {
          "logged": 1690975166914
        }
      }
    },
    {
      "cell_type": "code",
      "source": [
        "report = classification_report(test_true_classes, test_predictions_classes)\r\n",
        "print(report)"
      ],
      "outputs": [
        {
          "output_type": "stream",
          "name": "stdout",
          "text": "              precision    recall  f1-score   support\n\n           0       0.79      0.80      0.79       630\n           1       0.75      0.72      0.73       546\n           2       0.59      0.59      0.59       200\n           3       0.81      0.76      0.78       273\n           4       0.58      0.58      0.58       200\n           5       0.66      0.71      0.69       200\n           6       0.87      0.90      0.89       288\n\n    accuracy                           0.74      2337\n   macro avg       0.72      0.72      0.72      2337\nweighted avg       0.75      0.74      0.74      2337\n\n"
        }
      ],
      "execution_count": 32,
      "metadata": {
        "jupyter": {
          "source_hidden": false,
          "outputs_hidden": false
        },
        "nteract": {
          "transient": {
            "deleting": false
          }
        },
        "gather": {
          "logged": 1690975181482
        }
      }
    }
  ],
  "metadata": {
    "kernelspec": {
      "name": "python310-sdkv2",
      "language": "python",
      "display_name": "Python 3.10 - SDK v2"
    },
    "language_info": {
      "name": "python",
      "version": "3.10.11",
      "mimetype": "text/x-python",
      "codemirror_mode": {
        "name": "ipython",
        "version": 3
      },
      "pygments_lexer": "ipython3",
      "nbconvert_exporter": "python",
      "file_extension": ".py"
    },
    "microsoft": {
      "ms_spell_check": {
        "ms_spell_check_language": "en"
      },
      "host": {
        "AzureML": {
          "notebookHasBeenCompleted": true
        }
      }
    },
    "kernel_info": {
      "name": "python310-sdkv2"
    },
    "nteract": {
      "version": "nteract-front-end@1.0.0"
    }
  },
  "nbformat": 4,
  "nbformat_minor": 2
}