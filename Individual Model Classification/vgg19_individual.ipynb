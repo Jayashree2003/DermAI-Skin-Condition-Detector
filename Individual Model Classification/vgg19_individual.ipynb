{
  "cells": [
    {
      "cell_type": "code",
      "source": [
        "import os\n",
        "os.environ[\"CUDA_VISIBLE_DEVICES\"] = \"\"\n",
        "import random\n",
        "import shutil\n",
        "import cv2\n",
        "import pandas as pd\n",
        "from PIL import Image\n",
        "from glob import glob\n",
        "import matplotlib.pyplot as plt\n",
        "\n",
        "import numpy as np\n",
        "from sklearn.model_selection import train_test_split\n",
        "from sklearn.metrics import f1_score, roc_auc_score, classification_report, roc_curve, auc\n",
        "from sklearn.preprocessing import normalize\n",
        "\n",
        "from tensorflow.keras.preprocessing.image import ImageDataGenerator\n",
        "from tensorflow.keras.applications import VGG19\n",
        "from tensorflow.keras.models import Sequential, Model\n",
        "from tensorflow.keras.layers import Dense, Dropout, concatenate, GlobalAveragePooling2D, Input, BatchNormalization, Dropout, LeakyReLU\n",
        "from tensorflow.keras.utils import to_categorical\n",
        "from tensorflow.keras.optimizers import Adam\n"
      ],
      "outputs": [
        {
          "output_type": "stream",
          "name": "stderr",
          "text": "2023-08-02 10:32:44.131342: I tensorflow/core/platform/cpu_feature_guard.cc:182] This TensorFlow binary is optimized to use available CPU instructions in performance-critical operations.\nTo enable the following instructions: AVX2 AVX512F FMA, in other operations, rebuild TensorFlow with the appropriate compiler flags.\n2023-08-02 10:32:45.003753: W tensorflow/compiler/tf2tensorrt/utils/py_utils.cc:38] TF-TRT Warning: Could not find TensorRT\n"
        }
      ],
      "execution_count": null,
      "metadata": {
        "jupyter": {
          "source_hidden": false,
          "outputs_hidden": false
        },
        "nteract": {
          "transient": {
            "deleting": false
          }
        },
        "gather": {
          "logged": 1690972366443
        },
        "id": "jT5lYSrG6a4E",
        "outputId": "79e031d8-10d1-4a14-f2f3-a7bc1cc1f54f"
      }
    },
    {
      "cell_type": "code",
      "source": [
        "augmented_dataset_path = 'dullrazor_augmented'\n",
        "\n",
        "\n",
        "#class_directories = [d for d in os.listdir(augmented_dataset_path) if os.path.isdir(os.path.join(augmented_dataset_path, d))]\n",
        "class_directories = ['akiec', 'bcc', 'bkl', 'df', 'mel', 'nv', 'vasc']\n",
        "#a dictionary to store the class names and their corresponding image counts\n",
        "class_image_counts = {}\n",
        "\n",
        "# Count the number of images in each class\n",
        "for class_name in class_directories:\n",
        "    class_path = os.path.join(augmented_dataset_path, class_name)\n",
        "    num_images = len(os.listdir(class_path))\n",
        "    class_image_counts[class_name] = num_images\n",
        "\n",
        "# Print the class distribution\n",
        "print(\"Class distribution in the augmented dataset:\")\n",
        "print(class_image_counts)\n"
      ],
      "outputs": [
        {
          "output_type": "stream",
          "name": "stdout",
          "text": "Class distribution in the augmented dataset:\n{'akiec': 3151, 'bcc': 2727, 'bkl': 1000, 'df': 1362, 'mel': 1000, 'nv': 1000, 'vasc': 1437}\n"
        }
      ],
      "execution_count": null,
      "metadata": {
        "jupyter": {
          "source_hidden": false,
          "outputs_hidden": false
        },
        "nteract": {
          "transient": {
            "deleting": false
          }
        },
        "gather": {
          "logged": 1690972441417
        },
        "id": "hv4mkanZ6a4L",
        "outputId": "0ed2c9d8-15be-45a7-f1d4-709b2c2e18cf"
      }
    },
    {
      "cell_type": "code",
      "source": [
        "class_directories"
      ],
      "outputs": [
        {
          "output_type": "execute_result",
          "execution_count": 3,
          "data": {
            "text/plain": "['akiec', 'bcc', 'bkl', 'df', 'mel', 'nv', 'vasc']"
          },
          "metadata": {}
        }
      ],
      "execution_count": null,
      "metadata": {
        "jupyter": {
          "source_hidden": false,
          "outputs_hidden": false
        },
        "nteract": {
          "transient": {
            "deleting": false
          }
        },
        "gather": {
          "logged": 1690972443943
        },
        "id": "WvLHecqN6a4M",
        "outputId": "2816e947-7fb8-459c-dec7-c29eb66a9007"
      }
    },
    {
      "cell_type": "code",
      "source": [
        "#lists to store image names, paths, and classes\n",
        "image_names = []\n",
        "image_paths = []\n",
        "image_classes = []\n",
        "\n",
        "# Iterate through each class and collect image information\n",
        "for class_name in class_directories:\n",
        "    class_path = os.path.join(augmented_dataset_path, class_name)\n",
        "    for image_name in os.listdir(class_path):\n",
        "        if image_name!=\".amlignore\" and image_name!=\".amlignore.amltmp\":\n",
        "            image_names.append(image_name)\n",
        "            image_paths.append(os.path.join(class_path, image_name))\n",
        "            image_classes.append(class_name)\n",
        "\n",
        "#DataFrame from the collected information\n",
        "data = {\n",
        "    'Image_Name': image_names,\n",
        "    'Image_Path': image_paths,\n",
        "    'Class': image_classes\n",
        "}\n",
        "\n",
        "df = pd.DataFrame(data)\n",
        "\n",
        "#the DataFrame to verify the results\n",
        "print(df)\n"
      ],
      "outputs": [
        {
          "output_type": "stream",
          "name": "stdout",
          "text": "                 Image_Name                                      Image_Path  \\\n0         augmented_0_0.jpg     dullrazor_augmented/akiec/augmented_0_0.jpg   \n1         augmented_0_1.jpg     dullrazor_augmented/akiec/augmented_0_1.jpg   \n2       augmented_0_100.jpg   dullrazor_augmented/akiec/augmented_0_100.jpg   \n3      augmented_0_1004.jpg  dullrazor_augmented/akiec/augmented_0_1004.jpg   \n4      augmented_0_1013.jpg  dullrazor_augmented/akiec/augmented_0_1013.jpg   \n...                     ...                                             ...   \n11670      ISIC_0072937.jpg       dullrazor_augmented/vasc/ISIC_0072937.jpg   \n11671      ISIC_0072964.jpg       dullrazor_augmented/vasc/ISIC_0072964.jpg   \n11672      ISIC_0073012.jpg       dullrazor_augmented/vasc/ISIC_0073012.jpg   \n11673      ISIC_0073031.jpg       dullrazor_augmented/vasc/ISIC_0073031.jpg   \n11674      ISIC_0073110.jpg       dullrazor_augmented/vasc/ISIC_0073110.jpg   \n\n       Class  \n0      akiec  \n1      akiec  \n2      akiec  \n3      akiec  \n4      akiec  \n...      ...  \n11670   vasc  \n11671   vasc  \n11672   vasc  \n11673   vasc  \n11674   vasc  \n\n[11675 rows x 3 columns]\n"
        }
      ],
      "execution_count": null,
      "metadata": {
        "jupyter": {
          "source_hidden": false,
          "outputs_hidden": false
        },
        "nteract": {
          "transient": {
            "deleting": false
          }
        },
        "gather": {
          "logged": 1690972449562
        },
        "id": "vJqP_H_x6a4N",
        "outputId": "fcf9b21b-0a95-407a-b4d6-5cf44c1ba693"
      }
    },
    {
      "cell_type": "code",
      "source": [
        "df['image'] = df.Image_Path.map(lambda x: np.asarray(Image.open(x).resize((150, 112))))\n",
        "df['cell_type_idx'] = pd.Categorical(df.Class).codes"
      ],
      "outputs": [],
      "execution_count": null,
      "metadata": {
        "jupyter": {
          "source_hidden": false,
          "outputs_hidden": false
        },
        "nteract": {
          "transient": {
            "deleting": false
          }
        },
        "gather": {
          "logged": 1690973098510
        },
        "id": "5UjhwnY76a4O"
      }
    },
    {
      "cell_type": "code",
      "source": [
        "\n",
        "# Get a list of unique classes in the DataFrame\n",
        "unique_classes = df['Class'].unique()\n",
        "\n",
        "#lists to store train and test samples\n",
        "train_samples = []\n",
        "test_samples = []\n",
        "\n",
        "\n",
        "train_proportion = 0.8\n",
        "\n",
        "# Iterate through each class and split samples into train and test sets\n",
        "for class_name in unique_classes:\n",
        "    # Get the DataFrame subset for the current class\n",
        "    class_subset = df[df['Class'] == class_name]\n",
        "\n",
        "    # Split the subset into train and test sets\n",
        "    train_subset, test_subset = train_test_split(class_subset, train_size=train_proportion, stratify=class_subset['Class'])\n",
        "\n",
        "    # Append the train and test subsets to the corresponding lists\n",
        "    train_samples.append(train_subset)\n",
        "    test_samples.append(test_subset)\n",
        "\n",
        "# Concatenate the train and test samples for each class back into DataFrames\n",
        "train_df = pd.concat(train_samples)\n",
        "test_df = pd.concat(test_samples)\n",
        "\n",
        "#shuffle the train and test DataFrames\n",
        "train_df = train_df.sample(frac=1).reset_index(drop=True)\n",
        "test_df = test_df.sample(frac=1).reset_index(drop=True)\n",
        "\n",
        "# Print the sizes of the train and test sets for each class\n",
        "print(\"Training set sizes for each class:\")\n",
        "print(train_df['Class'].value_counts())\n",
        "\n",
        "print(\"\\nTesting set sizes for each class:\")\n",
        "print(test_df['Class'].value_counts())\n"
      ],
      "outputs": [
        {
          "output_type": "stream",
          "name": "stdout",
          "text": "Training set sizes for each class:\nClass\nakiec    2519\nbcc      2181\nvasc     1149\ndf       1089\nbkl       800\nnv        800\nmel       800\nName: count, dtype: int64\n\nTesting set sizes for each class:\nClass\nakiec    630\nbcc      546\nvasc     288\ndf       273\nbkl      200\nnv       200\nmel      200\nName: count, dtype: int64\n"
        }
      ],
      "execution_count": null,
      "metadata": {
        "jupyter": {
          "source_hidden": false,
          "outputs_hidden": false
        },
        "nteract": {
          "transient": {
            "deleting": false
          }
        },
        "gather": {
          "logged": 1690973194679
        },
        "id": "qbwd-LiT6a4P",
        "outputId": "fb7bfb5c-df98-403d-8884-62cbe0a063d0"
      }
    },
    {
      "cell_type": "code",
      "source": [
        "def prepareimages(images):\n",
        "    # images is a list of images\n",
        "    images = np.asarray(images).astype(np.float64)\n",
        "    images = images[:, :, :, ::-1]\n",
        "    m0 = np.mean(images[:, :, :, 0])\n",
        "    m1 = np.mean(images[:, :, :, 1])\n",
        "    m2 = np.mean(images[:, :, :, 2])\n",
        "    images[:, :, :, 0] -= m0\n",
        "    images[:, :, :, 1] -= m1\n",
        "    images[:, :, :, 2] -= m2\n",
        "    return images\n",
        "\n",
        "trainimages = prepareimages(list(train_df.image))\n",
        "testimages = prepareimages(list(test_df.image))\n",
        "\n",
        "trainlabels = np.asarray(train_df.cell_type_idx)\n",
        "testlabels = np.asarray(test_df.cell_type_idx)\n"
      ],
      "outputs": [],
      "execution_count": null,
      "metadata": {
        "jupyter": {
          "source_hidden": false,
          "outputs_hidden": false
        },
        "nteract": {
          "transient": {
            "deleting": false
          }
        },
        "gather": {
          "logged": 1690973204756
        },
        "id": "biwR5ptM6a4Q"
      }
    },
    {
      "cell_type": "code",
      "source": [
        "train_one_hot_labels = to_categorical(trainlabels, num_classes=7)\n",
        "test_one_hot_labels = to_categorical(testlabels, num_classes=7)"
      ],
      "outputs": [],
      "execution_count": null,
      "metadata": {
        "jupyter": {
          "source_hidden": false,
          "outputs_hidden": false
        },
        "nteract": {
          "transient": {
            "deleting": false
          }
        },
        "gather": {
          "logged": 1690973211277
        },
        "id": "W9FiZ_V86a4Q"
      }
    },
    {
      "cell_type": "code",
      "source": [
        "# VGG19\n",
        "vgg19_base = VGG19(include_top=False, weights='imagenet', input_shape=(112, 150, 3))\n",
        "vgg19_gap = GlobalAveragePooling2D()(vgg19_base.output)\n",
        "vgg19_model = Model(inputs=vgg19_base.input, outputs=vgg19_gap)\n",
        "vgg19_features_train = vgg19_model.predict(trainimages)\n",
        "vgg19_features_test = vgg19_model.predict(testimages)"
      ],
      "outputs": [
        {
          "output_type": "stream",
          "name": "stderr",
          "text": "2023-08-02 10:46:53.407841: E tensorflow/compiler/xla/stream_executor/cuda/cuda_driver.cc:268] failed call to cuInit: CUDA_ERROR_NO_DEVICE: no CUDA-capable device is detected\n2023-08-02 10:46:56.701878: W tensorflow/tsl/framework/cpu_allocator_impl.cc:83] Allocation of 1882540800 exceeds 10% of free system memory.\n"
        },
        {
          "output_type": "stream",
          "name": "stdout",
          "text": "292/292 [==============================] - 232s 793ms/step\b\b\b\b\b\b\b\b\b\b\b\b\b\b\b\b\b\b\b\b\b\b\b\b\b\b\b\b\b\b\b\b\b\b\b\b\b\b\b\b\b\b\b\b\b\b\n74/74 [==============================] - 58s 781ms/step\b\b\b\b\b\b\b\b\b\b\b\b\b\b\b\b\b\b\b\b\b\b\b\b\b\b\b\b\b\b\b\b\b\b\b\b\b\b\b\b\b\b\b\n"
        }
      ],
      "execution_count": null,
      "metadata": {
        "jupyter": {
          "source_hidden": false,
          "outputs_hidden": false
        },
        "nteract": {
          "transient": {
            "deleting": false
          }
        },
        "gather": {
          "logged": 1690973509411
        },
        "id": "aBUggwm46a4R",
        "outputId": "43a1f148-7197-4646-cb05-df57c0354b6e"
      }
    },
    {
      "cell_type": "code",
      "source": [
        "F_vgg_normalized = normalize(vgg19_features_train, norm='l2', axis=1)"
      ],
      "outputs": [],
      "execution_count": null,
      "metadata": {
        "jupyter": {
          "source_hidden": false,
          "outputs_hidden": false
        },
        "nteract": {
          "transient": {
            "deleting": false
          }
        },
        "gather": {
          "logged": 1690973531538
        },
        "id": "88m2l3Fz6a4S"
      }
    },
    {
      "cell_type": "code",
      "source": [
        "# dimensions of each feature vector\n",
        "dim_vgg = F_vgg_normalized.shape[1]\n",
        "\n",
        "# input layers for each feature vector\n",
        "input_vgg = Input(shape=(dim_vgg,))\n",
        "\n",
        "\n",
        "# Fully connected layers for each input with Batch Normalization and Dropout\n",
        "fc_vgg = Dense(256)(input_vgg)\n",
        "fc_vgg = BatchNormalization()(fc_vgg)\n",
        "fc_vgg = LeakyReLU()(fc_vgg)\n",
        "fc_vgg = Dropout(0.3)(fc_vgg)\n",
        "\n",
        "merged = fc_vgg\n",
        "\n",
        "# Additional fully connected layers for feature fusion with Batch Normalization and Dropout\n",
        "fusion_fc = Dense(256)(merged)\n",
        "fusion_fc = BatchNormalization()(fusion_fc)\n",
        "fusion_fc = LeakyReLU()(fusion_fc)\n",
        "fusion_fc = Dropout(0.3)(fusion_fc)\n",
        "\n",
        "fusion_fc = Dense(128)(fusion_fc)\n",
        "fusion_fc = BatchNormalization()(fusion_fc)\n",
        "fusion_fc = LeakyReLU()(fusion_fc)\n",
        "fusion_fc = Dropout(0.3)(fusion_fc)\n",
        "\n",
        "# Classification layer\n",
        "output_layer = Dense(7, activation='softmax')(fusion_fc)\n",
        "\n",
        "# Create the fusion model\n",
        "fusion_model = Model(inputs=input_vgg, outputs=output_layer)\n",
        "\n",
        "# Compile the model with a reduced learning rate\n",
        "optimizer = Adam(learning_rate=0.0001)\n",
        "fusion_model.compile(loss='categorical_crossentropy', optimizer=optimizer, metrics=['accuracy'])"
      ],
      "outputs": [],
      "execution_count": null,
      "metadata": {
        "jupyter": {
          "source_hidden": false,
          "outputs_hidden": false
        },
        "nteract": {
          "transient": {
            "deleting": false
          }
        },
        "gather": {
          "logged": 1690973533909
        },
        "id": "48M4bIzJ6a4S"
      }
    },
    {
      "cell_type": "code",
      "source": [
        "history1 = fusion_model.fit(\n",
        "    F_vgg_normalized,\n",
        "    train_one_hot_labels,\n",
        "    batch_size=64,\n",
        "    epochs=70,\n",
        "    shuffle=True,\n",
        "    validation_split=0.2\n",
        ")"
      ],
      "outputs": [
        {
          "output_type": "stream",
          "name": "stdout",
          "text": "Epoch 1/70\n117/117 [==============================] - 2s 6ms/step - loss: 1.7332 - accuracy: 0.3624 - val_loss: 1.7891 - val_accuracy: 0.3158\b\b\b\b\b\b\b\b\b\b\b\b\b\b\b\b\b\b\b\b\b\b\b\b\b\b\b\b\b\b\b\b\b\b\b\b\b\b\b\b\b\b\nEpoch 2/70\n117/117 [==============================] - 0s 4ms/step - loss: 1.3333 - accuracy: 0.5088 - val_loss: 1.5962 - val_accuracy: 0.4213\b\b\b\b\b\b\b\b\b\b\b\b\b\b\b\b\b\b\b\b\b\b\b\b\b\b\b\b\b\b\b\b\b\b\b\b\b\b\nEpoch 3/70\n117/117 [==============================] - 0s 4ms/step - loss: 1.1637 - accuracy: 0.5681 - val_loss: 1.3499 - val_accuracy: 0.5739\b\b\b\b\b\b\b\b\b\b\b\b\b\b\b\b\b\b\b\b\b\b\b\b\b\b\b\b\b\b\b\b\b\b\b\b\b\b\nEpoch 4/70\n117/117 [==============================] - 0s 4ms/step - loss: 1.0883 - accuracy: 0.5933 - val_loss: 1.0912 - val_accuracy: 0.6531\b\b\b\b\b\b\b\b\b\b\b\b\b\b\b\b\b\b\b\b\b\b\b\b\b\b\b\b\b\b\b\b\b\b\b\b\b\b\nEpoch 5/70\n117/117 [==============================] - 0s 4ms/step - loss: 1.0354 - accuracy: 0.6103 - val_loss: 0.9229 - val_accuracy: 0.6751\b\b\b\b\b\b\b\b\b\b\b\b\b\b\b\b\b\b\b\b\b\b\b\b\b\b\b\b\b\b\b\b\b\b\b\b\b\b\nEpoch 6/70\n117/117 [==============================] - 0s 4ms/step - loss: 0.9934 - accuracy: 0.6351 - val_loss: 0.8495 - val_accuracy: 0.6852\b\b\b\b\b\b\b\b\b\b\b\b\b\b\b\b\b\b\b\b\b\b\b\b\b\b\b\b\b\b\b\b\b\b\b\b\b\b\nEpoch 7/70\n117/117 [==============================] - 0s 4ms/step - loss: 0.9536 - accuracy: 0.6384 - val_loss: 0.8226 - val_accuracy: 0.6884\b\b\b\b\b\b\b\b\b\b\b\b\b\b\b\b\b\b\b\b\b\b\b\b\b\b\b\b\b\b\b\b\b\b\b\b\b\b\nEpoch 8/70\n117/117 [==============================] - 0s 4ms/step - loss: 0.9168 - accuracy: 0.6511 - val_loss: 0.8000 - val_accuracy: 0.6981\b\b\b\b\b\b\b\b\b\b\b\b\b\b\b\b\b\b\b\b\b\b\b\b\b\b\b\b\b\b\b\b\b\b\b\b\b\b\nEpoch 9/70\n117/117 [==============================] - 0s 4ms/step - loss: 0.8939 - accuracy: 0.6652 - val_loss: 0.7867 - val_accuracy: 0.6991\b\b\b\b\b\b\b\b\b\b\b\b\b\b\b\b\b\b\b\b\b\b\b\b\b\b\b\b\b\b\b\b\b\b\b\b\b\b\nEpoch 10/70\n117/117 [==============================] - 0s 4ms/step - loss: 0.8537 - accuracy: 0.6743 - val_loss: 0.7760 - val_accuracy: 0.7007\b\b\b\b\b\b\b\b\b\b\b\b\b\b\b\b\b\b\b\b\b\b\b\b\b\b\b\b\b\b\b\b\b\b\b\b\b\b\nEpoch 11/70\n117/117 [==============================] - 0s 4ms/step - loss: 0.8508 - accuracy: 0.6805 - val_loss: 0.7631 - val_accuracy: 0.7072\b\b\b\b\b\b\b\b\b\b\b\b\b\b\b\b\b\b\b\b\b\b\b\b\b\b\b\b\b\b\b\b\b\b\b\b\b\b\nEpoch 12/70\n117/117 [==============================] - 0s 4ms/step - loss: 0.8305 - accuracy: 0.6867 - val_loss: 0.7477 - val_accuracy: 0.7125\b\b\b\b\b\b\b\b\b\b\b\b\b\b\b\b\b\b\b\b\b\b\b\b\b\b\b\b\b\b\b\b\b\b\b\b\b\b\nEpoch 13/70\n117/117 [==============================] - 0s 4ms/step - loss: 0.8126 - accuracy: 0.6905 - val_loss: 0.7393 - val_accuracy: 0.7120\b\b\b\b\b\b\b\b\b\b\b\b\b\b\b\b\b\b\b\b\b\b\b\b\b\b\b\b\b\b\b\b\b\b\b\b\b\b\nEpoch 14/70\n117/117 [==============================] - 0s 4ms/step - loss: 0.7909 - accuracy: 0.6975 - val_loss: 0.7325 - val_accuracy: 0.7184\b\b\b\b\b\b\b\b\b\b\b\b\b\b\b\b\b\b\b\b\b\b\b\b\b\b\b\b\b\b\b\b\b\b\b\b\b\b\nEpoch 15/70\n117/117 [==============================] - 0s 4ms/step - loss: 0.7797 - accuracy: 0.7024 - val_loss: 0.7239 - val_accuracy: 0.7184\b\b\b\b\b\b\b\b\b\b\b\b\b\b\b\b\b\b\b\b\b\b\b\b\b\b\b\b\b\b\b\b\b\b\b\b\b\b\nEpoch 16/70\n117/117 [==============================] - 0s 4ms/step - loss: 0.7794 - accuracy: 0.7087 - val_loss: 0.7181 - val_accuracy: 0.7243\b\b\b\b\b\b\b\b\b\b\b\b\b\b\b\b\b\b\b\b\b\b\b\b\b\b\b\b\b\b\b\b\b\b\b\b\b\b\nEpoch 17/70\n117/117 [==============================] - 0s 4ms/step - loss: 0.7569 - accuracy: 0.7079 - val_loss: 0.7108 - val_accuracy: 0.7270\b\b\b\b\b\b\b\b\b\b\b\b\b\b\b\b\b\b\b\b\b\b\b\b\b\b\b\b\b\b\b\b\b\b\b\b\b\b\nEpoch 18/70\n117/117 [==============================] - 0s 4ms/step - loss: 0.7407 - accuracy: 0.7194 - val_loss: 0.7042 - val_accuracy: 0.7248\b\b\b\b\b\b\b\b\b\b\b\b\b\b\b\b\b\b\b\b\b\b\b\b\b\b\b\b\b\b\b\b\b\b\b\b\b\b\nEpoch 19/70\n117/117 [==============================] - 0s 4ms/step - loss: 0.7271 - accuracy: 0.7213 - val_loss: 0.6944 - val_accuracy: 0.7329\b\b\b\b\b\b\b\b\b\b\b\b\b\b\b\b\b\b\b\b\b\b\b\b\b\b\b\b\b\b\b\b\b\b\b\b\b\b\nEpoch 20/70\n117/117 [==============================] - 0s 4ms/step - loss: 0.7169 - accuracy: 0.7292 - val_loss: 0.6891 - val_accuracy: 0.7345\b\b\b\b\b\b\b\b\b\b\b\b\b\b\b\b\b\b\b\b\b\b\b\b\b\b\b\b\b\b\b\b\b\b\b\b\b\b\nEpoch 21/70\n117/117 [==============================] - 0s 4ms/step - loss: 0.7008 - accuracy: 0.7344 - val_loss: 0.6837 - val_accuracy: 0.7339\b\b\b\b\b\b\b\b\b\b\b\b\b\b\b\b\b\b\b\b\b\b\b\b\b\b\b\b\b\b\b\b\b\b\b\b\b\b\nEpoch 22/70\n117/117 [==============================] - 0s 4ms/step - loss: 0.6984 - accuracy: 0.7301 - val_loss: 0.6784 - val_accuracy: 0.7382\b\b\b\b\b\b\b\b\b\b\b\b\b\b\b\b\b\b\b\b\b\b\b\b\b\b\b\b\b\b\b\b\b\b\b\b\b\b\nEpoch 23/70\n117/117 [==============================] - 0s 4ms/step - loss: 0.6884 - accuracy: 0.7329 - val_loss: 0.6734 - val_accuracy: 0.7420\b\b\b\b\b\b\b\b\b\b\b\b\b\b\b\b\b\b\b\b\b\b\b\b\b\b\b\b\b\b\b\b\b\b\b\b\b\b\nEpoch 24/70\n117/117 [==============================] - 0s 4ms/step - loss: 0.6691 - accuracy: 0.7434 - val_loss: 0.6676 - val_accuracy: 0.7463\b\b\b\b\b\b\b\b\b\b\b\b\b\b\b\b\b\b\b\b\b\b\b\b\b\b\b\b\b\b\b\b\b\b\b\b\b\b\nEpoch 25/70\n117/117 [==============================] - 0s 4ms/step - loss: 0.6516 - accuracy: 0.7479 - val_loss: 0.6634 - val_accuracy: 0.7457\b\b\b\b\b\b\b\b\b\b\b\b\b\b\b\b\b\b\b\b\b\b\b\b\b\b\b\b\b\b\b\b\b\b\b\b\b\b\nEpoch 26/70\n117/117 [==============================] - 0s 4ms/step - loss: 0.6551 - accuracy: 0.7493 - val_loss: 0.6567 - val_accuracy: 0.7473\b\b\b\b\b\b\b\b\b\b\b\b\b\b\b\b\b\b\b\b\b\b\b\b\b\b\b\b\b\b\b\b\b\b\b\b\b\b\nEpoch 27/70\n117/117 [==============================] - 0s 4ms/step - loss: 0.6411 - accuracy: 0.7530 - val_loss: 0.6514 - val_accuracy: 0.7516\b\b\b\b\b\b\b\b\b\b\b\b\b\b\b\b\b\b\b\b\b\b\b\b\b\b\b\b\b\b\b\b\b\b\b\b\b\b\nEpoch 28/70\n117/117 [==============================] - 0s 4ms/step - loss: 0.6378 - accuracy: 0.7574 - val_loss: 0.6522 - val_accuracy: 0.7468\b\b\b\b\b\b\b\b\b\b\b\b\b\b\b\b\b\b\b\b\b\b\b\b\b\b\b\b\b\b\b\b\b\b\b\b\b\b\nEpoch 29/70\n117/117 [==============================] - 0s 4ms/step - loss: 0.6273 - accuracy: 0.7565 - val_loss: 0.6489 - val_accuracy: 0.7548\b\b\b\b\b\b\b\b\b\b\b\b\b\b\b\b\b\b\b\b\b\b\b\b\b\b\b\b\b\b\b\b\b\b\b\b\b\b\nEpoch 30/70\n117/117 [==============================] - 0s 4ms/step - loss: 0.6170 - accuracy: 0.7608 - val_loss: 0.6449 - val_accuracy: 0.7580\b\b\b\b\b\b\b\b\b\b\b\b\b\b\b\b\b\b\b\b\b\b\b\b\b\b\b\b\b\b\b\b\b\b\b\b\b\b\nEpoch 31/70\n117/117 [==============================] - 0s 4ms/step - loss: 0.6106 - accuracy: 0.7661 - val_loss: 0.6436 - val_accuracy: 0.7580\b\b\b\b\b\b\b\b\b\b\b\b\b\b\b\b\b\b\b\b\b\b\b\b\b\b\b\b\b\b\b\b\b\b\b\b\b\b\nEpoch 32/70\n117/117 [==============================] - 0s 4ms/step - loss: 0.6074 - accuracy: 0.7639 - val_loss: 0.6404 - val_accuracy: 0.7575\b\b\b\b\b\b\b\b\b\b\b\b\b\b\b\b\b\b\b\b\b\b\b\b\b\b\b\b\b\b\b\b\b\b\b\b\b\b\nEpoch 33/70\n117/117 [==============================] - 0s 4ms/step - loss: 0.5963 - accuracy: 0.7738 - val_loss: 0.6379 - val_accuracy: 0.7612\b\b\b\b\b\b\b\b\b\b\b\b\b\b\b\b\b\b\b\b\b\b\b\b\b\b\b\b\b\b\b\b\b\b\b\b\b\b\nEpoch 34/70\n117/117 [==============================] - 0s 4ms/step - loss: 0.5897 - accuracy: 0.7759 - val_loss: 0.6324 - val_accuracy: 0.7602\b\b\b\b\b\b\b\b\b\b\b\b\b\b\b\b\b\b\b\b\b\b\b\b\b\b\b\b\b\b\b\b\b\b\b\b\b\b\nEpoch 35/70\n117/117 [==============================] - 0s 4ms/step - loss: 0.5868 - accuracy: 0.7758 - val_loss: 0.6301 - val_accuracy: 0.7628\b\b\b\b\b\b\b\b\b\b\b\b\b\b\b\b\b\b\b\b\b\b\b\b\b\b\b\b\b\b\b\b\b\b\b\b\b\b\nEpoch 36/70\n117/117 [==============================] - 0s 4ms/step - loss: 0.5840 - accuracy: 0.7833 - val_loss: 0.6291 - val_accuracy: 0.7554\b\b\b\b\b\b\b\b\b\b\b\b\b\b\b\b\b\b\b\b\b\b\b\b\b\b\b\b\b\b\b\b\b\b\b\b\b\b\nEpoch 37/70\n117/117 [==============================] - 0s 4ms/step - loss: 0.5666 - accuracy: 0.7861 - val_loss: 0.6291 - val_accuracy: 0.7634\b\b\b\b\b\b\b\b\b\b\b\b\b\b\b\b\b\b\b\b\b\b\b\b\b\b\b\b\b\b\b\b\b\b\b\b\b\b\nEpoch 38/70\n117/117 [==============================] - 0s 4ms/step - loss: 0.5658 - accuracy: 0.7842 - val_loss: 0.6259 - val_accuracy: 0.7655\b\b\b\b\b\b\b\b\b\b\b\b\b\b\b\b\b\b\b\b\b\b\b\b\b\b\b\b\b\b\b\b\b\b\b\b\b\b\nEpoch 39/70\n117/117 [==============================] - 0s 4ms/step - loss: 0.5593 - accuracy: 0.7821 - val_loss: 0.6284 - val_accuracy: 0.7602\b\b\b\b\b\b\b\b\b\b\b\b\b\b\b\b\b\b\b\b\b\b\b\b\b\b\b\b\b\b\b\b\b\b\b\b\b\b\nEpoch 40/70\n117/117 [==============================] - 0s 4ms/step - loss: 0.5450 - accuracy: 0.7948 - val_loss: 0.6199 - val_accuracy: 0.7671\b\b\b\b\b\b\b\b\b\b\b\b\b\b\b\b\b\b\b\b\b\b\b\b\b\b\b\b\b\b\b\b\b\b\b\b\b\b\nEpoch 41/70\n117/117 [==============================] - 0s 4ms/step - loss: 0.5450 - accuracy: 0.7914 - val_loss: 0.6190 - val_accuracy: 0.7650\b\b\b\b\b\b\b\b\b\b\b\b\b\b\b\b\b\b\b\b\b\b\b\b\b\b\b\b\b\b\b\b\b\b\b\b\b\b\nEpoch 42/70\n117/117 [==============================] - 0s 4ms/step - loss: 0.5400 - accuracy: 0.7948 - val_loss: 0.6210 - val_accuracy: 0.7628\b\b\b\b\b\b\b\b\b\b\b\b\b\b\b\b\b\b\b\b\b\b\b\b\b\b\b\b\b\b\b\b\b\b\b\b\b\b\nEpoch 43/70\n117/117 [==============================] - 0s 4ms/step - loss: 0.5270 - accuracy: 0.8012 - val_loss: 0.6200 - val_accuracy: 0.7671\b\b\b\b\b\b\b\b\b\b\b\b\b\b\b\b\b\b\b\b\b\b\b\b\b\b\b\b\b\b\b\b\b\b\b\b\b\b\nEpoch 44/70\n117/117 [==============================] - 0s 4ms/step - loss: 0.5245 - accuracy: 0.8011 - val_loss: 0.6164 - val_accuracy: 0.7687\b\b\b\b\b\b\b\b\b\b\b\b\b\b\b\b\b\b\b\b\b\b\b\b\b\b\b\b\b\b\b\b\b\b\b\b\b\b\nEpoch 45/70\n117/117 [==============================] - 0s 4ms/step - loss: 0.5191 - accuracy: 0.8008 - val_loss: 0.6145 - val_accuracy: 0.7687\b\b\b\b\b\b\b\b\b\b\b\b\b\b\b\b\b\b\b\b\b\b\b\b\b\b\b\b\b\b\b\b\b\b\b\b\b\b\nEpoch 46/70\n117/117 [==============================] - 0s 4ms/step - loss: 0.5107 - accuracy: 0.7992 - val_loss: 0.6131 - val_accuracy: 0.7682\b\b\b\b\b\b\b\b\b\b\b\b\b\b\b\b\b\b\b\b\b\b\b\b\b\b\b\b\b\b\b\b\b\b\b\b\b\b\nEpoch 47/70\n117/117 [==============================] - 0s 4ms/step - loss: 0.5182 - accuracy: 0.8037 - val_loss: 0.6098 - val_accuracy: 0.7703\b\b\b\b\b\b\b\b\b\b\b\b\b\b\b\b\b\b\b\b\b\b\b\b\b\b\b\b\b\b\b\b\b\b\b\b\b\b\nEpoch 48/70\n117/117 [==============================] - 0s 4ms/step - loss: 0.5031 - accuracy: 0.8075 - val_loss: 0.6141 - val_accuracy: 0.7687\b\b\b\b\b\b\b\b\b\b\b\b\b\b\b\b\b\b\b\b\b\b\b\b\b\b\b\b\b\b\b\b\b\b\b\b\b\b\nEpoch 49/70\n117/117 [==============================] - 0s 4ms/step - loss: 0.4908 - accuracy: 0.8143 - val_loss: 0.6086 - val_accuracy: 0.7709\b\b\b\b\b\b\b\b\b\b\b\b\b\b\b\b\b\b\b\b\b\b\b\b\b\b\b\b\b\b\b\b\b\b\b\b\b\b\nEpoch 50/70\n117/117 [==============================] - 0s 4ms/step - loss: 0.4869 - accuracy: 0.8146 - val_loss: 0.6109 - val_accuracy: 0.7703\b\b\b\b\b\b\b\b\b\b\b\b\b\b\b\b\b\b\b\b\b\b\b\b\b\b\b\b\b\b\b\b\b\b\b\b\b\b\nEpoch 51/70\n117/117 [==============================] - 0s 4ms/step - loss: 0.4770 - accuracy: 0.8205 - val_loss: 0.6086 - val_accuracy: 0.7725\b\b\b\b\b\b\b\b\b\b\b\b\b\b\b\b\b\b\b\b\b\b\b\b\b\b\b\b\b\b\b\b\b\b\b\b\b\b\nEpoch 52/70\n117/117 [==============================] - 0s 4ms/step - loss: 0.4940 - accuracy: 0.8106 - val_loss: 0.6094 - val_accuracy: 0.7719\b\b\b\b\b\b\b\b\b\b\b\b\b\b\b\b\b\b\b\b\b\b\b\b\b\b\b\b\b\b\b\b\b\b\b\b\b\b\nEpoch 53/70\n117/117 [==============================] - 0s 4ms/step - loss: 0.4787 - accuracy: 0.8218 - val_loss: 0.6091 - val_accuracy: 0.7698\b\b\b\b\b\b\b\b\b\b\b\b\b\b\b\b\b\b\b\b\b\b\b\b\b\b\b\b\b\b\b\b\b\b\b\b\b\b\nEpoch 54/70\n117/117 [==============================] - 0s 4ms/step - loss: 0.4841 - accuracy: 0.8187 - val_loss: 0.6091 - val_accuracy: 0.7703\b\b\b\b\b\b\b\b\b\b\b\b\b\b\b\b\b\b\b\b\b\b\b\b\b\b\b\b\b\b\b\b\b\b\b\b\b\b\nEpoch 55/70\n117/117 [==============================] - 0s 4ms/step - loss: 0.4775 - accuracy: 0.8161 - val_loss: 0.6132 - val_accuracy: 0.7709\b\b\b\b\b\b\b\b\b\b\b\b\b\b\b\b\b\b\b\b\b\b\b\b\b\b\b\b\b\b\b\b\b\b\b\b\b\b\nEpoch 56/70\n117/117 [==============================] - 0s 4ms/step - loss: 0.4576 - accuracy: 0.8228 - val_loss: 0.6080 - val_accuracy: 0.7719\b\b\b\b\b\b\b\b\b\b\b\b\b\b\b\b\b\b\b\b\b\b\b\b\b\b\b\b\b\b\b\b\b\b\b\b\b\b\nEpoch 57/70\n117/117 [==============================] - 0s 4ms/step - loss: 0.4548 - accuracy: 0.8242 - val_loss: 0.6123 - val_accuracy: 0.7687\b\b\b\b\b\b\b\b\b\b\b\b\b\b\b\b\b\b\b\b\b\b\b\b\b\b\b\b\b\b\b\b\b\b\b\b\b\b\nEpoch 58/70\n117/117 [==============================] - 0s 4ms/step - loss: 0.4476 - accuracy: 0.8309 - val_loss: 0.6156 - val_accuracy: 0.7736\b\b\b\b\b\b\b\b\b\b\b\b\b\b\b\b\b\b\b\b\b\b\b\b\b\b\b\b\b\b\b\b\b\b\b\b\b\b\nEpoch 59/70\n117/117 [==============================] - 0s 4ms/step - loss: 0.4538 - accuracy: 0.8282 - val_loss: 0.6217 - val_accuracy: 0.7687\b\b\b\b\b\b\b\b\b\b\b\b\b\b\b\b\b\b\b\b\b\b\b\b\b\b\b\b\b\b\b\b\b\b\b\b\b\b\nEpoch 60/70\n117/117 [==============================] - 0s 4ms/step - loss: 0.4492 - accuracy: 0.8299 - val_loss: 0.6146 - val_accuracy: 0.7709\b\b\b\b\b\b\b\b\b\b\b\b\b\b\b\b\b\b\b\b\b\b\b\b\b\b\b\b\b\b\b\b\b\b\b\b\b\b\nEpoch 61/70\n117/117 [==============================] - 0s 4ms/step - loss: 0.4491 - accuracy: 0.8273 - val_loss: 0.6141 - val_accuracy: 0.7719\b\b\b\b\b\b\b\b\b\b\b\b\b\b\b\b\b\b\b\b\b\b\b\b\b\b\b\b\b\b\b\b\b\b\b\b\b\b\nEpoch 62/70\n117/117 [==============================] - 0s 4ms/step - loss: 0.4405 - accuracy: 0.8343 - val_loss: 0.6149 - val_accuracy: 0.7789\b\b\b\b\b\b\b\b\b\b\b\b\b\b\b\b\b\b\b\b\b\b\b\b\b\b\b\b\b\b\b\b\b\b\b\b\b\b\nEpoch 63/70\n117/117 [==============================] - 0s 4ms/step - loss: 0.4407 - accuracy: 0.8363 - val_loss: 0.6118 - val_accuracy: 0.7714\b\b\b\b\b\b\b\b\b\b\b\b\b\b\b\b\b\b\b\b\b\b\b\b\b\b\b\b\b\b\b\b\b\b\b\b\b\b\nEpoch 64/70\n117/117 [==============================] - 0s 4ms/step - loss: 0.4399 - accuracy: 0.8292 - val_loss: 0.6135 - val_accuracy: 0.7682\b\b\b\b\b\b\b\b\b\b\b\b\b\b\b\b\b\b\b\b\b\b\b\b\b\b\b\b\b\b\b\b\b\b\b\b\b\b\nEpoch 65/70\n117/117 [==============================] - 0s 4ms/step - loss: 0.4225 - accuracy: 0.8383 - val_loss: 0.6183 - val_accuracy: 0.7741\b\b\b\b\b\b\b\b\b\b\b\b\b\b\b\b\b\b\b\b\b\b\b\b\b\b\b\b\b\b\b\b\b\b\b\b\b\b\nEpoch 66/70\n117/117 [==============================] - 0s 4ms/step - loss: 0.4214 - accuracy: 0.8399 - val_loss: 0.6178 - val_accuracy: 0.7773\b\b\b\b\b\b\b\b\b\b\b\b\b\b\b\b\b\b\b\b\b\b\b\b\b\b\b\b\b\b\b\b\b\b\b\b\b\b\nEpoch 67/70\n117/117 [==============================] - 0s 4ms/step - loss: 0.4079 - accuracy: 0.8473 - val_loss: 0.6090 - val_accuracy: 0.7746\b\b\b\b\b\b\b\b\b\b\b\b\b\b\b\b\b\b\b\b\b\b\b\b\b\b\b\b\b\b\b\b\b\b\b\b\b\b\nEpoch 68/70\n117/117 [==============================] - 0s 4ms/step - loss: 0.4042 - accuracy: 0.8450 - val_loss: 0.6206 - val_accuracy: 0.7693\b\b\b\b\b\b\b\b\b\b\b\b\b\b\b\b\b\b\b\b\b\b\b\b\b\b\b\b\b\b\b\b\b\b\b\b\b\b\nEpoch 69/70\n117/117 [==============================] - 0s 4ms/step - loss: 0.4129 - accuracy: 0.8422 - val_loss: 0.6148 - val_accuracy: 0.7730\b\b\b\b\b\b\b\b\b\b\b\b\b\b\b\b\b\b\b\b\b\b\b\b\b\b\b\b\b\b\b\b\b\b\b\b\b\b\nEpoch 70/70\n117/117 [==============================] - 0s 4ms/step - loss: 0.4162 - accuracy: 0.8431 - val_loss: 0.6133 - val_accuracy: 0.7768\b\b\b\b\b\b\b\b\b\b\b\b\b\b\b\b\b\b\b\b\b\b\b\b\b\b\b\b\b\b\b\b\b\b\b\b\b\b\n"
        }
      ],
      "execution_count": null,
      "metadata": {
        "jupyter": {
          "source_hidden": false,
          "outputs_hidden": false
        },
        "nteract": {
          "transient": {
            "deleting": false
          }
        },
        "gather": {
          "logged": 1690973570407
        },
        "id": "BaU3wJW56a4T",
        "outputId": "f10a1d78-a6de-498f-cdd5-54f3a0c1ea92"
      }
    },
    {
      "cell_type": "code",
      "source": [
        "F_vgg_normalized_test = normalize(vgg19_features_test, norm='l2', axis=1)\n"
      ],
      "outputs": [],
      "execution_count": null,
      "metadata": {
        "jupyter": {
          "source_hidden": false,
          "outputs_hidden": false
        },
        "nteract": {
          "transient": {
            "deleting": false
          }
        },
        "gather": {
          "logged": 1690973574755
        },
        "id": "BvcCRrzV6a4T"
      }
    },
    {
      "cell_type": "code",
      "source": [
        "# Accuracy\n",
        "test_loss, test_accuracy = fusion_model.evaluate(F_vgg_normalized_test, test_one_hot_labels)\n",
        "print(\"Test Accuracy:\", test_accuracy)\n",
        "\n",
        "# F1 Score\n",
        "test_predictions = fusion_model.predict(F_vgg_normalized_test)\n",
        "test_predictions_classes = np.argmax(test_predictions, axis=1)\n",
        "test_true_classes = np.argmax(test_one_hot_labels, axis=1)\n",
        "f1 = f1_score(test_true_classes, test_predictions_classes, average='weighted')\n",
        "print(\"F1 Score:\", f1)\n",
        "\n",
        "# AUC-ROC Score\n",
        "roc_auc = roc_auc_score(test_one_hot_labels, test_predictions, multi_class='ovr', average='weighted')\n",
        "print(\"AUC-ROC Score:\", roc_auc)"
      ],
      "outputs": [
        {
          "output_type": "stream",
          "name": "stdout",
          "text": "74/74 [==============================] - 0s 1ms/step - loss: 0.5869 - accuracy: 0.7809\b\b\b\b\b\b\b\b\b\b\b\b\b\b\b\b\b\b\b\b\b\b\b\b\b\b\b\b\b\b\b\b\b\b\b\b\b\b\b\b\b\b\b\b\b\b\b\b\b\b\b\b\b\b\b\b\b\b\b\b\b\b\b\b\b\b\b\b\b\b\b\b\b\b\b\b\b\b\nTest Accuracy: 0.7809156775474548\n74/74 [==============================] - 0s 1ms/step\b\b\b\b\b\b\b\b\b\b\b\b\b\b\b\b\b\b\b\b\b\b\b\b\b\b\b\b\b\b\b\b\b\b\b\b\b\b\b\b\b\b\b\b\nF1 Score: 0.7800426169252854\nAUC-ROC Score: 0.9652731302235874\n"
        }
      ],
      "execution_count": null,
      "metadata": {
        "jupyter": {
          "source_hidden": false,
          "outputs_hidden": false
        },
        "nteract": {
          "transient": {
            "deleting": false
          }
        },
        "gather": {
          "logged": 1690973579675
        },
        "id": "Mpo44mbq6a4T",
        "outputId": "0a7010cd-a5c0-4378-98fb-cf572a2bc3f4"
      }
    },
    {
      "cell_type": "code",
      "source": [
        "report = classification_report(test_true_classes, test_predictions_classes)\n",
        "print(report)"
      ],
      "outputs": [
        {
          "output_type": "stream",
          "name": "stdout",
          "text": "              precision    recall  f1-score   support\n\n           0       0.82      0.85      0.83       630\n           1       0.80      0.78      0.79       546\n           2       0.62      0.58      0.60       200\n           3       0.84      0.84      0.84       273\n           4       0.57      0.57      0.57       200\n           5       0.69      0.69      0.69       200\n           6       0.91      0.92      0.92       288\n\n    accuracy                           0.78      2337\n   macro avg       0.75      0.75      0.75      2337\nweighted avg       0.78      0.78      0.78      2337\n\n"
        }
      ],
      "execution_count": null,
      "metadata": {
        "jupyter": {
          "source_hidden": false,
          "outputs_hidden": false
        },
        "nteract": {
          "transient": {
            "deleting": false
          }
        },
        "gather": {
          "logged": 1690973585622
        },
        "id": "RComIEeW6a4U",
        "outputId": "37baa21c-1531-4306-f72b-66df4bdc1e3a"
      }
    }
  ],
  "metadata": {
    "kernelspec": {
      "name": "python310-sdkv2",
      "language": "python",
      "display_name": "Python 3.10 - SDK v2"
    },
    "language_info": {
      "name": "python",
      "version": "3.10.11",
      "mimetype": "text/x-python",
      "codemirror_mode": {
        "name": "ipython",
        "version": 3
      },
      "pygments_lexer": "ipython3",
      "nbconvert_exporter": "python",
      "file_extension": ".py"
    },
    "microsoft": {
      "ms_spell_check": {
        "ms_spell_check_language": "en"
      },
      "host": {
        "AzureML": {
          "notebookHasBeenCompleted": true
        }
      }
    },
    "kernel_info": {
      "name": "python310-sdkv2"
    },
    "nteract": {
      "version": "nteract-front-end@1.0.0"
    },
    "colab": {
      "provenance": []
    }
  },
  "nbformat": 4,
  "nbformat_minor": 0
}